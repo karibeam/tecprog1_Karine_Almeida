{
  "cells": [
    {
      "cell_type": "markdown",
      "metadata": {
        "id": "dDhJSUbSE6hI"
      },
      "source": [
        "# Lista de Exercícios de Numpy\n",
        "\n",
        "Deverá ser entrege até **11/02/2023** por meio do github que foi informado por vocês no [formulário](https://forms.office.com/r/YV12vEXGYF) respondido na aula de 01/02.\n",
        "\n",
        "A entrega pela github é parte da avaliação."
      ]
    },
    {
      "cell_type": "markdown",
      "metadata": {
        "id": "eX5x6-bjE6hN"
      },
      "source": [
        "## Questão 1\n",
        "\n",
        "Crie um array 100 com valores aleatórios e ache os valores máximo e mínimo"
      ]
    },
    {
      "cell_type": "code",
      "execution_count": 15,
      "metadata": {
        "id": "kYKS_ae1E6hP"
      },
      "outputs": [],
      "source": [
        "import numpy as np"
      ]
    },
    {
      "cell_type": "code",
      "source": [
        "arr = np.random.randint(0,100,100)\n",
        "arr"
      ],
      "metadata": {
        "colab": {
          "base_uri": "https://localhost:8080/"
        },
        "id": "jHFQLNPfiDIl",
        "outputId": "dc64dfcf-e41d-4fb2-cf34-cb55a36d52df"
      },
      "execution_count": 16,
      "outputs": [
        {
          "output_type": "execute_result",
          "data": {
            "text/plain": [
              "array([96, 90, 72, 75,  2, 56, 91, 17, 88, 53, 62, 75, 37, 93, 98, 33, 57,\n",
              "       88, 79, 86, 64, 19, 20, 82,  4, 71, 84, 54, 43, 76, 89,  5, 48, 31,\n",
              "        3,  6, 49, 24, 98, 25, 99,  3, 69,  7,  9, 13, 26, 46, 71, 46,  0,\n",
              "       68, 33, 38, 32,  3, 77, 11, 14, 69, 32, 12, 50, 56, 67, 77, 44, 72,\n",
              "       22, 76, 28, 70, 63, 87, 28, 58, 30, 73,  1, 99, 75, 54, 16, 64, 88,\n",
              "       50, 83, 17, 21, 32, 93, 56, 71, 68, 29, 91, 71, 32, 52, 56])"
            ]
          },
          "metadata": {},
          "execution_count": 16
        }
      ]
    },
    {
      "cell_type": "code",
      "source": [
        "arr.max()"
      ],
      "metadata": {
        "colab": {
          "base_uri": "https://localhost:8080/"
        },
        "id": "cCQu2gRYjBH9",
        "outputId": "e09bcb2f-3ea1-4b9b-c897-b7038faa3290"
      },
      "execution_count": 18,
      "outputs": [
        {
          "output_type": "execute_result",
          "data": {
            "text/plain": [
              "99"
            ]
          },
          "metadata": {},
          "execution_count": 18
        }
      ]
    },
    {
      "cell_type": "code",
      "source": [
        "arr.min()"
      ],
      "metadata": {
        "colab": {
          "base_uri": "https://localhost:8080/"
        },
        "id": "SE_L-KQhjbzL",
        "outputId": "89251ef7-a0f7-4600-de03-b46235d2edf0"
      },
      "execution_count": 20,
      "outputs": [
        {
          "output_type": "execute_result",
          "data": {
            "text/plain": [
              "0"
            ]
          },
          "metadata": {},
          "execution_count": 20
        }
      ]
    },
    {
      "cell_type": "markdown",
      "metadata": {
        "id": "qT9pSHp4E6hQ"
      },
      "source": [
        "## Questão 2\n",
        "Em Geometria Analítica, um **vetor** é uma quantidade que pode ser definida por um énuplo (uma sequência ordenada de *n* elementos) em que cada elemento representa a intensidade do vetor na direção especificada pela i-ésima componente desta sequência. \n",
        "\n",
        "Quando pensamos em duas dimensões, por exemplo, o vetor $R = (b,a)$ define, geometricamente, a entidade representada na figura abaixo, com componentes nos eixos x e y usuais.\n",
        "\n",
        "<img src = \"https://static.todamateria.com.br/upload/im/ag/image-721.jpg?auto_optimize=low\" />\n",
        "\n",
        "O **módulo** deste vetor, também chamado de intensidade, está geometricamente relacionado ao seu comprimento, e pode ser calculado diretamente pelas suas componentes, por meio de uma operação conhecida como **produto escalar** do vetor com ele mesmo. O módulo quadrático é expresso, desta forma, por:\n",
        "\n",
        "$|A|^2 = \\vec{A} \\cdot \\vec{A}$\n",
        "\n",
        "Por outro lado, o produto escalar entre dois vetores $A = (a_{x}, a_{y})$ e $B = (b_{x}, b_{y})$ é dado por:\n",
        "\n",
        "$\\vec{A} \\cdot \\vec{B} = a_{x} \\times b_{x} + a_{y} \\times b_{y}$ (e esta definição vale para qualquer que seja a dimensão do vetor).\n",
        "\n",
        "O módulo quadrático de um vetor é, portanto:\n",
        "\n",
        "$|A|² = a_{x}^2 + b_{x}^2$."
      ]
    },
    {
      "cell_type": "markdown",
      "metadata": {
        "id": "-ZU6W86sE6hT"
      },
      "source": [
        "Dado o exposto acima, escreva uma função que retorne o módulo de um vetor n-dimensional qualquer."
      ]
    },
    {
      "cell_type": "code",
      "execution_count": null,
      "metadata": {
        "id": "cjJ5mQGvh0R2"
      },
      "outputs": [],
      "source": [
        "import numpy as np"
      ]
    },
    {
      "cell_type": "code",
      "source": [
        "def modulo_vetor(vetor):\n",
        "  soma_quad = 0\n",
        "  for i in range(vetor.shape[0]):\n",
        "    soma_quad += vetor[i]**2\n",
        "  modulo = np.sqrt(soma_quad)\n",
        "  return modulo"
      ],
      "metadata": {
        "id": "ZAcXaVy9uq0f"
      },
      "execution_count": 49,
      "outputs": []
    },
    {
      "cell_type": "markdown",
      "metadata": {
        "id": "CRZdfzLgE6hU"
      },
      "source": [
        "## Questão 3\n",
        "\n",
        "Em uma **análise de regressão**, usualmente estamos interessados em descrever relações entre variáveis de um dado conjunto de dados por meio de uma **função** que descreva, o tanto quanto possível, estas relações.\n",
        "\n",
        "Por exemplo, no gráfico abaixo, os pontos vermelhos relacionam as medidas das duas variáveis sendo avaliadas (nos eixos x e y); e a linha azul aproxima a relação entre elas por uma função linear."
      ]
    },
    {
      "cell_type": "markdown",
      "metadata": {
        "id": "180Vp7AZE6hV"
      },
      "source": [
        "![Normdist_regression.png](https://miro.medium.com/v2/resize:fit:786/format:webp/1*LEmBCYAttxS6uI6rEyPLMQ.png)"
      ]
    },
    {
      "cell_type": "markdown",
      "metadata": {
        "id": "oQ1RFXOAE6hV"
      },
      "source": [
        "É possível ver que nem todos os pontos obedecem exatamente à relação ditada pela reta (isto é, há pontos que não estão exatamente \"sobre a reta\"; mas, sim, ligeraimente acima, ou abaixo, dela). Isto, contudo, é esperado em um modelo de regressão, por inúmeras fontes de incerteza associadas às medições."
      ]
    },
    {
      "cell_type": "markdown",
      "metadata": {
        "id": "XGWoc_O2E6hW"
      },
      "source": [
        "Uma das métricas que utilizamos para avaliar a qualidade de uma regressão é o **erro quadrático médio (EQM)**, que mensura a diferença total entre cada predição da regressão ($y_{prediction}$; que no nosso caso seriam os valores de y para a reta azul) com o valor real de cada i-ésima medida ($y_{i}$; que no nosso caso seriam as coordenadas y para cada ponto vermelho do gráfico). O EQM pode ser definido como:"
      ]
    },
    {
      "cell_type": "markdown",
      "metadata": {
        "id": "CjgOdTD6E6hX"
      },
      "source": [
        "$EQM = \\frac{1}{n}\\sum_{i=1}^{n}(y_{prediction} - y_{i})^2$."
      ]
    },
    {
      "cell_type": "markdown",
      "metadata": {
        "id": "qeXCrbmbE6hY"
      },
      "source": [
        "Isto posto, escreva uma função que calcule o EQM recebendo, como entrada, os vetores $y_{prediction}$ e $y_{i}$. Por exemplo, digamos que sua função se chame *calculate_eqm*, ela deve operar da seguinte forma:"
      ]
    },
    {
      "cell_type": "markdown",
      "metadata": {
        "id": "-xA3CCM2h0R7"
      },
      "source": [
        "```python\n",
        "\n",
        "# dados dois arrays quaisquer de mesmo tamanho, a função deve retornar o EQM\n",
        "y_prediction = np.array([1,2,3])\n",
        "y_i = np.array([0,0,3])\n",
        "calculate_eqm(y_prediction,y_i)\n",
        "\n",
        ">>> 1.6666666666666665\n",
        "\n",
        "```"
      ]
    },
    {
      "cell_type": "code",
      "source": [
        "def eqm(y_prediction, y_i):\n",
        "  qd_diff = 0\n",
        "  fator = 1/(y_prediction.size)\n",
        "  for i in range(y_prediction.shape[0]):\n",
        "    qd_diff += (y_prediction[i] - y_i[i])**2\n",
        "  return fator*qd_diff\n"
      ],
      "metadata": {
        "id": "GYL-ABcWyb_v"
      },
      "execution_count": 35,
      "outputs": []
    },
    {
      "cell_type": "code",
      "source": [
        "y_prediction = np.array([1,2,3])\n",
        "y_i = np.array([0,0,3])\n",
        "\n",
        "eqm(y_prediction, y_i)"
      ],
      "metadata": {
        "colab": {
          "base_uri": "https://localhost:8080/"
        },
        "id": "rHggxsJz0Vh-",
        "outputId": "6316486f-3010-4726-9ba4-8040fbecc10d"
      },
      "execution_count": 36,
      "outputs": [
        {
          "output_type": "execute_result",
          "data": {
            "text/plain": [
              "1.6666666666666665"
            ]
          },
          "metadata": {},
          "execution_count": 36
        }
      ]
    },
    {
      "cell_type": "markdown",
      "metadata": {
        "id": "Wh0_a8PjE6hc"
      },
      "source": [
        "## Questão 4\n",
        "\n",
        "Crie um array 2D (bidimensional) com 1 na borda e 0 dentro"
      ]
    },
    {
      "cell_type": "code",
      "source": [
        "def array_101(linha, coluna):\n",
        "  matriz = (linha, coluna)\n",
        "  borda = np.zeros(matriz)\n",
        "  borda[:,0] = 1\n",
        "  borda[0,:] = 1\n",
        "  borda[-1,:] = 1\n",
        "  borda[:,-1] = 1\n",
        "\n",
        "  return borda\n",
        "\n",
        "array_101(12,6)"
      ],
      "metadata": {
        "colab": {
          "base_uri": "https://localhost:8080/"
        },
        "id": "xwR8ev0cxmjA",
        "outputId": "eedf96b0-db2f-4c15-efea-5d7d57cda035"
      },
      "execution_count": 24,
      "outputs": [
        {
          "output_type": "execute_result",
          "data": {
            "text/plain": [
              "array([[1., 1., 1., 1., 1., 1.],\n",
              "       [1., 0., 0., 0., 0., 1.],\n",
              "       [1., 0., 0., 0., 0., 1.],\n",
              "       [1., 0., 0., 0., 0., 1.],\n",
              "       [1., 0., 0., 0., 0., 1.],\n",
              "       [1., 0., 0., 0., 0., 1.],\n",
              "       [1., 0., 0., 0., 0., 1.],\n",
              "       [1., 0., 0., 0., 0., 1.],\n",
              "       [1., 0., 0., 0., 0., 1.],\n",
              "       [1., 0., 0., 0., 0., 1.],\n",
              "       [1., 0., 0., 0., 0., 1.],\n",
              "       [1., 1., 1., 1., 1., 1.]])"
            ]
          },
          "metadata": {},
          "execution_count": 24
        }
      ]
    },
    {
      "cell_type": "markdown",
      "metadata": {
        "id": "U1CntgkZE6hc"
      },
      "source": [
        "## Questão 5\n",
        "\n",
        "Como adicionar uma borda de 0's ao redor de um array 2D (bidimensional) existente"
      ]
    },
    {
      "cell_type": "code",
      "source": [],
      "metadata": {
        "id": "G3U2_Qxz0nCA"
      },
      "execution_count": null,
      "outputs": []
    },
    {
      "cell_type": "markdown",
      "metadata": {
        "id": "qHh149eAE6hd"
      },
      "source": [
        "## Questão 6\n",
        "\n",
        " A eletroencefalografia (EEG) é uma técnica que mensura potenciais elétricos cerebrais em diversas regiões do escalpo do paciente. Suponha que você recebeu um conjunto de dados na forma de uma matriz de 64 x 512 elementos, em que cada linha contém o sinal gravado em um dos **eletrodos** espalhados pelo escalpo em um exame de EEG, e cada coluna contém um valor de potencial elétrico, em microvolts. "
      ]
    },
    {
      "cell_type": "markdown",
      "metadata": {
        "id": "BRDY8u09E6hd"
      },
      "source": [
        "Como o sinal de EEG é muito suscetível a ruídos externos (interferências na qualidade do sinal), uma operação comum para atenuar a interferência no sinal consiste em tirar a média do potencial elétrico de todos os eletrodos, e subtrair este valor de cada um deles. Isto atenua fontes de ruído ao sinal comuns a todos os eletrodos. Em termos matemáticos, o sinal processado por esta operação, $X_{e,i}$ para cada eletrodo (e) e amostra (i), é dado por:"
      ]
    },
    {
      "cell_type": "markdown",
      "metadata": {
        "id": "NHLeT5deE6he"
      },
      "source": [
        "$X_{e,i} = \\hat{X_{e,i}} - \\frac{1}{N}\\sum_{e=1}^{N}\\hat{X_{e,i}}$,\n",
        "\n",
        "em que $\\hat{X_{e,i}}$ representa o sinal original (ou seja, é a matriz de entrada de 64 x 512 elementos), e $N$ indica o total de eletrodos."
      ]
    },
    {
      "cell_type": "markdown",
      "metadata": {
        "id": "ToiE-omdE6he"
      },
      "source": [
        "Com o exposto acima, escreva uma função que retorne uma matriz com os sinais de EEG processados conforme a operação mencionada. Sua função deve operar conforme o exemplo abaixo."
      ]
    },
    {
      "cell_type": "markdown",
      "metadata": {
        "id": "PO2MbxuPh0R8"
      },
      "source": [
        "```python\n",
        "\n",
        "# vamos supor uma matriz de entrada gerada por dados aleatórios\n",
        "X = np.random.randn(64,512)\n",
        "X.shape # apenas para verificar as dimensões\n",
        ">>> (64, 512)\n",
        "\n",
        "# a função deve executar a operação equacionada anteriormente, retornando uma nova matriz\n",
        "X_processado = process_EEG_signal(X)\n",
        "X_processado.shape\n",
        ">>> (64, 512)\n",
        "\n",
        "# Somando as diferenças entre cada elemento das duas matrizes, apenas para ilustrar que elas não são iguais\n",
        "(X_processado - X).sum()\n",
        ">>> -53.08727366483029\n",
        "\n",
        "# Visualizando as matrizes, para verificar uma vez mais que, de fato, os elementos são diferentes\n",
        "X\n",
        ">>> array([[ 0.29305925,  0.89663038, -0.61032202, ..., -0.88086364,\n",
        "        -0.8818789 ,  0.51260497],\n",
        "       [-0.01274415,  1.05439522,  0.47958092, ..., -2.15387924,\n",
        "         0.70721168,  0.97029889],\n",
        "       [ 1.09478371, -0.16120847,  1.58400361, ...,  0.20981813,\n",
        "         2.17373837,  0.94032162],\n",
        "       ...,\n",
        "       [-0.45294842, -2.28939505,  1.10111998, ...,  1.63581703,\n",
        "        -0.39394924, -1.13400723],\n",
        "       [-0.22669886,  0.25413429, -1.17870637, ..., -0.09509442,\n",
        "         0.90733806,  0.37999411],\n",
        "       [ 0.15476933, -0.03654717, -1.09982762, ...,  0.67600047,\n",
        "        -0.84533328, -0.56433144]])\n",
        "\n",
        "# Matriz após o processamento descrito no enunciado\n",
        "X_processado\n",
        "\n",
        ">>> array([[ 0.36713022,  0.85772513, -0.54902169, ..., -0.85626087,\n",
        "        -0.97611435,  0.51718998],\n",
        "       [ 0.06132682,  1.01548997,  0.54088126, ..., -2.12927647,\n",
        "         0.61297623,  0.97488389],\n",
        "       [ 1.16885469, -0.20011372,  1.64530394, ...,  0.23442091,\n",
        "         2.07950292,  0.94490663],\n",
        "       ...,\n",
        "       [-0.37887744, -2.3283003 ,  1.16242031, ...,  1.6604198 ,\n",
        "        -0.4881847 , -1.12942223],\n",
        "       [-0.15262788,  0.21522904, -1.11740604, ..., -0.07049164,\n",
        "         0.81310261,  0.38457911],\n",
        "       [ 0.22884031, -0.07545242, -1.03852729, ...,  0.70060324,\n",
        "        -0.93956874, -0.55974643]])\n",
        "\n",
        "```"
      ]
    },
    {
      "cell_type": "code",
      "execution_count": 37,
      "metadata": {
        "id": "OlxjvCnQE6hj"
      },
      "outputs": [],
      "source": [
        "# Solução\n",
        "def matriz_retorno(matriz):\n",
        "  media = matriz.sum()/matriz.size\n",
        "  print(media)\n",
        "  matriz_2 = matriz - media\n",
        "  return matriz_2"
      ]
    },
    {
      "cell_type": "markdown",
      "metadata": {
        "id": "7Gy6nTwQE6hj"
      },
      "source": [
        "## Questão 7\n",
        "\n",
        "Em estatística, um **outlier** é um valor que destoa consideravelmente da distribuição à qual está associado. Um dos critérios para idenficar outliers consiste em encontrar a **distância interquantil** (IQR), ou seja, a diferença entre o terceiro (Q3) e o primeiro quartis (Q1) da distribuição, e tomar como outliers todos os pontos abaixo do Limite Inferior (LI = Q1 - 1.5*IQR  ), ou acima do Limite Superior (LS = Q3 + 1.5*IQR)."
      ]
    },
    {
      "cell_type": "markdown",
      "metadata": {
        "id": "Zwn6Uht9h0R8"
      },
      "source": [
        "![image.png](https://s3-sa-east-1.amazonaws.com/lcpi/0d8a7b04-b982-4e6b-9fc7-fbb062247d8d.png)\n"
      ]
    },
    {
      "cell_type": "markdown",
      "metadata": {
        "id": "CP-NkMHTE6hk"
      },
      "source": [
        "<img src = \"https://blog.curso-r.com/images/posts/banner/outlier.webp\" />"
      ]
    },
    {
      "cell_type": "markdown",
      "metadata": {
        "id": "BLDJN5JPE6hk"
      },
      "source": [
        "Escreva uma função que, dada uma matriz de dados de entrada de dimensões $N_{observações} \\times N_{features}$ retorne três requisitos: \n",
        "- uma matriz booleana indicando a existência de outliers nos dados de entrada;\n",
        "- a quantidade de outliers\n",
        "- quem são os outliers (os valores)."
      ]
    },
    {
      "cell_type": "markdown",
      "metadata": {
        "id": "wwVcP2uZE6hl"
      },
      "source": [
        "**Algumas definições:**\n",
        "- um *quantil* divide a distribuição, após ordenados os pontos, segundo algum ponto de corte;\n",
        "- o **primeiro quartil** é o ponto para o qual 25 % dos valores da distribuição estão abaixo dele;\n",
        "- o **terceiro quartil** é o ponto para o qual 75 % dos valores da distribuição estão abaixo dele.\n",
        "\n",
        "Pode ser útil consultar a função **numpy.quantile**."
      ]
    },
    {
      "cell_type": "markdown",
      "metadata": {
        "id": "C9nCKXhjE6hm"
      },
      "source": [
        "Exemplo de operação da função:"
      ]
    },
    {
      "cell_type": "markdown",
      "metadata": {
        "id": "jDvqpw8Nh0R9"
      },
      "source": [
        "```python\n",
        "# Geremos um conjunto de dados qualquer\n",
        "X = np.random.randn(300,15)\n",
        "X\n",
        "\n",
        ">>> array([[-2.02108952,  0.57945921, -2.23074965, ..., -0.60349514,\n",
        "         0.92180452, -0.15625722],\n",
        "       [ 0.24904397,  0.03493447,  0.3515052 , ..., -0.46950081,\n",
        "         0.20361331,  0.02715956],\n",
        "       [ 0.55902525, -0.48435434,  0.90413414, ..., -0.54425743,\n",
        "        -0.80769134, -0.07912549],\n",
        "       ...,\n",
        "       [-1.04069388, -0.24245725, -2.00308877, ...,  0.4084777 ,\n",
        "        -1.81516131,  0.39063118],\n",
        "       [-1.39275097,  0.3989636 ,  0.2926223 , ...,  1.2620666 ,\n",
        "         0.72262949,  1.50737559],\n",
        "       [ 0.15922011, -0.79810788, -1.60939896, ..., -0.08214499,\n",
        "        -0.13167475,  0.15990558]])\n",
        "\n",
        "\n",
        "# identificamos os requisitos com nossa com nossa função \"locate_outliers\"\n",
        "is_outlier, outliers_count, outliers = locate_outliers(X)\n",
        "\n",
        "is_outlier\n",
        ">>> array([[False, False, False, ..., False, False, False],\n",
        "       [False, False, False, ..., False, False, False],\n",
        "       [False, False, False, ..., False, False, False],\n",
        "       ...,\n",
        "       [False, False, False, ..., False, False, False],\n",
        "       [False, False, False, ..., False, False, False],\n",
        "       [False, False, False, ..., False, False, False]])\n",
        "\n",
        "outliers_count\n",
        ">>> 44\n",
        "\n",
        "outliers\n",
        ">>> array([-2.67240384,  3.00270904,  3.62317101,  3.18867865,  2.55581522,\n",
        "       -2.82091429,  2.8757892 ,  2.70666036,  3.19514999, -3.40550318,\n",
        "       -3.39825827,  2.6727295 ,  2.54498296, -2.69447104,  3.19521603,\n",
        "        2.66372172, -2.77444948,  2.77421152,  2.69992869, -2.84831109,\n",
        "       -2.83695779, -2.45908227,  3.07802106,  2.89314015, -2.68574682,\n",
        "       -2.85019494,  2.43399574,  2.44291266, -2.92595937, -2.95911074,\n",
        "       -3.03966003,  2.77543068, -2.67368414, -2.79965402, -3.0501958 ,\n",
        "       -2.5437387 ,  3.08550649, -3.17666255, -3.05795476, -3.09826467,\n",
        "        3.1399469 ,  3.18141942,  2.90564257, -2.89505054])\n",
        "\n",
        " ``` "
      ]
    },
    {
      "cell_type": "code",
      "execution_count": null,
      "metadata": {
        "id": "AdTkst5UE6hq"
      },
      "outputs": [],
      "source": [
        "# Solução\n"
      ]
    },
    {
      "cell_type": "markdown",
      "metadata": {
        "id": "upNDn96PE6hq"
      },
      "source": [
        "## Questão 8\n",
        "\n",
        "Crie um vetor com valores que vão de 1 até 21 de dois em dois, a partir da função arange"
      ]
    },
    {
      "cell_type": "code",
      "execution_count": 40,
      "metadata": {
        "id": "w4d14JRZE6hr",
        "colab": {
          "base_uri": "https://localhost:8080/"
        },
        "outputId": "2b73d212-6aab-47f7-e934-ed16e56e43e1"
      },
      "outputs": [
        {
          "output_type": "execute_result",
          "data": {
            "text/plain": [
              "array([ 1,  3,  5,  7,  9, 11, 13, 15, 17, 19, 21])"
            ]
          },
          "metadata": {},
          "execution_count": 40
        }
      ],
      "source": [
        "np.arange(1, 22, 2)"
      ]
    },
    {
      "cell_type": "markdown",
      "metadata": {
        "id": "SchEY1O7E6hr"
      },
      "source": [
        "## Questão 9\n",
        "\n",
        "Crie um array de 10 com valores aleatórios"
      ]
    },
    {
      "cell_type": "code",
      "execution_count": 44,
      "metadata": {
        "id": "MYpySePjE6hs",
        "colab": {
          "base_uri": "https://localhost:8080/"
        },
        "outputId": "53eb8c3a-a33e-4056-d1c1-f279f5659cf7"
      },
      "outputs": [
        {
          "output_type": "execute_result",
          "data": {
            "text/plain": [
              "array([0.23794713, 0.83506345, 0.24725663, 0.69205698, 0.15113267,\n",
              "       0.61857101, 0.68247011, 0.0910442 , 0.23349011, 0.40262186])"
            ]
          },
          "metadata": {},
          "execution_count": 44
        }
      ],
      "source": [
        "arry = np.random.rand(10)\n",
        "arry"
      ]
    },
    {
      "cell_type": "markdown",
      "metadata": {
        "id": "EFfvM6LIAlfJ"
      },
      "source": [
        "## Questão 10\n",
        "\n",
        "Em estatística, a normalização de uma distribuição de dados pode ser feita subtraindo o valor médio da distribuição de cada valor do conjunto de dados, dividindo o resultado pelo desvio-padrão da distribuição. Escreva uma função que normalize os dados recebidos por um array numpy qualquer, conforme descrito anteriormente."
      ]
    },
    {
      "cell_type": "code",
      "execution_count": 47,
      "metadata": {
        "id": "yfho2bziAlfJ"
      },
      "outputs": [],
      "source": [
        "def normalizacao(X):\n",
        "  media = X.mean()\n",
        "  desv_p = X.std()\n",
        "  norm = (X - media)/desv_p\n",
        "  return norm"
      ]
    },
    {
      "cell_type": "markdown",
      "metadata": {
        "id": "p60_N7ZwAlfK"
      },
      "source": [
        "## Questão 11\n",
        "\n",
        "Escreva uma função em numpy que receba um array contendo notas de uma turma de 100 estudantes. Considere que a nota de aprovação da turma é 5.0. A função deve retornar, em um array numpy, nesta ordem:\n",
        "- a média e o desvio-padrão das notas da turma;\n",
        "- o número de notas maiores que 7.0;\n",
        "- o número de reprovações da turma;\n",
        "- a menor nota da turma;\n",
        "- a maior nota da turma."
      ]
    },
    {
      "cell_type": "code",
      "execution_count": 46,
      "metadata": {
        "id": "Q3wkBCFtAlfK"
      },
      "outputs": [],
      "source": [
        "def notas_turma(notas):\n",
        "  desvio = notas.std()\n",
        "  media = notas.mean()\n",
        "  menor_nota = notas.min()\n",
        "  maior_nota = notas.max()\n",
        "  maiores_7 = 0\n",
        "  reprovados = 0\n",
        "  \n",
        "  for i in notas:\n",
        "    if i > 7:\n",
        "      notas_maiores += 1\n",
        "    elif i < 5:\n",
        "      reprovados += 1\n",
        "      \n",
        "  return np.array([desvio, media, menor_nota, maior_nota, maiores_7, reprovados])"
      ]
    }
  ],
  "metadata": {
    "colab": {
      "provenance": []
    },
    "kernelspec": {
      "display_name": "SUZANO-TECPROG1",
      "language": "python",
      "name": "python3"
    },
    "language_info": {
      "codemirror_mode": {
        "name": "ipython",
        "version": 3
      },
      "file_extension": ".py",
      "mimetype": "text/x-python",
      "name": "python",
      "nbconvert_exporter": "python",
      "pygments_lexer": "ipython3",
      "version": "3.10.6"
    },
    "orig_nbformat": 4,
    "vscode": {
      "interpreter": {
        "hash": "38d4061a99e7c6638a090ce08c14a66640e6088dc5ef74a7f33c8fdd952ca81d"
      }
    }
  },
  "nbformat": 4,
  "nbformat_minor": 0
}