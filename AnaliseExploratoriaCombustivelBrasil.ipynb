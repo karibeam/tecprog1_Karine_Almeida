{
  "nbformat": 4,
  "nbformat_minor": 0,
  "metadata": {
    "colab": {
      "provenance": [],
      "include_colab_link": true
    },
    "kernelspec": {
      "name": "python3",
      "display_name": "Python 3"
    },
    "language_info": {
      "name": "python"
    }
  },
  "cells": [
    {
      "cell_type": "markdown",
      "metadata": {
        "id": "view-in-github",
        "colab_type": "text"
      },
      "source": [
        "<a href=\"https://colab.research.google.com/github/karibeam/tecprog1_Karine_Almeida/blob/main/AnaliseExploratoriaCombustivelBrasil.ipynb\" target=\"_parent\"><img src=\"https://colab.research.google.com/assets/colab-badge.svg\" alt=\"Open In Colab\"/></a>"
      ]
    },
    {
      "cell_type": "markdown",
      "source": [
        "#Analise exploratória de Combustível no Brasil\n",
        "\n",
        "---\n",
        "\n",
        "Autores: \n",
        "  - Carlos Magno Dias\n",
        "  - Karine Almeida\n",
        "  - Luana Jaime Tocchio\n",
        "  - Moroni Bora\n",
        "  - Vitor Rodrigues\n",
        "\n",
        "e-mails: \n",
        "  - carlosmagdias@gmail.com\n",
        "  - almeida.karinealves@gmail.com\n",
        "  - luanatocchio@gmail.com\n",
        "  - moronibora@gmail.com\n",
        "  - vitorfbaiano@gmail.com \n",
        "\n",
        "---"
      ],
      "metadata": {
        "id": "vTsNoU6MiwQn"
      }
    },
    {
      "cell_type": "markdown",
      "source": [
        "## 1.Introdução\n",
        "\n",
        "AAAAA"
      ],
      "metadata": {
        "id": "wDMKIFvijdcZ"
      }
    },
    {
      "cell_type": "markdown",
      "source": [
        "## 2.Objetivos"
      ],
      "metadata": {
        "id": "0TSCFlbvjlcZ"
      }
    },
    {
      "cell_type": "markdown",
      "source": [
        "### 2.1. Objetivo Geral:\n",
        "  Acompanhar a evolução de preços médios de (produto 1) e (produto 2) ao longo da série temporal de 2004 a 2021."
      ],
      "metadata": {
        "id": "gjPZ9Yx8f6x5"
      }
    },
    {
      "cell_type": "markdown",
      "source": [
        "### 2.2. Objetivos Específicos:\n",
        "Como é a evolução de preços desses produtos em escala nacional?\n",
        "\n",
        "Como é a evolução de preços desses produtos em escala regional?\n",
        "\n",
        "Como é a evolução de preços desses produtos em escala estadual (uma região)?\n",
        "\n",
        "A partir dessas análises, o que muda? Qual região/estado tem maior variação de preços médios? Preço médio min e max?\n",
        "\n",
        "Nas variações apresentadas, quais as possíveis sugestões para um aumento/diminuição?"
      ],
      "metadata": {
        "id": "vLejxmBBgDdl"
      }
    },
    {
      "cell_type": "markdown",
      "source": [
        "## 3.Preparação e Limpeza de Dados"
      ],
      "metadata": {
        "id": "ukUxsF69jrcR"
      }
    },
    {
      "cell_type": "markdown",
      "source": [
        "### 3.1. Leitura dos Dados"
      ],
      "metadata": {
        "id": "H7KE8EygfQSK"
      }
    },
    {
      "cell_type": "markdown",
      "source": [
        "Primeiro foi realizada a leitura do dataset, que está alocado em um repositório pessoal do GitHub; e importadas as bibliotecas necessárias."
      ],
      "metadata": {
        "id": "tb7JOCcgoLkd"
      }
    },
    {
      "cell_type": "code",
      "source": [
        "url_gas_tsv = 'https://raw.githubusercontent.com/MoroniMenesses/tec_prog1_Moroni_Bora/main/2004-2021.tsv'"
      ],
      "metadata": {
        "id": "VMOCqshliRxu"
      },
      "execution_count": null,
      "outputs": []
    },
    {
      "cell_type": "markdown",
      "source": [
        "A princípio as bibliotecas utilizadas foram: NumPy e Pandas.\n"
      ],
      "metadata": {
        "id": "yrF7axzVecQ-"
      }
    },
    {
      "cell_type": "code",
      "execution_count": null,
      "metadata": {
        "id": "3RUCeK0Wn4vR"
      },
      "outputs": [],
      "source": [
        "import pandas as pd\n",
        "import numpy as np"
      ]
    },
    {
      "cell_type": "markdown",
      "source": [
        "A leitura do *dataset* se deu através do comando **pd.read_csv**, utilizando a variável com o link do *dataset* como parâmetro e tendo como separador a tabulação, uma vez que se trata de um arquivo do tipo **.tsv**.\n",
        "\n",
        "Abaixo está presente as primeiras cinco linhas do *dataset*, no qual é possível visualizar a estrutura e disposição dos dados de forma crua (sem tratamento)."
      ],
      "metadata": {
        "id": "EujhWAj5ngwI"
      }
    },
    {
      "cell_type": "code",
      "source": [
        "dataset_gas=pd.read_csv(url_gas_tsv,sep='\\t')\n",
        "dataset_gas.head()"
      ],
      "metadata": {
        "id": "UmJJu8ocogbj",
        "colab": {
          "base_uri": "https://localhost:8080/",
          "height": 389
        },
        "outputId": "6f9c5b1e-6f87-49aa-945d-be1074b9dbd0"
      },
      "execution_count": null,
      "outputs": [
        {
          "output_type": "execute_result",
          "data": {
            "text/plain": [
              "  DATA INICIAL  DATA FINAL        REGIÃO              ESTADO  \\\n",
              "0   2004-05-09  2004-05-15  CENTRO OESTE    DISTRITO FEDERAL   \n",
              "1   2004-05-09  2004-05-15  CENTRO OESTE               GOIAS   \n",
              "2   2004-05-09  2004-05-15  CENTRO OESTE         MATO GROSSO   \n",
              "3   2004-05-09  2004-05-15  CENTRO OESTE  MATO GROSSO DO SUL   \n",
              "4   2004-05-09  2004-05-15      NORDESTE             ALAGOAS   \n",
              "\n",
              "            PRODUTO  NÚMERO DE POSTOS PESQUISADOS UNIDADE DE MEDIDA  \\\n",
              "0  ETANOL HIDRATADO                           127              R$/l   \n",
              "1  ETANOL HIDRATADO                           387              R$/l   \n",
              "2  ETANOL HIDRATADO                           192              R$/l   \n",
              "3  ETANOL HIDRATADO                           162              R$/l   \n",
              "4  ETANOL HIDRATADO                           103              R$/l   \n",
              "\n",
              "   PREÇO MÉDIO REVENDA  DESVIO PADRÃO REVENDA  PREÇO MÍNIMO REVENDA  \\\n",
              "0                1.288                  0.016                  1.19   \n",
              "1                1.162                  0.114                  0.89   \n",
              "2                1.389                  0.097                  1.18   \n",
              "3                1.262                  0.070                  1.09   \n",
              "4                1.181                  0.078                  1.05   \n",
              "\n",
              "   PREÇO MÁXIMO REVENDA MARGEM MÉDIA REVENDA  COEF DE VARIAÇÃO REVENDA  \\\n",
              "0                 1.350                0.463                     0.012   \n",
              "1                 1.449                0.399                     0.098   \n",
              "2                 1.760                0.419                     0.070   \n",
              "3                 1.509                0.432                     0.055   \n",
              "4                 1.400                 0.24                     0.066   \n",
              "\n",
              "  PREÇO MÉDIO DISTRIBUIÇÃO DESVIO PADRÃO DISTRIBUIÇÃO  \\\n",
              "0                    0.825                       0.11   \n",
              "1                    0.763                      0.088   \n",
              "2                     0.97                      0.095   \n",
              "3                     0.83                      0.119   \n",
              "4                    0.941                      0.077   \n",
              "\n",
              "  PREÇO MÍNIMO DISTRIBUIÇÃO PREÇO MÁXIMO DISTRIBUIÇÃO  \\\n",
              "0                    0.4201                    0.9666   \n",
              "1                    0.5013                      1.05   \n",
              "2                    0.5614                     1.161   \n",
              "3                    0.5991                   1.22242   \n",
              "4                    0.7441                    1.0317   \n",
              "\n",
              "  COEF DE VARIAÇÃO DISTRIBUIÇÃO  \n",
              "0                         0.133  \n",
              "1                         0.115  \n",
              "2                         0.098  \n",
              "3                         0.143  \n",
              "4                         0.082  "
            ],
            "text/html": [
              "\n",
              "  <div id=\"df-e02c02a7-4371-43f4-beb8-5f8fa39e2c75\">\n",
              "    <div class=\"colab-df-container\">\n",
              "      <div>\n",
              "<style scoped>\n",
              "    .dataframe tbody tr th:only-of-type {\n",
              "        vertical-align: middle;\n",
              "    }\n",
              "\n",
              "    .dataframe tbody tr th {\n",
              "        vertical-align: top;\n",
              "    }\n",
              "\n",
              "    .dataframe thead th {\n",
              "        text-align: right;\n",
              "    }\n",
              "</style>\n",
              "<table border=\"1\" class=\"dataframe\">\n",
              "  <thead>\n",
              "    <tr style=\"text-align: right;\">\n",
              "      <th></th>\n",
              "      <th>DATA INICIAL</th>\n",
              "      <th>DATA FINAL</th>\n",
              "      <th>REGIÃO</th>\n",
              "      <th>ESTADO</th>\n",
              "      <th>PRODUTO</th>\n",
              "      <th>NÚMERO DE POSTOS PESQUISADOS</th>\n",
              "      <th>UNIDADE DE MEDIDA</th>\n",
              "      <th>PREÇO MÉDIO REVENDA</th>\n",
              "      <th>DESVIO PADRÃO REVENDA</th>\n",
              "      <th>PREÇO MÍNIMO REVENDA</th>\n",
              "      <th>PREÇO MÁXIMO REVENDA</th>\n",
              "      <th>MARGEM MÉDIA REVENDA</th>\n",
              "      <th>COEF DE VARIAÇÃO REVENDA</th>\n",
              "      <th>PREÇO MÉDIO DISTRIBUIÇÃO</th>\n",
              "      <th>DESVIO PADRÃO DISTRIBUIÇÃO</th>\n",
              "      <th>PREÇO MÍNIMO DISTRIBUIÇÃO</th>\n",
              "      <th>PREÇO MÁXIMO DISTRIBUIÇÃO</th>\n",
              "      <th>COEF DE VARIAÇÃO DISTRIBUIÇÃO</th>\n",
              "    </tr>\n",
              "  </thead>\n",
              "  <tbody>\n",
              "    <tr>\n",
              "      <th>0</th>\n",
              "      <td>2004-05-09</td>\n",
              "      <td>2004-05-15</td>\n",
              "      <td>CENTRO OESTE</td>\n",
              "      <td>DISTRITO FEDERAL</td>\n",
              "      <td>ETANOL HIDRATADO</td>\n",
              "      <td>127</td>\n",
              "      <td>R$/l</td>\n",
              "      <td>1.288</td>\n",
              "      <td>0.016</td>\n",
              "      <td>1.19</td>\n",
              "      <td>1.350</td>\n",
              "      <td>0.463</td>\n",
              "      <td>0.012</td>\n",
              "      <td>0.825</td>\n",
              "      <td>0.11</td>\n",
              "      <td>0.4201</td>\n",
              "      <td>0.9666</td>\n",
              "      <td>0.133</td>\n",
              "    </tr>\n",
              "    <tr>\n",
              "      <th>1</th>\n",
              "      <td>2004-05-09</td>\n",
              "      <td>2004-05-15</td>\n",
              "      <td>CENTRO OESTE</td>\n",
              "      <td>GOIAS</td>\n",
              "      <td>ETANOL HIDRATADO</td>\n",
              "      <td>387</td>\n",
              "      <td>R$/l</td>\n",
              "      <td>1.162</td>\n",
              "      <td>0.114</td>\n",
              "      <td>0.89</td>\n",
              "      <td>1.449</td>\n",
              "      <td>0.399</td>\n",
              "      <td>0.098</td>\n",
              "      <td>0.763</td>\n",
              "      <td>0.088</td>\n",
              "      <td>0.5013</td>\n",
              "      <td>1.05</td>\n",
              "      <td>0.115</td>\n",
              "    </tr>\n",
              "    <tr>\n",
              "      <th>2</th>\n",
              "      <td>2004-05-09</td>\n",
              "      <td>2004-05-15</td>\n",
              "      <td>CENTRO OESTE</td>\n",
              "      <td>MATO GROSSO</td>\n",
              "      <td>ETANOL HIDRATADO</td>\n",
              "      <td>192</td>\n",
              "      <td>R$/l</td>\n",
              "      <td>1.389</td>\n",
              "      <td>0.097</td>\n",
              "      <td>1.18</td>\n",
              "      <td>1.760</td>\n",
              "      <td>0.419</td>\n",
              "      <td>0.070</td>\n",
              "      <td>0.97</td>\n",
              "      <td>0.095</td>\n",
              "      <td>0.5614</td>\n",
              "      <td>1.161</td>\n",
              "      <td>0.098</td>\n",
              "    </tr>\n",
              "    <tr>\n",
              "      <th>3</th>\n",
              "      <td>2004-05-09</td>\n",
              "      <td>2004-05-15</td>\n",
              "      <td>CENTRO OESTE</td>\n",
              "      <td>MATO GROSSO DO SUL</td>\n",
              "      <td>ETANOL HIDRATADO</td>\n",
              "      <td>162</td>\n",
              "      <td>R$/l</td>\n",
              "      <td>1.262</td>\n",
              "      <td>0.070</td>\n",
              "      <td>1.09</td>\n",
              "      <td>1.509</td>\n",
              "      <td>0.432</td>\n",
              "      <td>0.055</td>\n",
              "      <td>0.83</td>\n",
              "      <td>0.119</td>\n",
              "      <td>0.5991</td>\n",
              "      <td>1.22242</td>\n",
              "      <td>0.143</td>\n",
              "    </tr>\n",
              "    <tr>\n",
              "      <th>4</th>\n",
              "      <td>2004-05-09</td>\n",
              "      <td>2004-05-15</td>\n",
              "      <td>NORDESTE</td>\n",
              "      <td>ALAGOAS</td>\n",
              "      <td>ETANOL HIDRATADO</td>\n",
              "      <td>103</td>\n",
              "      <td>R$/l</td>\n",
              "      <td>1.181</td>\n",
              "      <td>0.078</td>\n",
              "      <td>1.05</td>\n",
              "      <td>1.400</td>\n",
              "      <td>0.24</td>\n",
              "      <td>0.066</td>\n",
              "      <td>0.941</td>\n",
              "      <td>0.077</td>\n",
              "      <td>0.7441</td>\n",
              "      <td>1.0317</td>\n",
              "      <td>0.082</td>\n",
              "    </tr>\n",
              "  </tbody>\n",
              "</table>\n",
              "</div>\n",
              "      <button class=\"colab-df-convert\" onclick=\"convertToInteractive('df-e02c02a7-4371-43f4-beb8-5f8fa39e2c75')\"\n",
              "              title=\"Convert this dataframe to an interactive table.\"\n",
              "              style=\"display:none;\">\n",
              "        \n",
              "  <svg xmlns=\"http://www.w3.org/2000/svg\" height=\"24px\"viewBox=\"0 0 24 24\"\n",
              "       width=\"24px\">\n",
              "    <path d=\"M0 0h24v24H0V0z\" fill=\"none\"/>\n",
              "    <path d=\"M18.56 5.44l.94 2.06.94-2.06 2.06-.94-2.06-.94-.94-2.06-.94 2.06-2.06.94zm-11 1L8.5 8.5l.94-2.06 2.06-.94-2.06-.94L8.5 2.5l-.94 2.06-2.06.94zm10 10l.94 2.06.94-2.06 2.06-.94-2.06-.94-.94-2.06-.94 2.06-2.06.94z\"/><path d=\"M17.41 7.96l-1.37-1.37c-.4-.4-.92-.59-1.43-.59-.52 0-1.04.2-1.43.59L10.3 9.45l-7.72 7.72c-.78.78-.78 2.05 0 2.83L4 21.41c.39.39.9.59 1.41.59.51 0 1.02-.2 1.41-.59l7.78-7.78 2.81-2.81c.8-.78.8-2.07 0-2.86zM5.41 20L4 18.59l7.72-7.72 1.47 1.35L5.41 20z\"/>\n",
              "  </svg>\n",
              "      </button>\n",
              "      \n",
              "  <style>\n",
              "    .colab-df-container {\n",
              "      display:flex;\n",
              "      flex-wrap:wrap;\n",
              "      gap: 12px;\n",
              "    }\n",
              "\n",
              "    .colab-df-convert {\n",
              "      background-color: #E8F0FE;\n",
              "      border: none;\n",
              "      border-radius: 50%;\n",
              "      cursor: pointer;\n",
              "      display: none;\n",
              "      fill: #1967D2;\n",
              "      height: 32px;\n",
              "      padding: 0 0 0 0;\n",
              "      width: 32px;\n",
              "    }\n",
              "\n",
              "    .colab-df-convert:hover {\n",
              "      background-color: #E2EBFA;\n",
              "      box-shadow: 0px 1px 2px rgba(60, 64, 67, 0.3), 0px 1px 3px 1px rgba(60, 64, 67, 0.15);\n",
              "      fill: #174EA6;\n",
              "    }\n",
              "\n",
              "    [theme=dark] .colab-df-convert {\n",
              "      background-color: #3B4455;\n",
              "      fill: #D2E3FC;\n",
              "    }\n",
              "\n",
              "    [theme=dark] .colab-df-convert:hover {\n",
              "      background-color: #434B5C;\n",
              "      box-shadow: 0px 1px 3px 1px rgba(0, 0, 0, 0.15);\n",
              "      filter: drop-shadow(0px 1px 2px rgba(0, 0, 0, 0.3));\n",
              "      fill: #FFFFFF;\n",
              "    }\n",
              "  </style>\n",
              "\n",
              "      <script>\n",
              "        const buttonEl =\n",
              "          document.querySelector('#df-e02c02a7-4371-43f4-beb8-5f8fa39e2c75 button.colab-df-convert');\n",
              "        buttonEl.style.display =\n",
              "          google.colab.kernel.accessAllowed ? 'block' : 'none';\n",
              "\n",
              "        async function convertToInteractive(key) {\n",
              "          const element = document.querySelector('#df-e02c02a7-4371-43f4-beb8-5f8fa39e2c75');\n",
              "          const dataTable =\n",
              "            await google.colab.kernel.invokeFunction('convertToInteractive',\n",
              "                                                     [key], {});\n",
              "          if (!dataTable) return;\n",
              "\n",
              "          const docLinkHtml = 'Like what you see? Visit the ' +\n",
              "            '<a target=\"_blank\" href=https://colab.research.google.com/notebooks/data_table.ipynb>data table notebook</a>'\n",
              "            + ' to learn more about interactive tables.';\n",
              "          element.innerHTML = '';\n",
              "          dataTable['output_type'] = 'display_data';\n",
              "          await google.colab.output.renderOutput(dataTable, element);\n",
              "          const docLink = document.createElement('div');\n",
              "          docLink.innerHTML = docLinkHtml;\n",
              "          element.appendChild(docLink);\n",
              "        }\n",
              "      </script>\n",
              "    </div>\n",
              "  </div>\n",
              "  "
            ]
          },
          "metadata": {},
          "execution_count": 3
        }
      ]
    },
    {
      "cell_type": "markdown",
      "source": [
        "Foi feita a conversão do *dataset* em formato **.tsv** para o formato **.csv**.\n",
        "\n",
        "*<sub>*Apenas para exemplificar uma maneira de converter o formato de um *dataset* para outro.*"
      ],
      "metadata": {
        "id": "olRjN7hgsNer"
      }
    },
    {
      "cell_type": "code",
      "source": [
        "dataset_gas.to_csv(r'/content/gas.csv')"
      ],
      "metadata": {
        "id": "YbmAOzjKuqDD"
      },
      "execution_count": null,
      "outputs": []
    },
    {
      "cell_type": "markdown",
      "source": [
        "### 3.2. Investigação e Limpeza do *Dataset*"
      ],
      "metadata": {
        "id": "5DQEyDqem0J0"
      }
    },
    {
      "cell_type": "markdown",
      "source": [
        "Foram obtidas informações preliminares a respeito dos dados presentes no *dataset* através do método **.info()**."
      ],
      "metadata": {
        "id": "_b4q7um1snfc"
      }
    },
    {
      "cell_type": "code",
      "source": [
        "dataset_gas.info()"
      ],
      "metadata": {
        "colab": {
          "base_uri": "https://localhost:8080/"
        },
        "id": "BSBiz8rLsrIE",
        "outputId": "ceafcb5e-6b6b-47e6-ce82-38e15ba3de53"
      },
      "execution_count": null,
      "outputs": [
        {
          "output_type": "stream",
          "name": "stdout",
          "text": [
            "<class 'pandas.core.frame.DataFrame'>\n",
            "RangeIndex: 120823 entries, 0 to 120822\n",
            "Data columns (total 18 columns):\n",
            " #   Column                         Non-Null Count   Dtype  \n",
            "---  ------                         --------------   -----  \n",
            " 0   DATA INICIAL                   120823 non-null  object \n",
            " 1   DATA FINAL                     120823 non-null  object \n",
            " 2   REGIÃO                         120823 non-null  object \n",
            " 3   ESTADO                         120823 non-null  object \n",
            " 4   PRODUTO                        120823 non-null  object \n",
            " 5   NÚMERO DE POSTOS PESQUISADOS   120823 non-null  int64  \n",
            " 6   UNIDADE DE MEDIDA              120823 non-null  object \n",
            " 7   PREÇO MÉDIO REVENDA            120823 non-null  float64\n",
            " 8   DESVIO PADRÃO REVENDA          120823 non-null  float64\n",
            " 9   PREÇO MÍNIMO REVENDA           120823 non-null  float64\n",
            " 10  PREÇO MÁXIMO REVENDA           120823 non-null  float64\n",
            " 11  MARGEM MÉDIA REVENDA           120823 non-null  object \n",
            " 12  COEF DE VARIAÇÃO REVENDA       120823 non-null  float64\n",
            " 13  PREÇO MÉDIO DISTRIBUIÇÃO       120823 non-null  object \n",
            " 14  DESVIO PADRÃO DISTRIBUIÇÃO     120823 non-null  object \n",
            " 15  PREÇO MÍNIMO DISTRIBUIÇÃO      120823 non-null  object \n",
            " 16  PREÇO MÁXIMO DISTRIBUIÇÃO      120823 non-null  object \n",
            " 17  COEF DE VARIAÇÃO DISTRIBUIÇÃO  120823 non-null  object \n",
            "dtypes: float64(5), int64(1), object(12)\n",
            "memory usage: 16.6+ MB\n"
          ]
        }
      ]
    },
    {
      "cell_type": "markdown",
      "source": [
        "Foi observado o tipo *Object* para diversas colunas, inclusive colunas cujos dados são numéricos. Isto nos indicou a necessidade de conversão de algumas dessas colunas para outros tipos.\n",
        "\n",
        "Além do método acima, aplicamos o (atributo) **.shape** para indentificar o formato do *dataset*."
      ],
      "metadata": {
        "id": "eRPW36cMo-Ol"
      }
    },
    {
      "cell_type": "code",
      "source": [
        "dataset_gas.shape"
      ],
      "metadata": {
        "colab": {
          "base_uri": "https://localhost:8080/"
        },
        "id": "AF5oUSsKozpI",
        "outputId": "ed808f64-3b7e-49be-eb92-c6b376fde7c5"
      },
      "execution_count": null,
      "outputs": [
        {
          "output_type": "execute_result",
          "data": {
            "text/plain": [
              "(120823, 18)"
            ]
          },
          "metadata": {},
          "execution_count": 6
        }
      ]
    },
    {
      "cell_type": "markdown",
      "source": [
        "O *dataset* possui 120823 linhas e 18 colunas.\n",
        "\n",
        "Outro método utilizado foi o **.describe()** que nos retorna dados estatísticos sobre o *dataset*, como média, desvio-padrão, quartis, entre outros."
      ],
      "metadata": {
        "id": "sxdWXD-YpKmM"
      }
    },
    {
      "cell_type": "code",
      "source": [
        "dataset_gas.describe()"
      ],
      "metadata": {
        "colab": {
          "base_uri": "https://localhost:8080/",
          "height": 300
        },
        "id": "dXJMubGOoz7_",
        "outputId": "43c338e8-5cf1-4604-8519-e0d06d17a19e"
      },
      "execution_count": null,
      "outputs": [
        {
          "output_type": "execute_result",
          "data": {
            "text/plain": [
              "       NÚMERO DE POSTOS PESQUISADOS  PREÇO MÉDIO REVENDA  \\\n",
              "count                 120823.000000        120823.000000   \n",
              "mean                     221.066461            11.473440   \n",
              "std                      387.940239            19.161823   \n",
              "min                        1.000000             0.766000   \n",
              "25%                       39.000000             2.157000   \n",
              "50%                       99.000000             2.899000   \n",
              "75%                      226.000000             4.026000   \n",
              "max                     4167.000000           107.500000   \n",
              "\n",
              "       DESVIO PADRÃO REVENDA  PREÇO MÍNIMO REVENDA  PREÇO MÁXIMO REVENDA  \\\n",
              "count          120823.000000         120823.000000         120823.000000   \n",
              "mean                0.684132              9.977821             13.233902   \n",
              "std                 1.403317             16.433783             22.451445   \n",
              "min                 0.000000              0.590000              0.999000   \n",
              "25%                 0.075000              1.989000              2.420000   \n",
              "50%                 0.121000              2.690000              3.200000   \n",
              "75%                 0.204000              3.790000              4.589000   \n",
              "max                10.748000            100.000000            120.000000   \n",
              "\n",
              "       COEF DE VARIAÇÃO REVENDA  \n",
              "count             120823.000000  \n",
              "mean                   0.045298  \n",
              "std                    0.024763  \n",
              "min                    0.000000  \n",
              "25%                    0.029000  \n",
              "50%                    0.041000  \n",
              "75%                    0.058000  \n",
              "max                    0.395000  "
            ],
            "text/html": [
              "\n",
              "  <div id=\"df-8494abed-3620-4fc7-b365-add403c652af\">\n",
              "    <div class=\"colab-df-container\">\n",
              "      <div>\n",
              "<style scoped>\n",
              "    .dataframe tbody tr th:only-of-type {\n",
              "        vertical-align: middle;\n",
              "    }\n",
              "\n",
              "    .dataframe tbody tr th {\n",
              "        vertical-align: top;\n",
              "    }\n",
              "\n",
              "    .dataframe thead th {\n",
              "        text-align: right;\n",
              "    }\n",
              "</style>\n",
              "<table border=\"1\" class=\"dataframe\">\n",
              "  <thead>\n",
              "    <tr style=\"text-align: right;\">\n",
              "      <th></th>\n",
              "      <th>NÚMERO DE POSTOS PESQUISADOS</th>\n",
              "      <th>PREÇO MÉDIO REVENDA</th>\n",
              "      <th>DESVIO PADRÃO REVENDA</th>\n",
              "      <th>PREÇO MÍNIMO REVENDA</th>\n",
              "      <th>PREÇO MÁXIMO REVENDA</th>\n",
              "      <th>COEF DE VARIAÇÃO REVENDA</th>\n",
              "    </tr>\n",
              "  </thead>\n",
              "  <tbody>\n",
              "    <tr>\n",
              "      <th>count</th>\n",
              "      <td>120823.000000</td>\n",
              "      <td>120823.000000</td>\n",
              "      <td>120823.000000</td>\n",
              "      <td>120823.000000</td>\n",
              "      <td>120823.000000</td>\n",
              "      <td>120823.000000</td>\n",
              "    </tr>\n",
              "    <tr>\n",
              "      <th>mean</th>\n",
              "      <td>221.066461</td>\n",
              "      <td>11.473440</td>\n",
              "      <td>0.684132</td>\n",
              "      <td>9.977821</td>\n",
              "      <td>13.233902</td>\n",
              "      <td>0.045298</td>\n",
              "    </tr>\n",
              "    <tr>\n",
              "      <th>std</th>\n",
              "      <td>387.940239</td>\n",
              "      <td>19.161823</td>\n",
              "      <td>1.403317</td>\n",
              "      <td>16.433783</td>\n",
              "      <td>22.451445</td>\n",
              "      <td>0.024763</td>\n",
              "    </tr>\n",
              "    <tr>\n",
              "      <th>min</th>\n",
              "      <td>1.000000</td>\n",
              "      <td>0.766000</td>\n",
              "      <td>0.000000</td>\n",
              "      <td>0.590000</td>\n",
              "      <td>0.999000</td>\n",
              "      <td>0.000000</td>\n",
              "    </tr>\n",
              "    <tr>\n",
              "      <th>25%</th>\n",
              "      <td>39.000000</td>\n",
              "      <td>2.157000</td>\n",
              "      <td>0.075000</td>\n",
              "      <td>1.989000</td>\n",
              "      <td>2.420000</td>\n",
              "      <td>0.029000</td>\n",
              "    </tr>\n",
              "    <tr>\n",
              "      <th>50%</th>\n",
              "      <td>99.000000</td>\n",
              "      <td>2.899000</td>\n",
              "      <td>0.121000</td>\n",
              "      <td>2.690000</td>\n",
              "      <td>3.200000</td>\n",
              "      <td>0.041000</td>\n",
              "    </tr>\n",
              "    <tr>\n",
              "      <th>75%</th>\n",
              "      <td>226.000000</td>\n",
              "      <td>4.026000</td>\n",
              "      <td>0.204000</td>\n",
              "      <td>3.790000</td>\n",
              "      <td>4.589000</td>\n",
              "      <td>0.058000</td>\n",
              "    </tr>\n",
              "    <tr>\n",
              "      <th>max</th>\n",
              "      <td>4167.000000</td>\n",
              "      <td>107.500000</td>\n",
              "      <td>10.748000</td>\n",
              "      <td>100.000000</td>\n",
              "      <td>120.000000</td>\n",
              "      <td>0.395000</td>\n",
              "    </tr>\n",
              "  </tbody>\n",
              "</table>\n",
              "</div>\n",
              "      <button class=\"colab-df-convert\" onclick=\"convertToInteractive('df-8494abed-3620-4fc7-b365-add403c652af')\"\n",
              "              title=\"Convert this dataframe to an interactive table.\"\n",
              "              style=\"display:none;\">\n",
              "        \n",
              "  <svg xmlns=\"http://www.w3.org/2000/svg\" height=\"24px\"viewBox=\"0 0 24 24\"\n",
              "       width=\"24px\">\n",
              "    <path d=\"M0 0h24v24H0V0z\" fill=\"none\"/>\n",
              "    <path d=\"M18.56 5.44l.94 2.06.94-2.06 2.06-.94-2.06-.94-.94-2.06-.94 2.06-2.06.94zm-11 1L8.5 8.5l.94-2.06 2.06-.94-2.06-.94L8.5 2.5l-.94 2.06-2.06.94zm10 10l.94 2.06.94-2.06 2.06-.94-2.06-.94-.94-2.06-.94 2.06-2.06.94z\"/><path d=\"M17.41 7.96l-1.37-1.37c-.4-.4-.92-.59-1.43-.59-.52 0-1.04.2-1.43.59L10.3 9.45l-7.72 7.72c-.78.78-.78 2.05 0 2.83L4 21.41c.39.39.9.59 1.41.59.51 0 1.02-.2 1.41-.59l7.78-7.78 2.81-2.81c.8-.78.8-2.07 0-2.86zM5.41 20L4 18.59l7.72-7.72 1.47 1.35L5.41 20z\"/>\n",
              "  </svg>\n",
              "      </button>\n",
              "      \n",
              "  <style>\n",
              "    .colab-df-container {\n",
              "      display:flex;\n",
              "      flex-wrap:wrap;\n",
              "      gap: 12px;\n",
              "    }\n",
              "\n",
              "    .colab-df-convert {\n",
              "      background-color: #E8F0FE;\n",
              "      border: none;\n",
              "      border-radius: 50%;\n",
              "      cursor: pointer;\n",
              "      display: none;\n",
              "      fill: #1967D2;\n",
              "      height: 32px;\n",
              "      padding: 0 0 0 0;\n",
              "      width: 32px;\n",
              "    }\n",
              "\n",
              "    .colab-df-convert:hover {\n",
              "      background-color: #E2EBFA;\n",
              "      box-shadow: 0px 1px 2px rgba(60, 64, 67, 0.3), 0px 1px 3px 1px rgba(60, 64, 67, 0.15);\n",
              "      fill: #174EA6;\n",
              "    }\n",
              "\n",
              "    [theme=dark] .colab-df-convert {\n",
              "      background-color: #3B4455;\n",
              "      fill: #D2E3FC;\n",
              "    }\n",
              "\n",
              "    [theme=dark] .colab-df-convert:hover {\n",
              "      background-color: #434B5C;\n",
              "      box-shadow: 0px 1px 3px 1px rgba(0, 0, 0, 0.15);\n",
              "      filter: drop-shadow(0px 1px 2px rgba(0, 0, 0, 0.3));\n",
              "      fill: #FFFFFF;\n",
              "    }\n",
              "  </style>\n",
              "\n",
              "      <script>\n",
              "        const buttonEl =\n",
              "          document.querySelector('#df-8494abed-3620-4fc7-b365-add403c652af button.colab-df-convert');\n",
              "        buttonEl.style.display =\n",
              "          google.colab.kernel.accessAllowed ? 'block' : 'none';\n",
              "\n",
              "        async function convertToInteractive(key) {\n",
              "          const element = document.querySelector('#df-8494abed-3620-4fc7-b365-add403c652af');\n",
              "          const dataTable =\n",
              "            await google.colab.kernel.invokeFunction('convertToInteractive',\n",
              "                                                     [key], {});\n",
              "          if (!dataTable) return;\n",
              "\n",
              "          const docLinkHtml = 'Like what you see? Visit the ' +\n",
              "            '<a target=\"_blank\" href=https://colab.research.google.com/notebooks/data_table.ipynb>data table notebook</a>'\n",
              "            + ' to learn more about interactive tables.';\n",
              "          element.innerHTML = '';\n",
              "          dataTable['output_type'] = 'display_data';\n",
              "          await google.colab.output.renderOutput(dataTable, element);\n",
              "          const docLink = document.createElement('div');\n",
              "          docLink.innerHTML = docLinkHtml;\n",
              "          element.appendChild(docLink);\n",
              "        }\n",
              "      </script>\n",
              "    </div>\n",
              "  </div>\n",
              "  "
            ]
          },
          "metadata": {},
          "execution_count": 7
        }
      ]
    },
    {
      "cell_type": "markdown",
      "source": [
        "O método **.describe()** nos retorna apenas as colunas que possuem dados dos tipos **int/float**. Considerando que o dataset possui 18 colunas, sendo a maioria com dados numéricos, esperava-se que mais colunas aparecessem no resultado do **.describe()**. No entanto, apenas seis colunas foram apresentadas, o que nos levou a questionar a possibilidade de divergência dos tipos de dados presentes na mesma coluna, ou mesmo dados faltantes.\n",
        "\n",
        "Dessa forma, utilizamos o método **.isna()** aliado ao **.sum()** para identificar as colunas onde poderiam haver números 'NaN' e quantificar esses elementos."
      ],
      "metadata": {
        "id": "v9NFTFjSqLqu"
      }
    },
    {
      "cell_type": "code",
      "source": [
        "dataset_gas.isna().sum()"
      ],
      "metadata": {
        "colab": {
          "base_uri": "https://localhost:8080/"
        },
        "id": "5oTd5uN6ozx3",
        "outputId": "f3e13c58-279a-4ea8-d7c2-dde8479d9cd4"
      },
      "execution_count": null,
      "outputs": [
        {
          "output_type": "execute_result",
          "data": {
            "text/plain": [
              "DATA INICIAL                     0\n",
              "DATA FINAL                       0\n",
              "REGIÃO                           0\n",
              "ESTADO                           0\n",
              "PRODUTO                          0\n",
              "NÚMERO DE POSTOS PESQUISADOS     0\n",
              "UNIDADE DE MEDIDA                0\n",
              "PREÇO MÉDIO REVENDA              0\n",
              "DESVIO PADRÃO REVENDA            0\n",
              "PREÇO MÍNIMO REVENDA             0\n",
              "PREÇO MÁXIMO REVENDA             0\n",
              "MARGEM MÉDIA REVENDA             0\n",
              "COEF DE VARIAÇÃO REVENDA         0\n",
              "PREÇO MÉDIO DISTRIBUIÇÃO         0\n",
              "DESVIO PADRÃO DISTRIBUIÇÃO       0\n",
              "PREÇO MÍNIMO DISTRIBUIÇÃO        0\n",
              "PREÇO MÁXIMO DISTRIBUIÇÃO        0\n",
              "COEF DE VARIAÇÃO DISTRIBUIÇÃO    0\n",
              "dtype: int64"
            ]
          },
          "metadata": {},
          "execution_count": 8
        }
      ]
    },
    {
      "cell_type": "markdown",
      "source": [
        "O resultado da análise mostrou que não há colunas com valores 'NaN' - *Not a Number*. Porém isso não condiz com o observado: por que algumas colunas, que possuem valores númericos, estão sendo classificadas como **'Object'**?"
      ],
      "metadata": {
        "id": "2xoOXRJrq7ax"
      }
    },
    {
      "cell_type": "markdown",
      "source": [
        "Na descrição do *dataset* no Kaggle, existe a seguinte informação:\n",
        "\n",
        "    *NULL values are now replaces with '-99999.0'*\n",
        "\n",
        "Portanto, verificamos se há ocorrências deste valor ao longo do *dataset* utilizando o método **.isin()**. Vale ressaltar que encontramos a *string* '-' também sendo utilizada para substituir valores 'NaN' e também foi vericada a ocorrência desta *string*."
      ],
      "metadata": {
        "id": "NRRgtPUYtESc"
      }
    },
    {
      "cell_type": "code",
      "source": [
        "buscando_nulos = dataset_gas.isin(['-', '-99999.0'])\n",
        "resultado = dataset_gas[buscando_nulos]\n",
        "resultado.tail()"
      ],
      "metadata": {
        "colab": {
          "base_uri": "https://localhost:8080/",
          "height": 285
        },
        "id": "JFz8IH2DsGFO",
        "outputId": "8e9bbb02-1d8d-4b17-f6b4-c54e9aaa0215"
      },
      "execution_count": null,
      "outputs": [
        {
          "output_type": "execute_result",
          "data": {
            "text/plain": [
              "       DATA INICIAL DATA FINAL REGIÃO ESTADO PRODUTO  \\\n",
              "120818          NaN        NaN    NaN    NaN     NaN   \n",
              "120819          NaN        NaN    NaN    NaN     NaN   \n",
              "120820          NaN        NaN    NaN    NaN     NaN   \n",
              "120821          NaN        NaN    NaN    NaN     NaN   \n",
              "120822          NaN        NaN    NaN    NaN     NaN   \n",
              "\n",
              "        NÚMERO DE POSTOS PESQUISADOS UNIDADE DE MEDIDA  PREÇO MÉDIO REVENDA  \\\n",
              "120818                           NaN               NaN                  NaN   \n",
              "120819                           NaN               NaN                  NaN   \n",
              "120820                           NaN               NaN                  NaN   \n",
              "120821                           NaN               NaN                  NaN   \n",
              "120822                           NaN               NaN                  NaN   \n",
              "\n",
              "        DESVIO PADRÃO REVENDA  PREÇO MÍNIMO REVENDA  PREÇO MÁXIMO REVENDA  \\\n",
              "120818                    NaN                   NaN                   NaN   \n",
              "120819                    NaN                   NaN                   NaN   \n",
              "120820                    NaN                   NaN                   NaN   \n",
              "120821                    NaN                   NaN                   NaN   \n",
              "120822                    NaN                   NaN                   NaN   \n",
              "\n",
              "       MARGEM MÉDIA REVENDA  COEF DE VARIAÇÃO REVENDA  \\\n",
              "120818             -99999.0                       NaN   \n",
              "120819             -99999.0                       NaN   \n",
              "120820             -99999.0                       NaN   \n",
              "120821             -99999.0                       NaN   \n",
              "120822             -99999.0                       NaN   \n",
              "\n",
              "       PREÇO MÉDIO DISTRIBUIÇÃO DESVIO PADRÃO DISTRIBUIÇÃO  \\\n",
              "120818                 -99999.0                   -99999.0   \n",
              "120819                 -99999.0                   -99999.0   \n",
              "120820                 -99999.0                   -99999.0   \n",
              "120821                 -99999.0                   -99999.0   \n",
              "120822                 -99999.0                   -99999.0   \n",
              "\n",
              "       PREÇO MÍNIMO DISTRIBUIÇÃO PREÇO MÁXIMO DISTRIBUIÇÃO  \\\n",
              "120818                  -99999.0                  -99999.0   \n",
              "120819                  -99999.0                  -99999.0   \n",
              "120820                  -99999.0                  -99999.0   \n",
              "120821                  -99999.0                  -99999.0   \n",
              "120822                  -99999.0                  -99999.0   \n",
              "\n",
              "       COEF DE VARIAÇÃO DISTRIBUIÇÃO  \n",
              "120818                      -99999.0  \n",
              "120819                      -99999.0  \n",
              "120820                      -99999.0  \n",
              "120821                      -99999.0  \n",
              "120822                      -99999.0  "
            ],
            "text/html": [
              "\n",
              "  <div id=\"df-6ca6f1b1-aea5-4013-a949-0d6207b1b217\">\n",
              "    <div class=\"colab-df-container\">\n",
              "      <div>\n",
              "<style scoped>\n",
              "    .dataframe tbody tr th:only-of-type {\n",
              "        vertical-align: middle;\n",
              "    }\n",
              "\n",
              "    .dataframe tbody tr th {\n",
              "        vertical-align: top;\n",
              "    }\n",
              "\n",
              "    .dataframe thead th {\n",
              "        text-align: right;\n",
              "    }\n",
              "</style>\n",
              "<table border=\"1\" class=\"dataframe\">\n",
              "  <thead>\n",
              "    <tr style=\"text-align: right;\">\n",
              "      <th></th>\n",
              "      <th>DATA INICIAL</th>\n",
              "      <th>DATA FINAL</th>\n",
              "      <th>REGIÃO</th>\n",
              "      <th>ESTADO</th>\n",
              "      <th>PRODUTO</th>\n",
              "      <th>NÚMERO DE POSTOS PESQUISADOS</th>\n",
              "      <th>UNIDADE DE MEDIDA</th>\n",
              "      <th>PREÇO MÉDIO REVENDA</th>\n",
              "      <th>DESVIO PADRÃO REVENDA</th>\n",
              "      <th>PREÇO MÍNIMO REVENDA</th>\n",
              "      <th>PREÇO MÁXIMO REVENDA</th>\n",
              "      <th>MARGEM MÉDIA REVENDA</th>\n",
              "      <th>COEF DE VARIAÇÃO REVENDA</th>\n",
              "      <th>PREÇO MÉDIO DISTRIBUIÇÃO</th>\n",
              "      <th>DESVIO PADRÃO DISTRIBUIÇÃO</th>\n",
              "      <th>PREÇO MÍNIMO DISTRIBUIÇÃO</th>\n",
              "      <th>PREÇO MÁXIMO DISTRIBUIÇÃO</th>\n",
              "      <th>COEF DE VARIAÇÃO DISTRIBUIÇÃO</th>\n",
              "    </tr>\n",
              "  </thead>\n",
              "  <tbody>\n",
              "    <tr>\n",
              "      <th>120818</th>\n",
              "      <td>NaN</td>\n",
              "      <td>NaN</td>\n",
              "      <td>NaN</td>\n",
              "      <td>NaN</td>\n",
              "      <td>NaN</td>\n",
              "      <td>NaN</td>\n",
              "      <td>NaN</td>\n",
              "      <td>NaN</td>\n",
              "      <td>NaN</td>\n",
              "      <td>NaN</td>\n",
              "      <td>NaN</td>\n",
              "      <td>-99999.0</td>\n",
              "      <td>NaN</td>\n",
              "      <td>-99999.0</td>\n",
              "      <td>-99999.0</td>\n",
              "      <td>-99999.0</td>\n",
              "      <td>-99999.0</td>\n",
              "      <td>-99999.0</td>\n",
              "    </tr>\n",
              "    <tr>\n",
              "      <th>120819</th>\n",
              "      <td>NaN</td>\n",
              "      <td>NaN</td>\n",
              "      <td>NaN</td>\n",
              "      <td>NaN</td>\n",
              "      <td>NaN</td>\n",
              "      <td>NaN</td>\n",
              "      <td>NaN</td>\n",
              "      <td>NaN</td>\n",
              "      <td>NaN</td>\n",
              "      <td>NaN</td>\n",
              "      <td>NaN</td>\n",
              "      <td>-99999.0</td>\n",
              "      <td>NaN</td>\n",
              "      <td>-99999.0</td>\n",
              "      <td>-99999.0</td>\n",
              "      <td>-99999.0</td>\n",
              "      <td>-99999.0</td>\n",
              "      <td>-99999.0</td>\n",
              "    </tr>\n",
              "    <tr>\n",
              "      <th>120820</th>\n",
              "      <td>NaN</td>\n",
              "      <td>NaN</td>\n",
              "      <td>NaN</td>\n",
              "      <td>NaN</td>\n",
              "      <td>NaN</td>\n",
              "      <td>NaN</td>\n",
              "      <td>NaN</td>\n",
              "      <td>NaN</td>\n",
              "      <td>NaN</td>\n",
              "      <td>NaN</td>\n",
              "      <td>NaN</td>\n",
              "      <td>-99999.0</td>\n",
              "      <td>NaN</td>\n",
              "      <td>-99999.0</td>\n",
              "      <td>-99999.0</td>\n",
              "      <td>-99999.0</td>\n",
              "      <td>-99999.0</td>\n",
              "      <td>-99999.0</td>\n",
              "    </tr>\n",
              "    <tr>\n",
              "      <th>120821</th>\n",
              "      <td>NaN</td>\n",
              "      <td>NaN</td>\n",
              "      <td>NaN</td>\n",
              "      <td>NaN</td>\n",
              "      <td>NaN</td>\n",
              "      <td>NaN</td>\n",
              "      <td>NaN</td>\n",
              "      <td>NaN</td>\n",
              "      <td>NaN</td>\n",
              "      <td>NaN</td>\n",
              "      <td>NaN</td>\n",
              "      <td>-99999.0</td>\n",
              "      <td>NaN</td>\n",
              "      <td>-99999.0</td>\n",
              "      <td>-99999.0</td>\n",
              "      <td>-99999.0</td>\n",
              "      <td>-99999.0</td>\n",
              "      <td>-99999.0</td>\n",
              "    </tr>\n",
              "    <tr>\n",
              "      <th>120822</th>\n",
              "      <td>NaN</td>\n",
              "      <td>NaN</td>\n",
              "      <td>NaN</td>\n",
              "      <td>NaN</td>\n",
              "      <td>NaN</td>\n",
              "      <td>NaN</td>\n",
              "      <td>NaN</td>\n",
              "      <td>NaN</td>\n",
              "      <td>NaN</td>\n",
              "      <td>NaN</td>\n",
              "      <td>NaN</td>\n",
              "      <td>-99999.0</td>\n",
              "      <td>NaN</td>\n",
              "      <td>-99999.0</td>\n",
              "      <td>-99999.0</td>\n",
              "      <td>-99999.0</td>\n",
              "      <td>-99999.0</td>\n",
              "      <td>-99999.0</td>\n",
              "    </tr>\n",
              "  </tbody>\n",
              "</table>\n",
              "</div>\n",
              "      <button class=\"colab-df-convert\" onclick=\"convertToInteractive('df-6ca6f1b1-aea5-4013-a949-0d6207b1b217')\"\n",
              "              title=\"Convert this dataframe to an interactive table.\"\n",
              "              style=\"display:none;\">\n",
              "        \n",
              "  <svg xmlns=\"http://www.w3.org/2000/svg\" height=\"24px\"viewBox=\"0 0 24 24\"\n",
              "       width=\"24px\">\n",
              "    <path d=\"M0 0h24v24H0V0z\" fill=\"none\"/>\n",
              "    <path d=\"M18.56 5.44l.94 2.06.94-2.06 2.06-.94-2.06-.94-.94-2.06-.94 2.06-2.06.94zm-11 1L8.5 8.5l.94-2.06 2.06-.94-2.06-.94L8.5 2.5l-.94 2.06-2.06.94zm10 10l.94 2.06.94-2.06 2.06-.94-2.06-.94-.94-2.06-.94 2.06-2.06.94z\"/><path d=\"M17.41 7.96l-1.37-1.37c-.4-.4-.92-.59-1.43-.59-.52 0-1.04.2-1.43.59L10.3 9.45l-7.72 7.72c-.78.78-.78 2.05 0 2.83L4 21.41c.39.39.9.59 1.41.59.51 0 1.02-.2 1.41-.59l7.78-7.78 2.81-2.81c.8-.78.8-2.07 0-2.86zM5.41 20L4 18.59l7.72-7.72 1.47 1.35L5.41 20z\"/>\n",
              "  </svg>\n",
              "      </button>\n",
              "      \n",
              "  <style>\n",
              "    .colab-df-container {\n",
              "      display:flex;\n",
              "      flex-wrap:wrap;\n",
              "      gap: 12px;\n",
              "    }\n",
              "\n",
              "    .colab-df-convert {\n",
              "      background-color: #E8F0FE;\n",
              "      border: none;\n",
              "      border-radius: 50%;\n",
              "      cursor: pointer;\n",
              "      display: none;\n",
              "      fill: #1967D2;\n",
              "      height: 32px;\n",
              "      padding: 0 0 0 0;\n",
              "      width: 32px;\n",
              "    }\n",
              "\n",
              "    .colab-df-convert:hover {\n",
              "      background-color: #E2EBFA;\n",
              "      box-shadow: 0px 1px 2px rgba(60, 64, 67, 0.3), 0px 1px 3px 1px rgba(60, 64, 67, 0.15);\n",
              "      fill: #174EA6;\n",
              "    }\n",
              "\n",
              "    [theme=dark] .colab-df-convert {\n",
              "      background-color: #3B4455;\n",
              "      fill: #D2E3FC;\n",
              "    }\n",
              "\n",
              "    [theme=dark] .colab-df-convert:hover {\n",
              "      background-color: #434B5C;\n",
              "      box-shadow: 0px 1px 3px 1px rgba(0, 0, 0, 0.15);\n",
              "      filter: drop-shadow(0px 1px 2px rgba(0, 0, 0, 0.3));\n",
              "      fill: #FFFFFF;\n",
              "    }\n",
              "  </style>\n",
              "\n",
              "      <script>\n",
              "        const buttonEl =\n",
              "          document.querySelector('#df-6ca6f1b1-aea5-4013-a949-0d6207b1b217 button.colab-df-convert');\n",
              "        buttonEl.style.display =\n",
              "          google.colab.kernel.accessAllowed ? 'block' : 'none';\n",
              "\n",
              "        async function convertToInteractive(key) {\n",
              "          const element = document.querySelector('#df-6ca6f1b1-aea5-4013-a949-0d6207b1b217');\n",
              "          const dataTable =\n",
              "            await google.colab.kernel.invokeFunction('convertToInteractive',\n",
              "                                                     [key], {});\n",
              "          if (!dataTable) return;\n",
              "\n",
              "          const docLinkHtml = 'Like what you see? Visit the ' +\n",
              "            '<a target=\"_blank\" href=https://colab.research.google.com/notebooks/data_table.ipynb>data table notebook</a>'\n",
              "            + ' to learn more about interactive tables.';\n",
              "          element.innerHTML = '';\n",
              "          dataTable['output_type'] = 'display_data';\n",
              "          await google.colab.output.renderOutput(dataTable, element);\n",
              "          const docLink = document.createElement('div');\n",
              "          docLink.innerHTML = docLinkHtml;\n",
              "          element.appendChild(docLink);\n",
              "        }\n",
              "      </script>\n",
              "    </div>\n",
              "  </div>\n",
              "  "
            ]
          },
          "metadata": {},
          "execution_count": 9
        }
      ]
    },
    {
      "cell_type": "markdown",
      "source": [
        "Ao criar um *dataframe* no qual somente os valores indesejados ('-' e '-99999.0'), NÃO nulos, estão presentes, é possível quantificá-los através da combinação dos métodos **.notna()** e **.sum()**."
      ],
      "metadata": {
        "id": "ewcnQf3Ntc8p"
      }
    },
    {
      "cell_type": "code",
      "source": [
        "resultado.notna().sum()"
      ],
      "metadata": {
        "colab": {
          "base_uri": "https://localhost:8080/"
        },
        "id": "OsyzAiqTsnIT",
        "outputId": "5ccb5464-ca5a-4e4a-84fc-e959936e2f33"
      },
      "execution_count": null,
      "outputs": [
        {
          "output_type": "execute_result",
          "data": {
            "text/plain": [
              "DATA INICIAL                        0\n",
              "DATA FINAL                          0\n",
              "REGIÃO                              0\n",
              "ESTADO                              0\n",
              "PRODUTO                             0\n",
              "NÚMERO DE POSTOS PESQUISADOS        0\n",
              "UNIDADE DE MEDIDA                   0\n",
              "PREÇO MÉDIO REVENDA                 0\n",
              "DESVIO PADRÃO REVENDA               0\n",
              "PREÇO MÍNIMO REVENDA                0\n",
              "PREÇO MÁXIMO REVENDA                0\n",
              "MARGEM MÉDIA REVENDA             8948\n",
              "COEF DE VARIAÇÃO REVENDA            0\n",
              "PREÇO MÉDIO DISTRIBUIÇÃO         8908\n",
              "DESVIO PADRÃO DISTRIBUIÇÃO       8908\n",
              "PREÇO MÍNIMO DISTRIBUIÇÃO        8908\n",
              "PREÇO MÁXIMO DISTRIBUIÇÃO        8908\n",
              "COEF DE VARIAÇÃO DISTRIBUIÇÃO    8908\n",
              "dtype: int64"
            ]
          },
          "metadata": {},
          "execution_count": 10
        }
      ]
    },
    {
      "cell_type": "markdown",
      "source": [
        "Identificamos aproximadamente 9.000 linhas que possuem valores não-definidos.Dessa forma, quanto isto representa em nosso volume total de linhas?"
      ],
      "metadata": {
        "id": "_zkaeZx33v6N"
      }
    },
    {
      "cell_type": "code",
      "source": [
        "8948 / dataset_gas.shape[0] *100"
      ],
      "metadata": {
        "colab": {
          "base_uri": "https://localhost:8080/"
        },
        "id": "ZyD6vmx33hNk",
        "outputId": "62edf26f-f417-43d8-d589-c7ca61544b47"
      },
      "execution_count": null,
      "outputs": [
        {
          "output_type": "execute_result",
          "data": {
            "text/plain": [
              "7.405874709285484"
            ]
          },
          "metadata": {},
          "execution_count": 11
        }
      ]
    },
    {
      "cell_type": "markdown",
      "source": [
        "Foi observado que estes valores 'NaN' se encontram em aproximadamente 7,4% das linhas do *dataset*. Assim, foi optado por remover estas linhas já que apresentam dados incompletos e não são uma quantidade expressiva em relação ao todo.\n",
        "\n",
        "### Com relação aos dados -99999.00, segundo o site do governo que levantou os mesmos disponibilizado [aqui](https://www.gov.br/anp/pt-br/assuntos/precos-e-defesa-da-concorrencia/precos/precos-revenda-e-de-distribuicao-combustiveis), na seção de observações, item 3. Não foi possível levantar dados de distribuição durante o período pandêmico.\n",
        "\n",
        "### Seguimos removendo estes dados para analises futuras, visto que caso seja necessário aplicar um algoritmo de machine learning, estes dados serão ou removidos ou será aplicado um \"valor falso\", seja média ou valor da série temporal anterior.\n",
        "\n",
        "será que é necessário retirar estas linhas? olhar na análise exploratória\n",
        "*olhar se o valor medio de revenda está considerando os impostos"
      ],
      "metadata": {
        "id": "p0sYPl3O4cg1"
      }
    },
    {
      "cell_type": "markdown",
      "source": [
        "Os valores '-' e '-99999.0' foram substituídos por 'NaN' utilizando o método **.replace()**."
      ],
      "metadata": {
        "id": "7fHFt2k748Cy"
      }
    },
    {
      "cell_type": "code",
      "source": [
        "dataset_gas = dataset_gas.replace('-' , np.nan)\n",
        "dataset_gas = dataset_gas.replace('-99999.0' , np.nan)"
      ],
      "metadata": {
        "id": "NeVktDMcDXN7"
      },
      "execution_count": null,
      "outputs": []
    },
    {
      "cell_type": "code",
      "source": [
        "dataset_gas.isna().sum()"
      ],
      "metadata": {
        "colab": {
          "base_uri": "https://localhost:8080/"
        },
        "id": "9Y_rIidk535z",
        "outputId": "ea1a1cb6-f08d-49c7-dc0b-ea9624757f53"
      },
      "execution_count": null,
      "outputs": [
        {
          "output_type": "execute_result",
          "data": {
            "text/plain": [
              "DATA INICIAL                        0\n",
              "DATA FINAL                          0\n",
              "REGIÃO                              0\n",
              "ESTADO                              0\n",
              "PRODUTO                             0\n",
              "NÚMERO DE POSTOS PESQUISADOS        0\n",
              "UNIDADE DE MEDIDA                   0\n",
              "PREÇO MÉDIO REVENDA                 0\n",
              "DESVIO PADRÃO REVENDA               0\n",
              "PREÇO MÍNIMO REVENDA                0\n",
              "PREÇO MÁXIMO REVENDA                0\n",
              "MARGEM MÉDIA REVENDA             8948\n",
              "COEF DE VARIAÇÃO REVENDA            0\n",
              "PREÇO MÉDIO DISTRIBUIÇÃO         8908\n",
              "DESVIO PADRÃO DISTRIBUIÇÃO       8908\n",
              "PREÇO MÍNIMO DISTRIBUIÇÃO        8908\n",
              "PREÇO MÁXIMO DISTRIBUIÇÃO        8908\n",
              "COEF DE VARIAÇÃO DISTRIBUIÇÃO    8908\n",
              "dtype: int64"
            ]
          },
          "metadata": {},
          "execution_count": 13
        }
      ]
    },
    {
      "cell_type": "markdown",
      "source": [
        "Assim, os valores indesejados foram substituídos por 'NaN'. \n",
        "\n",
        "Para a remoção desses valores, foi criado um novo *dataframe* para futuras análises e o *dataframe* original será mantido caso seja necessário recuperar os dados."
      ],
      "metadata": {
        "id": "GXzQhyEp7MqC"
      }
    },
    {
      "cell_type": "code",
      "source": [
        "dataset_gas_limpo = dataset_gas.copy()\n",
        "dataset_gas_limpo.shape"
      ],
      "metadata": {
        "colab": {
          "base_uri": "https://localhost:8080/"
        },
        "id": "4Ydb7NCa6sf0",
        "outputId": "63e29cdc-bbcf-4e84-d6a0-0b250c0f1e0e"
      },
      "execution_count": null,
      "outputs": [
        {
          "output_type": "execute_result",
          "data": {
            "text/plain": [
              "(120823, 18)"
            ]
          },
          "metadata": {},
          "execution_count": 14
        }
      ]
    },
    {
      "cell_type": "markdown",
      "source": [
        "Com o novo *dataframe*, é possível remover as linhas que possuem 'NaN' utilizando o método **.dropna()**. Ao atribuir o **.shape** ao novo *dataframe* é possível observar a redução do número de linhas correspondente aos 7,4% calculados anteriormente."
      ],
      "metadata": {
        "id": "as1H1EGR7asx"
      }
    },
    {
      "cell_type": "code",
      "source": [
        "dataset_gas_limpo = dataset_gas_limpo.dropna()\n",
        "dataset_gas_limpo.shape"
      ],
      "metadata": {
        "colab": {
          "base_uri": "https://localhost:8080/"
        },
        "id": "qFtrihz96uIS",
        "outputId": "26567d5a-2438-4423-f38a-9fa5e76d007c"
      },
      "execution_count": null,
      "outputs": [
        {
          "output_type": "execute_result",
          "data": {
            "text/plain": [
              "(111875, 18)"
            ]
          },
          "metadata": {},
          "execution_count": 15
        }
      ]
    },
    {
      "cell_type": "markdown",
      "source": [
        "Foi aplicado o método **.info()** a fim de conferir se os tipos de dados das colunas novamente."
      ],
      "metadata": {
        "id": "q_rxq0EuEwSq"
      }
    },
    {
      "cell_type": "code",
      "source": [
        "dataset_gas_limpo.info()"
      ],
      "metadata": {
        "colab": {
          "base_uri": "https://localhost:8080/"
        },
        "id": "XEezYDJkDi87",
        "outputId": "ffd91152-ced6-41d8-9cdb-23f23d081a8d"
      },
      "execution_count": null,
      "outputs": [
        {
          "output_type": "stream",
          "name": "stdout",
          "text": [
            "<class 'pandas.core.frame.DataFrame'>\n",
            "Int64Index: 111875 entries, 0 to 115883\n",
            "Data columns (total 18 columns):\n",
            " #   Column                         Non-Null Count   Dtype  \n",
            "---  ------                         --------------   -----  \n",
            " 0   DATA INICIAL                   111875 non-null  object \n",
            " 1   DATA FINAL                     111875 non-null  object \n",
            " 2   REGIÃO                         111875 non-null  object \n",
            " 3   ESTADO                         111875 non-null  object \n",
            " 4   PRODUTO                        111875 non-null  object \n",
            " 5   NÚMERO DE POSTOS PESQUISADOS   111875 non-null  int64  \n",
            " 6   UNIDADE DE MEDIDA              111875 non-null  object \n",
            " 7   PREÇO MÉDIO REVENDA            111875 non-null  float64\n",
            " 8   DESVIO PADRÃO REVENDA          111875 non-null  float64\n",
            " 9   PREÇO MÍNIMO REVENDA           111875 non-null  float64\n",
            " 10  PREÇO MÁXIMO REVENDA           111875 non-null  float64\n",
            " 11  MARGEM MÉDIA REVENDA           111875 non-null  object \n",
            " 12  COEF DE VARIAÇÃO REVENDA       111875 non-null  float64\n",
            " 13  PREÇO MÉDIO DISTRIBUIÇÃO       111875 non-null  object \n",
            " 14  DESVIO PADRÃO DISTRIBUIÇÃO     111875 non-null  object \n",
            " 15  PREÇO MÍNIMO DISTRIBUIÇÃO      111875 non-null  object \n",
            " 16  PREÇO MÁXIMO DISTRIBUIÇÃO      111875 non-null  object \n",
            " 17  COEF DE VARIAÇÃO DISTRIBUIÇÃO  111875 non-null  object \n",
            "dtypes: float64(5), int64(1), object(12)\n",
            "memory usage: 16.2+ MB\n"
          ]
        }
      ]
    },
    {
      "cell_type": "markdown",
      "source": [
        "Vimos que as colunas:\n",
        "\n",
        "        -'MARGEM MÉDIA REVENDA',\n",
        "        -'PREÇO MÉDIO DISTRIBUIÇÃO',\n",
        "        -'DESVIO PADRÃO DISTRIBUIÇÃO', \n",
        "        -'PREÇO MÍNIMO DISTRIBUIÇÃO',\n",
        "        -'PREÇO MÁXIMO DISTRIBUIÇÃO', \n",
        "        -'COEF DE VARIAÇÃO DISTRIBUIÇÃO',\n",
        "\n",
        "Ainda estavam com o tipo *'Object'*. Desta forma, uma mudança para o tipo *'Float'* será feita:"
      ],
      "metadata": {
        "id": "jW896N57EqEP"
      }
    },
    {
      "cell_type": "code",
      "source": [
        "cols = ['MARGEM MÉDIA REVENDA',\n",
        "        'PREÇO MÉDIO DISTRIBUIÇÃO',\n",
        "        'DESVIO PADRÃO DISTRIBUIÇÃO', \n",
        "        'PREÇO MÍNIMO DISTRIBUIÇÃO',\n",
        "        'PREÇO MÁXIMO DISTRIBUIÇÃO', \n",
        "        'COEF DE VARIAÇÃO DISTRIBUIÇÃO',\n",
        "]\n",
        "for coluna in cols:\n",
        "  dataset_gas_limpo[coluna]=dataset_gas_limpo[coluna].astype(float)"
      ],
      "metadata": {
        "id": "nLdR9NsDD7j8"
      },
      "execution_count": null,
      "outputs": []
    },
    {
      "cell_type": "markdown",
      "source": [
        "Aplicando o **.info()** novamente, viu-se que:"
      ],
      "metadata": {
        "id": "1rkLqaNdFHXw"
      }
    },
    {
      "cell_type": "code",
      "source": [
        "dataset_gas_limpo.info()"
      ],
      "metadata": {
        "colab": {
          "base_uri": "https://localhost:8080/"
        },
        "id": "3KMu4kZdEtbg",
        "outputId": "5db23c9f-006d-4e3b-e49f-a6cc34134a2c"
      },
      "execution_count": null,
      "outputs": [
        {
          "output_type": "stream",
          "name": "stdout",
          "text": [
            "<class 'pandas.core.frame.DataFrame'>\n",
            "Int64Index: 111875 entries, 0 to 115883\n",
            "Data columns (total 18 columns):\n",
            " #   Column                         Non-Null Count   Dtype  \n",
            "---  ------                         --------------   -----  \n",
            " 0   DATA INICIAL                   111875 non-null  object \n",
            " 1   DATA FINAL                     111875 non-null  object \n",
            " 2   REGIÃO                         111875 non-null  object \n",
            " 3   ESTADO                         111875 non-null  object \n",
            " 4   PRODUTO                        111875 non-null  object \n",
            " 5   NÚMERO DE POSTOS PESQUISADOS   111875 non-null  int64  \n",
            " 6   UNIDADE DE MEDIDA              111875 non-null  object \n",
            " 7   PREÇO MÉDIO REVENDA            111875 non-null  float64\n",
            " 8   DESVIO PADRÃO REVENDA          111875 non-null  float64\n",
            " 9   PREÇO MÍNIMO REVENDA           111875 non-null  float64\n",
            " 10  PREÇO MÁXIMO REVENDA           111875 non-null  float64\n",
            " 11  MARGEM MÉDIA REVENDA           111875 non-null  float64\n",
            " 12  COEF DE VARIAÇÃO REVENDA       111875 non-null  float64\n",
            " 13  PREÇO MÉDIO DISTRIBUIÇÃO       111875 non-null  float64\n",
            " 14  DESVIO PADRÃO DISTRIBUIÇÃO     111875 non-null  float64\n",
            " 15  PREÇO MÍNIMO DISTRIBUIÇÃO      111875 non-null  float64\n",
            " 16  PREÇO MÁXIMO DISTRIBUIÇÃO      111875 non-null  float64\n",
            " 17  COEF DE VARIAÇÃO DISTRIBUIÇÃO  111875 non-null  float64\n",
            "dtypes: float64(11), int64(1), object(6)\n",
            "memory usage: 16.2+ MB\n"
          ]
        }
      ]
    },
    {
      "cell_type": "markdown",
      "source": [
        "Feito isso, adequamos os tipos de dados *'Object'* das colunas selecionadas para *'Float'*."
      ],
      "metadata": {
        "id": "GblehaXpFMaN"
      }
    },
    {
      "cell_type": "markdown",
      "source": [
        "Verificamos a ocorrência de duplicatas nas linhas do *dataframe*, pois não há sentido em haver dados duplicados, visto que se trata de um *dataset* contendo uma série temporal.\n",
        "\n"
      ],
      "metadata": {
        "id": "fNQ4w_1kEkCe"
      }
    },
    {
      "cell_type": "code",
      "source": [
        "dataset_gas_limpo.duplicated().sum()"
      ],
      "metadata": {
        "colab": {
          "base_uri": "https://localhost:8080/"
        },
        "id": "2PHADvgxv9hx",
        "outputId": "45b2de0d-78c4-4b01-cb8c-defd49193bb2"
      },
      "execution_count": null,
      "outputs": [
        {
          "output_type": "execute_result",
          "data": {
            "text/plain": [
              "0"
            ]
          },
          "metadata": {},
          "execution_count": 19
        }
      ]
    },
    {
      "cell_type": "markdown",
      "source": [
        "A série temporal apresentada no *dataset* é semanal. Desta forma, criamos um \"Calendário\", no qual foi extraída a informação de dia, mês e ano e explicitada em colunas para cada um dos dados."
      ],
      "metadata": {
        "id": "tVDRoRR1FwCl"
      }
    },
    {
      "cell_type": "markdown",
      "source": [
        "_______"
      ],
      "metadata": {
        "id": "n8MgUVbiDuAb"
      }
    },
    {
      "cell_type": "markdown",
      "source": [
        "Definindo as funções necessárias:\n",
        "\n",
        "*Split_data*: pega o valor da coluna de datas e separa em uma lista [ano, mes dia]\n",
        "\n",
        "*extrair_lista*: cria listas com ano, mes e dia separadamente para uso futuro "
      ],
      "metadata": {
        "id": "ZKTzFjHzHujd"
      }
    },
    {
      "cell_type": "code",
      "source": [
        "def split_data(coluna,caracter_separador):\n",
        "  lista_split=coluna.str.split(caracter_separador)\n",
        "  return(lista_split)\n",
        "\n",
        "def extrair_lista(lista,indice):\n",
        "  lista_construida=[]\n",
        "  for i in range(0,len(lista)):\n",
        "    lista_construida.append(int(lista[i][indice]))\n",
        "  return lista_construida"
      ],
      "metadata": {
        "id": "tF8vX4fNFvn9"
      },
      "execution_count": null,
      "outputs": []
    },
    {
      "cell_type": "markdown",
      "source": [
        "Aplicando as funções acima e em variáveis de armazenamento"
      ],
      "metadata": {
        "id": "Cjg8TvpHJf3F"
      }
    },
    {
      "cell_type": "code",
      "source": [
        "separados_dias_anos_inicial=split_data(dataset_gas_limpo['DATA INICIAL'],'-')\n",
        "\n",
        "separados_dias_anos_final=split_data(dataset_gas_limpo['DATA FINAL'],'-')\n",
        "\n",
        "separados_dias_anos_final"
      ],
      "metadata": {
        "colab": {
          "base_uri": "https://localhost:8080/"
        },
        "id": "RXjJ0mHAJimd",
        "outputId": "c3bb3bf0-be81-406e-9e6d-1c2e71ac9575"
      },
      "execution_count": null,
      "outputs": [
        {
          "output_type": "execute_result",
          "data": {
            "text/plain": [
              "0         [2004, 05, 15]\n",
              "1         [2004, 05, 15]\n",
              "2         [2004, 05, 15]\n",
              "3         [2004, 05, 15]\n",
              "4         [2004, 05, 15]\n",
              "               ...      \n",
              "115879    [2020, 08, 22]\n",
              "115880    [2020, 08, 22]\n",
              "115881    [2020, 08, 22]\n",
              "115882    [2020, 08, 22]\n",
              "115883    [2020, 08, 22]\n",
              "Name: DATA FINAL, Length: 111875, dtype: object"
            ]
          },
          "metadata": {},
          "execution_count": 21
        }
      ]
    },
    {
      "cell_type": "code",
      "source": [
        "# anos_inicial=extrair_lista(separados_dias_anos_inicial,0)\n",
        "# meses_inicial=extrair_lista(separados_dias_anos_inicial,1)\n",
        "# dias_inicial=extrair_lista(separados_dias_anos_inicial,2)\n",
        "# anos_final=extrair_lista(separados_dias_anos_final,0)\n",
        "# meses_final=extrair_lista(separados_dias_anos_final,1)\n",
        "# dias_final=extrair_lista(separados_dias_anos_final,2)\n"
      ],
      "metadata": {
        "id": "BpW3f5uHLhtV"
      },
      "execution_count": null,
      "outputs": []
    },
    {
      "cell_type": "markdown",
      "source": [
        "Colocar as listas no dataframe\n",
        "\n",
        "\n"
      ],
      "metadata": {
        "id": "DByHRXhfKkG4"
      }
    },
    {
      "cell_type": "code",
      "source": [
        "# dataset_gas_limpo['DIA INICIAL']=dias_inicial\n",
        "# dataset_gas_limpo['MES INICIAL']=meses_inicial\n",
        "# dataset_gas_limpo['ANO INICIAL']=anos_inicial\n",
        "# dataset_gas_limpo['DIA FINAL']=dias_final\n",
        "# dataset_gas_limpo['MES FINAL']=meses_final\n",
        "# dataset_gas_limpo['ANO FINAL']=anos_final"
      ],
      "metadata": {
        "id": "Im7p5ttPMjWv"
      },
      "execution_count": null,
      "outputs": []
    },
    {
      "cell_type": "markdown",
      "source": [
        "_________"
      ],
      "metadata": {
        "id": "HKFIH65HDyxN"
      }
    },
    {
      "cell_type": "markdown",
      "source": [
        "Isto foi feito utilizando a função **.to_datetime** do próprio Pandas:"
      ],
      "metadata": {
        "id": "vkY37xVs8g6f"
      }
    },
    {
      "cell_type": "code",
      "source": [
        "dataset_gas_limpo['DIA INICIAL']=pd.to_datetime(dataset_gas_limpo['DATA INICIAL'], errors ='coerce').dt.day\n",
        "dataset_gas_limpo['MES INICIAL']=pd.to_datetime(dataset_gas_limpo['DATA INICIAL'], errors ='coerce').dt.month\n",
        "dataset_gas_limpo['ANO INICIAL']=pd.to_datetime(dataset_gas_limpo['DATA INICIAL'], errors ='coerce', ).dt.year\n",
        "dataset_gas_limpo['SEMANA INICIAL']=pd.to_datetime(dataset_gas_limpo['DATA INICIAL'], errors ='coerce').dt.week\n",
        "\n",
        "dataset_gas_limpo['DIA FINAL']=pd.to_datetime(dataset_gas_limpo['DATA FINAL'], errors ='coerce').dt.day\n",
        "dataset_gas_limpo['MES FINAL']=pd.to_datetime(dataset_gas_limpo['DATA FINAL'], errors ='coerce').dt.month\n",
        "dataset_gas_limpo['ANO FINAL']=pd.to_datetime(dataset_gas_limpo['DATA FINAL'], errors ='coerce').dt.year\n",
        "dataset_gas_limpo['SEMANA FINAL']=pd.to_datetime(dataset_gas_limpo['DATA FINAL'], errors ='coerce').dt.week"
      ],
      "metadata": {
        "colab": {
          "base_uri": "https://localhost:8080/"
        },
        "id": "4gqrjD148ozy",
        "outputId": "995b418f-3760-4bb8-a4f5-6b8b337b13ee"
      },
      "execution_count": null,
      "outputs": [
        {
          "output_type": "stream",
          "name": "stderr",
          "text": [
            "<ipython-input-24-a1c81358fe2e>:4: FutureWarning: Series.dt.weekofyear and Series.dt.week have been deprecated.  Please use Series.dt.isocalendar().week instead.\n",
            "  dataset_gas_limpo['SEMANA INICIAL']=pd.to_datetime(dataset_gas_limpo['DATA INICIAL'], errors ='coerce').dt.week\n",
            "<ipython-input-24-a1c81358fe2e>:9: FutureWarning: Series.dt.weekofyear and Series.dt.week have been deprecated.  Please use Series.dt.isocalendar().week instead.\n",
            "  dataset_gas_limpo['SEMANA FINAL']=pd.to_datetime(dataset_gas_limpo['DATA FINAL'], errors ='coerce').dt.week\n"
          ]
        }
      ]
    },
    {
      "cell_type": "markdown",
      "source": [
        "Após aplicarmos a função no *dataframe*, as novas colunas criadas foram inseridas."
      ],
      "metadata": {
        "id": "1_TQuxpiPjs2"
      }
    },
    {
      "cell_type": "code",
      "source": [
        "dataset_gas_limpo.head()"
      ],
      "metadata": {
        "colab": {
          "base_uri": "https://localhost:8080/",
          "height": 418
        },
        "id": "ri_-1wD63Cjd",
        "outputId": "d3c766d4-6c3f-40fb-803a-7b6c9f2e5b4f"
      },
      "execution_count": null,
      "outputs": [
        {
          "output_type": "execute_result",
          "data": {
            "text/plain": [
              "  DATA INICIAL  DATA FINAL        REGIÃO              ESTADO  \\\n",
              "0   2004-05-09  2004-05-15  CENTRO OESTE    DISTRITO FEDERAL   \n",
              "1   2004-05-09  2004-05-15  CENTRO OESTE               GOIAS   \n",
              "2   2004-05-09  2004-05-15  CENTRO OESTE         MATO GROSSO   \n",
              "3   2004-05-09  2004-05-15  CENTRO OESTE  MATO GROSSO DO SUL   \n",
              "4   2004-05-09  2004-05-15      NORDESTE             ALAGOAS   \n",
              "\n",
              "            PRODUTO  NÚMERO DE POSTOS PESQUISADOS UNIDADE DE MEDIDA  \\\n",
              "0  ETANOL HIDRATADO                           127              R$/l   \n",
              "1  ETANOL HIDRATADO                           387              R$/l   \n",
              "2  ETANOL HIDRATADO                           192              R$/l   \n",
              "3  ETANOL HIDRATADO                           162              R$/l   \n",
              "4  ETANOL HIDRATADO                           103              R$/l   \n",
              "\n",
              "   PREÇO MÉDIO REVENDA  DESVIO PADRÃO REVENDA  PREÇO MÍNIMO REVENDA  ...  \\\n",
              "0                1.288                  0.016                  1.19  ...   \n",
              "1                1.162                  0.114                  0.89  ...   \n",
              "2                1.389                  0.097                  1.18  ...   \n",
              "3                1.262                  0.070                  1.09  ...   \n",
              "4                1.181                  0.078                  1.05  ...   \n",
              "\n",
              "   PREÇO MÁXIMO DISTRIBUIÇÃO  COEF DE VARIAÇÃO DISTRIBUIÇÃO  DIA INICIAL  \\\n",
              "0                    0.96660                          0.133            9   \n",
              "1                    1.05000                          0.115            9   \n",
              "2                    1.16100                          0.098            9   \n",
              "3                    1.22242                          0.143            9   \n",
              "4                    1.03170                          0.082            9   \n",
              "\n",
              "   MES INICIAL  ANO INICIAL  SEMANA INICIAL  DIA FINAL  MES FINAL  ANO FINAL  \\\n",
              "0            5         2004              19         15          5       2004   \n",
              "1            5         2004              19         15          5       2004   \n",
              "2            5         2004              19         15          5       2004   \n",
              "3            5         2004              19         15          5       2004   \n",
              "4            5         2004              19         15          5       2004   \n",
              "\n",
              "   SEMANA FINAL  \n",
              "0            20  \n",
              "1            20  \n",
              "2            20  \n",
              "3            20  \n",
              "4            20  \n",
              "\n",
              "[5 rows x 26 columns]"
            ],
            "text/html": [
              "\n",
              "  <div id=\"df-6bb56b77-3701-4bbc-8dad-140f38454652\">\n",
              "    <div class=\"colab-df-container\">\n",
              "      <div>\n",
              "<style scoped>\n",
              "    .dataframe tbody tr th:only-of-type {\n",
              "        vertical-align: middle;\n",
              "    }\n",
              "\n",
              "    .dataframe tbody tr th {\n",
              "        vertical-align: top;\n",
              "    }\n",
              "\n",
              "    .dataframe thead th {\n",
              "        text-align: right;\n",
              "    }\n",
              "</style>\n",
              "<table border=\"1\" class=\"dataframe\">\n",
              "  <thead>\n",
              "    <tr style=\"text-align: right;\">\n",
              "      <th></th>\n",
              "      <th>DATA INICIAL</th>\n",
              "      <th>DATA FINAL</th>\n",
              "      <th>REGIÃO</th>\n",
              "      <th>ESTADO</th>\n",
              "      <th>PRODUTO</th>\n",
              "      <th>NÚMERO DE POSTOS PESQUISADOS</th>\n",
              "      <th>UNIDADE DE MEDIDA</th>\n",
              "      <th>PREÇO MÉDIO REVENDA</th>\n",
              "      <th>DESVIO PADRÃO REVENDA</th>\n",
              "      <th>PREÇO MÍNIMO REVENDA</th>\n",
              "      <th>...</th>\n",
              "      <th>PREÇO MÁXIMO DISTRIBUIÇÃO</th>\n",
              "      <th>COEF DE VARIAÇÃO DISTRIBUIÇÃO</th>\n",
              "      <th>DIA INICIAL</th>\n",
              "      <th>MES INICIAL</th>\n",
              "      <th>ANO INICIAL</th>\n",
              "      <th>SEMANA INICIAL</th>\n",
              "      <th>DIA FINAL</th>\n",
              "      <th>MES FINAL</th>\n",
              "      <th>ANO FINAL</th>\n",
              "      <th>SEMANA FINAL</th>\n",
              "    </tr>\n",
              "  </thead>\n",
              "  <tbody>\n",
              "    <tr>\n",
              "      <th>0</th>\n",
              "      <td>2004-05-09</td>\n",
              "      <td>2004-05-15</td>\n",
              "      <td>CENTRO OESTE</td>\n",
              "      <td>DISTRITO FEDERAL</td>\n",
              "      <td>ETANOL HIDRATADO</td>\n",
              "      <td>127</td>\n",
              "      <td>R$/l</td>\n",
              "      <td>1.288</td>\n",
              "      <td>0.016</td>\n",
              "      <td>1.19</td>\n",
              "      <td>...</td>\n",
              "      <td>0.96660</td>\n",
              "      <td>0.133</td>\n",
              "      <td>9</td>\n",
              "      <td>5</td>\n",
              "      <td>2004</td>\n",
              "      <td>19</td>\n",
              "      <td>15</td>\n",
              "      <td>5</td>\n",
              "      <td>2004</td>\n",
              "      <td>20</td>\n",
              "    </tr>\n",
              "    <tr>\n",
              "      <th>1</th>\n",
              "      <td>2004-05-09</td>\n",
              "      <td>2004-05-15</td>\n",
              "      <td>CENTRO OESTE</td>\n",
              "      <td>GOIAS</td>\n",
              "      <td>ETANOL HIDRATADO</td>\n",
              "      <td>387</td>\n",
              "      <td>R$/l</td>\n",
              "      <td>1.162</td>\n",
              "      <td>0.114</td>\n",
              "      <td>0.89</td>\n",
              "      <td>...</td>\n",
              "      <td>1.05000</td>\n",
              "      <td>0.115</td>\n",
              "      <td>9</td>\n",
              "      <td>5</td>\n",
              "      <td>2004</td>\n",
              "      <td>19</td>\n",
              "      <td>15</td>\n",
              "      <td>5</td>\n",
              "      <td>2004</td>\n",
              "      <td>20</td>\n",
              "    </tr>\n",
              "    <tr>\n",
              "      <th>2</th>\n",
              "      <td>2004-05-09</td>\n",
              "      <td>2004-05-15</td>\n",
              "      <td>CENTRO OESTE</td>\n",
              "      <td>MATO GROSSO</td>\n",
              "      <td>ETANOL HIDRATADO</td>\n",
              "      <td>192</td>\n",
              "      <td>R$/l</td>\n",
              "      <td>1.389</td>\n",
              "      <td>0.097</td>\n",
              "      <td>1.18</td>\n",
              "      <td>...</td>\n",
              "      <td>1.16100</td>\n",
              "      <td>0.098</td>\n",
              "      <td>9</td>\n",
              "      <td>5</td>\n",
              "      <td>2004</td>\n",
              "      <td>19</td>\n",
              "      <td>15</td>\n",
              "      <td>5</td>\n",
              "      <td>2004</td>\n",
              "      <td>20</td>\n",
              "    </tr>\n",
              "    <tr>\n",
              "      <th>3</th>\n",
              "      <td>2004-05-09</td>\n",
              "      <td>2004-05-15</td>\n",
              "      <td>CENTRO OESTE</td>\n",
              "      <td>MATO GROSSO DO SUL</td>\n",
              "      <td>ETANOL HIDRATADO</td>\n",
              "      <td>162</td>\n",
              "      <td>R$/l</td>\n",
              "      <td>1.262</td>\n",
              "      <td>0.070</td>\n",
              "      <td>1.09</td>\n",
              "      <td>...</td>\n",
              "      <td>1.22242</td>\n",
              "      <td>0.143</td>\n",
              "      <td>9</td>\n",
              "      <td>5</td>\n",
              "      <td>2004</td>\n",
              "      <td>19</td>\n",
              "      <td>15</td>\n",
              "      <td>5</td>\n",
              "      <td>2004</td>\n",
              "      <td>20</td>\n",
              "    </tr>\n",
              "    <tr>\n",
              "      <th>4</th>\n",
              "      <td>2004-05-09</td>\n",
              "      <td>2004-05-15</td>\n",
              "      <td>NORDESTE</td>\n",
              "      <td>ALAGOAS</td>\n",
              "      <td>ETANOL HIDRATADO</td>\n",
              "      <td>103</td>\n",
              "      <td>R$/l</td>\n",
              "      <td>1.181</td>\n",
              "      <td>0.078</td>\n",
              "      <td>1.05</td>\n",
              "      <td>...</td>\n",
              "      <td>1.03170</td>\n",
              "      <td>0.082</td>\n",
              "      <td>9</td>\n",
              "      <td>5</td>\n",
              "      <td>2004</td>\n",
              "      <td>19</td>\n",
              "      <td>15</td>\n",
              "      <td>5</td>\n",
              "      <td>2004</td>\n",
              "      <td>20</td>\n",
              "    </tr>\n",
              "  </tbody>\n",
              "</table>\n",
              "<p>5 rows × 26 columns</p>\n",
              "</div>\n",
              "      <button class=\"colab-df-convert\" onclick=\"convertToInteractive('df-6bb56b77-3701-4bbc-8dad-140f38454652')\"\n",
              "              title=\"Convert this dataframe to an interactive table.\"\n",
              "              style=\"display:none;\">\n",
              "        \n",
              "  <svg xmlns=\"http://www.w3.org/2000/svg\" height=\"24px\"viewBox=\"0 0 24 24\"\n",
              "       width=\"24px\">\n",
              "    <path d=\"M0 0h24v24H0V0z\" fill=\"none\"/>\n",
              "    <path d=\"M18.56 5.44l.94 2.06.94-2.06 2.06-.94-2.06-.94-.94-2.06-.94 2.06-2.06.94zm-11 1L8.5 8.5l.94-2.06 2.06-.94-2.06-.94L8.5 2.5l-.94 2.06-2.06.94zm10 10l.94 2.06.94-2.06 2.06-.94-2.06-.94-.94-2.06-.94 2.06-2.06.94z\"/><path d=\"M17.41 7.96l-1.37-1.37c-.4-.4-.92-.59-1.43-.59-.52 0-1.04.2-1.43.59L10.3 9.45l-7.72 7.72c-.78.78-.78 2.05 0 2.83L4 21.41c.39.39.9.59 1.41.59.51 0 1.02-.2 1.41-.59l7.78-7.78 2.81-2.81c.8-.78.8-2.07 0-2.86zM5.41 20L4 18.59l7.72-7.72 1.47 1.35L5.41 20z\"/>\n",
              "  </svg>\n",
              "      </button>\n",
              "      \n",
              "  <style>\n",
              "    .colab-df-container {\n",
              "      display:flex;\n",
              "      flex-wrap:wrap;\n",
              "      gap: 12px;\n",
              "    }\n",
              "\n",
              "    .colab-df-convert {\n",
              "      background-color: #E8F0FE;\n",
              "      border: none;\n",
              "      border-radius: 50%;\n",
              "      cursor: pointer;\n",
              "      display: none;\n",
              "      fill: #1967D2;\n",
              "      height: 32px;\n",
              "      padding: 0 0 0 0;\n",
              "      width: 32px;\n",
              "    }\n",
              "\n",
              "    .colab-df-convert:hover {\n",
              "      background-color: #E2EBFA;\n",
              "      box-shadow: 0px 1px 2px rgba(60, 64, 67, 0.3), 0px 1px 3px 1px rgba(60, 64, 67, 0.15);\n",
              "      fill: #174EA6;\n",
              "    }\n",
              "\n",
              "    [theme=dark] .colab-df-convert {\n",
              "      background-color: #3B4455;\n",
              "      fill: #D2E3FC;\n",
              "    }\n",
              "\n",
              "    [theme=dark] .colab-df-convert:hover {\n",
              "      background-color: #434B5C;\n",
              "      box-shadow: 0px 1px 3px 1px rgba(0, 0, 0, 0.15);\n",
              "      filter: drop-shadow(0px 1px 2px rgba(0, 0, 0, 0.3));\n",
              "      fill: #FFFFFF;\n",
              "    }\n",
              "  </style>\n",
              "\n",
              "      <script>\n",
              "        const buttonEl =\n",
              "          document.querySelector('#df-6bb56b77-3701-4bbc-8dad-140f38454652 button.colab-df-convert');\n",
              "        buttonEl.style.display =\n",
              "          google.colab.kernel.accessAllowed ? 'block' : 'none';\n",
              "\n",
              "        async function convertToInteractive(key) {\n",
              "          const element = document.querySelector('#df-6bb56b77-3701-4bbc-8dad-140f38454652');\n",
              "          const dataTable =\n",
              "            await google.colab.kernel.invokeFunction('convertToInteractive',\n",
              "                                                     [key], {});\n",
              "          if (!dataTable) return;\n",
              "\n",
              "          const docLinkHtml = 'Like what you see? Visit the ' +\n",
              "            '<a target=\"_blank\" href=https://colab.research.google.com/notebooks/data_table.ipynb>data table notebook</a>'\n",
              "            + ' to learn more about interactive tables.';\n",
              "          element.innerHTML = '';\n",
              "          dataTable['output_type'] = 'display_data';\n",
              "          await google.colab.output.renderOutput(dataTable, element);\n",
              "          const docLink = document.createElement('div');\n",
              "          docLink.innerHTML = docLinkHtml;\n",
              "          element.appendChild(docLink);\n",
              "        }\n",
              "      </script>\n",
              "    </div>\n",
              "  </div>\n",
              "  "
            ]
          },
          "metadata": {},
          "execution_count": 25
        }
      ]
    },
    {
      "cell_type": "markdown",
      "source": [
        "As colunas foram reordenadas a fim de melhor compreensão dos dados, no qual dados referentes a datas venham em sequência. O atributo **.columns** foi utilizado para extrair o nome das colunas e em seguida foi feito um **.reindex()** para ordena-las na sequência desejada."
      ],
      "metadata": {
        "id": "8HDuwHJD9c4E"
      }
    },
    {
      "cell_type": "code",
      "source": [
        "dataset_gas_limpo.columns"
      ],
      "metadata": {
        "colab": {
          "base_uri": "https://localhost:8080/"
        },
        "id": "0-264wpT9i54",
        "outputId": "d31c9b0f-7eee-4931-85a7-64327ed05fc1"
      },
      "execution_count": null,
      "outputs": [
        {
          "output_type": "execute_result",
          "data": {
            "text/plain": [
              "Index(['DATA INICIAL', 'DATA FINAL', 'REGIÃO', 'ESTADO', 'PRODUTO',\n",
              "       'NÚMERO DE POSTOS PESQUISADOS', 'UNIDADE DE MEDIDA',\n",
              "       'PREÇO MÉDIO REVENDA', 'DESVIO PADRÃO REVENDA', 'PREÇO MÍNIMO REVENDA',\n",
              "       'PREÇO MÁXIMO REVENDA', 'MARGEM MÉDIA REVENDA',\n",
              "       'COEF DE VARIAÇÃO REVENDA', 'PREÇO MÉDIO DISTRIBUIÇÃO',\n",
              "       'DESVIO PADRÃO DISTRIBUIÇÃO', 'PREÇO MÍNIMO DISTRIBUIÇÃO',\n",
              "       'PREÇO MÁXIMO DISTRIBUIÇÃO', 'COEF DE VARIAÇÃO DISTRIBUIÇÃO',\n",
              "       'DIA INICIAL', 'MES INICIAL', 'ANO INICIAL', 'SEMANA INICIAL',\n",
              "       'DIA FINAL', 'MES FINAL', 'ANO FINAL', 'SEMANA FINAL'],\n",
              "      dtype='object')"
            ]
          },
          "metadata": {},
          "execution_count": 26
        }
      ]
    },
    {
      "cell_type": "code",
      "source": [
        "cols = ['DATA INICIAL', \n",
        "        'DIA INICIAL', \n",
        "        'MES INICIAL', \n",
        "        'ANO INICIAL', \n",
        "        'SEMANA INICIAL',\n",
        "        'DATA FINAL',\n",
        "        'DIA FINAL', \n",
        "        'MES FINAL', \n",
        "        'ANO FINAL', \n",
        "        'SEMANA FINAL',\n",
        "        'REGIÃO', \n",
        "        'ESTADO', \n",
        "        'PRODUTO',\n",
        "        'NÚMERO DE POSTOS PESQUISADOS', \n",
        "        'UNIDADE DE MEDIDA',\n",
        "        'PREÇO MÉDIO REVENDA', \n",
        "        'DESVIO PADRÃO REVENDA', \n",
        "        'PREÇO MÍNIMO REVENDA',\n",
        "        'PREÇO MÁXIMO REVENDA', \n",
        "        'MARGEM MÉDIA REVENDA',\n",
        "        'COEF DE VARIAÇÃO REVENDA', \n",
        "        'PREÇO MÉDIO DISTRIBUIÇÃO',\n",
        "        'DESVIO PADRÃO DISTRIBUIÇÃO', \n",
        "        'PREÇO MÍNIMO DISTRIBUIÇÃO',\n",
        "        'PREÇO MÁXIMO DISTRIBUIÇÃO', \n",
        "        'COEF DE VARIAÇÃO DISTRIBUIÇÃO',\n",
        "]\n",
        "\n",
        "dataset_gas_limpo = dataset_gas_limpo.reindex(columns=cols)\n",
        "\n",
        "dataset_gas_limpo.head()"
      ],
      "metadata": {
        "colab": {
          "base_uri": "https://localhost:8080/",
          "height": 401
        },
        "id": "SmaSe6-f9cZG",
        "outputId": "a4ed0701-07ee-4b9a-f169-0fc766574aef"
      },
      "execution_count": null,
      "outputs": [
        {
          "output_type": "execute_result",
          "data": {
            "text/plain": [
              "  DATA INICIAL  DIA INICIAL  MES INICIAL  ANO INICIAL  SEMANA INICIAL  \\\n",
              "0   2004-05-09            9            5         2004              19   \n",
              "1   2004-05-09            9            5         2004              19   \n",
              "2   2004-05-09            9            5         2004              19   \n",
              "3   2004-05-09            9            5         2004              19   \n",
              "4   2004-05-09            9            5         2004              19   \n",
              "\n",
              "   DATA FINAL  DIA FINAL  MES FINAL  ANO FINAL  SEMANA FINAL  ...  \\\n",
              "0  2004-05-15         15          5       2004            20  ...   \n",
              "1  2004-05-15         15          5       2004            20  ...   \n",
              "2  2004-05-15         15          5       2004            20  ...   \n",
              "3  2004-05-15         15          5       2004            20  ...   \n",
              "4  2004-05-15         15          5       2004            20  ...   \n",
              "\n",
              "  DESVIO PADRÃO REVENDA PREÇO MÍNIMO REVENDA PREÇO MÁXIMO REVENDA  \\\n",
              "0                 0.016                 1.19                1.350   \n",
              "1                 0.114                 0.89                1.449   \n",
              "2                 0.097                 1.18                1.760   \n",
              "3                 0.070                 1.09                1.509   \n",
              "4                 0.078                 1.05                1.400   \n",
              "\n",
              "   MARGEM MÉDIA REVENDA COEF DE VARIAÇÃO REVENDA  PREÇO MÉDIO DISTRIBUIÇÃO  \\\n",
              "0                 0.463                    0.012                     0.825   \n",
              "1                 0.399                    0.098                     0.763   \n",
              "2                 0.419                    0.070                     0.970   \n",
              "3                 0.432                    0.055                     0.830   \n",
              "4                 0.240                    0.066                     0.941   \n",
              "\n",
              "   DESVIO PADRÃO DISTRIBUIÇÃO  PREÇO MÍNIMO DISTRIBUIÇÃO  \\\n",
              "0                       0.110                     0.4201   \n",
              "1                       0.088                     0.5013   \n",
              "2                       0.095                     0.5614   \n",
              "3                       0.119                     0.5991   \n",
              "4                       0.077                     0.7441   \n",
              "\n",
              "   PREÇO MÁXIMO DISTRIBUIÇÃO  COEF DE VARIAÇÃO DISTRIBUIÇÃO  \n",
              "0                    0.96660                          0.133  \n",
              "1                    1.05000                          0.115  \n",
              "2                    1.16100                          0.098  \n",
              "3                    1.22242                          0.143  \n",
              "4                    1.03170                          0.082  \n",
              "\n",
              "[5 rows x 26 columns]"
            ],
            "text/html": [
              "\n",
              "  <div id=\"df-9c98cc53-f863-4104-bfa7-a1598755d0d4\">\n",
              "    <div class=\"colab-df-container\">\n",
              "      <div>\n",
              "<style scoped>\n",
              "    .dataframe tbody tr th:only-of-type {\n",
              "        vertical-align: middle;\n",
              "    }\n",
              "\n",
              "    .dataframe tbody tr th {\n",
              "        vertical-align: top;\n",
              "    }\n",
              "\n",
              "    .dataframe thead th {\n",
              "        text-align: right;\n",
              "    }\n",
              "</style>\n",
              "<table border=\"1\" class=\"dataframe\">\n",
              "  <thead>\n",
              "    <tr style=\"text-align: right;\">\n",
              "      <th></th>\n",
              "      <th>DATA INICIAL</th>\n",
              "      <th>DIA INICIAL</th>\n",
              "      <th>MES INICIAL</th>\n",
              "      <th>ANO INICIAL</th>\n",
              "      <th>SEMANA INICIAL</th>\n",
              "      <th>DATA FINAL</th>\n",
              "      <th>DIA FINAL</th>\n",
              "      <th>MES FINAL</th>\n",
              "      <th>ANO FINAL</th>\n",
              "      <th>SEMANA FINAL</th>\n",
              "      <th>...</th>\n",
              "      <th>DESVIO PADRÃO REVENDA</th>\n",
              "      <th>PREÇO MÍNIMO REVENDA</th>\n",
              "      <th>PREÇO MÁXIMO REVENDA</th>\n",
              "      <th>MARGEM MÉDIA REVENDA</th>\n",
              "      <th>COEF DE VARIAÇÃO REVENDA</th>\n",
              "      <th>PREÇO MÉDIO DISTRIBUIÇÃO</th>\n",
              "      <th>DESVIO PADRÃO DISTRIBUIÇÃO</th>\n",
              "      <th>PREÇO MÍNIMO DISTRIBUIÇÃO</th>\n",
              "      <th>PREÇO MÁXIMO DISTRIBUIÇÃO</th>\n",
              "      <th>COEF DE VARIAÇÃO DISTRIBUIÇÃO</th>\n",
              "    </tr>\n",
              "  </thead>\n",
              "  <tbody>\n",
              "    <tr>\n",
              "      <th>0</th>\n",
              "      <td>2004-05-09</td>\n",
              "      <td>9</td>\n",
              "      <td>5</td>\n",
              "      <td>2004</td>\n",
              "      <td>19</td>\n",
              "      <td>2004-05-15</td>\n",
              "      <td>15</td>\n",
              "      <td>5</td>\n",
              "      <td>2004</td>\n",
              "      <td>20</td>\n",
              "      <td>...</td>\n",
              "      <td>0.016</td>\n",
              "      <td>1.19</td>\n",
              "      <td>1.350</td>\n",
              "      <td>0.463</td>\n",
              "      <td>0.012</td>\n",
              "      <td>0.825</td>\n",
              "      <td>0.110</td>\n",
              "      <td>0.4201</td>\n",
              "      <td>0.96660</td>\n",
              "      <td>0.133</td>\n",
              "    </tr>\n",
              "    <tr>\n",
              "      <th>1</th>\n",
              "      <td>2004-05-09</td>\n",
              "      <td>9</td>\n",
              "      <td>5</td>\n",
              "      <td>2004</td>\n",
              "      <td>19</td>\n",
              "      <td>2004-05-15</td>\n",
              "      <td>15</td>\n",
              "      <td>5</td>\n",
              "      <td>2004</td>\n",
              "      <td>20</td>\n",
              "      <td>...</td>\n",
              "      <td>0.114</td>\n",
              "      <td>0.89</td>\n",
              "      <td>1.449</td>\n",
              "      <td>0.399</td>\n",
              "      <td>0.098</td>\n",
              "      <td>0.763</td>\n",
              "      <td>0.088</td>\n",
              "      <td>0.5013</td>\n",
              "      <td>1.05000</td>\n",
              "      <td>0.115</td>\n",
              "    </tr>\n",
              "    <tr>\n",
              "      <th>2</th>\n",
              "      <td>2004-05-09</td>\n",
              "      <td>9</td>\n",
              "      <td>5</td>\n",
              "      <td>2004</td>\n",
              "      <td>19</td>\n",
              "      <td>2004-05-15</td>\n",
              "      <td>15</td>\n",
              "      <td>5</td>\n",
              "      <td>2004</td>\n",
              "      <td>20</td>\n",
              "      <td>...</td>\n",
              "      <td>0.097</td>\n",
              "      <td>1.18</td>\n",
              "      <td>1.760</td>\n",
              "      <td>0.419</td>\n",
              "      <td>0.070</td>\n",
              "      <td>0.970</td>\n",
              "      <td>0.095</td>\n",
              "      <td>0.5614</td>\n",
              "      <td>1.16100</td>\n",
              "      <td>0.098</td>\n",
              "    </tr>\n",
              "    <tr>\n",
              "      <th>3</th>\n",
              "      <td>2004-05-09</td>\n",
              "      <td>9</td>\n",
              "      <td>5</td>\n",
              "      <td>2004</td>\n",
              "      <td>19</td>\n",
              "      <td>2004-05-15</td>\n",
              "      <td>15</td>\n",
              "      <td>5</td>\n",
              "      <td>2004</td>\n",
              "      <td>20</td>\n",
              "      <td>...</td>\n",
              "      <td>0.070</td>\n",
              "      <td>1.09</td>\n",
              "      <td>1.509</td>\n",
              "      <td>0.432</td>\n",
              "      <td>0.055</td>\n",
              "      <td>0.830</td>\n",
              "      <td>0.119</td>\n",
              "      <td>0.5991</td>\n",
              "      <td>1.22242</td>\n",
              "      <td>0.143</td>\n",
              "    </tr>\n",
              "    <tr>\n",
              "      <th>4</th>\n",
              "      <td>2004-05-09</td>\n",
              "      <td>9</td>\n",
              "      <td>5</td>\n",
              "      <td>2004</td>\n",
              "      <td>19</td>\n",
              "      <td>2004-05-15</td>\n",
              "      <td>15</td>\n",
              "      <td>5</td>\n",
              "      <td>2004</td>\n",
              "      <td>20</td>\n",
              "      <td>...</td>\n",
              "      <td>0.078</td>\n",
              "      <td>1.05</td>\n",
              "      <td>1.400</td>\n",
              "      <td>0.240</td>\n",
              "      <td>0.066</td>\n",
              "      <td>0.941</td>\n",
              "      <td>0.077</td>\n",
              "      <td>0.7441</td>\n",
              "      <td>1.03170</td>\n",
              "      <td>0.082</td>\n",
              "    </tr>\n",
              "  </tbody>\n",
              "</table>\n",
              "<p>5 rows × 26 columns</p>\n",
              "</div>\n",
              "      <button class=\"colab-df-convert\" onclick=\"convertToInteractive('df-9c98cc53-f863-4104-bfa7-a1598755d0d4')\"\n",
              "              title=\"Convert this dataframe to an interactive table.\"\n",
              "              style=\"display:none;\">\n",
              "        \n",
              "  <svg xmlns=\"http://www.w3.org/2000/svg\" height=\"24px\"viewBox=\"0 0 24 24\"\n",
              "       width=\"24px\">\n",
              "    <path d=\"M0 0h24v24H0V0z\" fill=\"none\"/>\n",
              "    <path d=\"M18.56 5.44l.94 2.06.94-2.06 2.06-.94-2.06-.94-.94-2.06-.94 2.06-2.06.94zm-11 1L8.5 8.5l.94-2.06 2.06-.94-2.06-.94L8.5 2.5l-.94 2.06-2.06.94zm10 10l.94 2.06.94-2.06 2.06-.94-2.06-.94-.94-2.06-.94 2.06-2.06.94z\"/><path d=\"M17.41 7.96l-1.37-1.37c-.4-.4-.92-.59-1.43-.59-.52 0-1.04.2-1.43.59L10.3 9.45l-7.72 7.72c-.78.78-.78 2.05 0 2.83L4 21.41c.39.39.9.59 1.41.59.51 0 1.02-.2 1.41-.59l7.78-7.78 2.81-2.81c.8-.78.8-2.07 0-2.86zM5.41 20L4 18.59l7.72-7.72 1.47 1.35L5.41 20z\"/>\n",
              "  </svg>\n",
              "      </button>\n",
              "      \n",
              "  <style>\n",
              "    .colab-df-container {\n",
              "      display:flex;\n",
              "      flex-wrap:wrap;\n",
              "      gap: 12px;\n",
              "    }\n",
              "\n",
              "    .colab-df-convert {\n",
              "      background-color: #E8F0FE;\n",
              "      border: none;\n",
              "      border-radius: 50%;\n",
              "      cursor: pointer;\n",
              "      display: none;\n",
              "      fill: #1967D2;\n",
              "      height: 32px;\n",
              "      padding: 0 0 0 0;\n",
              "      width: 32px;\n",
              "    }\n",
              "\n",
              "    .colab-df-convert:hover {\n",
              "      background-color: #E2EBFA;\n",
              "      box-shadow: 0px 1px 2px rgba(60, 64, 67, 0.3), 0px 1px 3px 1px rgba(60, 64, 67, 0.15);\n",
              "      fill: #174EA6;\n",
              "    }\n",
              "\n",
              "    [theme=dark] .colab-df-convert {\n",
              "      background-color: #3B4455;\n",
              "      fill: #D2E3FC;\n",
              "    }\n",
              "\n",
              "    [theme=dark] .colab-df-convert:hover {\n",
              "      background-color: #434B5C;\n",
              "      box-shadow: 0px 1px 3px 1px rgba(0, 0, 0, 0.15);\n",
              "      filter: drop-shadow(0px 1px 2px rgba(0, 0, 0, 0.3));\n",
              "      fill: #FFFFFF;\n",
              "    }\n",
              "  </style>\n",
              "\n",
              "      <script>\n",
              "        const buttonEl =\n",
              "          document.querySelector('#df-9c98cc53-f863-4104-bfa7-a1598755d0d4 button.colab-df-convert');\n",
              "        buttonEl.style.display =\n",
              "          google.colab.kernel.accessAllowed ? 'block' : 'none';\n",
              "\n",
              "        async function convertToInteractive(key) {\n",
              "          const element = document.querySelector('#df-9c98cc53-f863-4104-bfa7-a1598755d0d4');\n",
              "          const dataTable =\n",
              "            await google.colab.kernel.invokeFunction('convertToInteractive',\n",
              "                                                     [key], {});\n",
              "          if (!dataTable) return;\n",
              "\n",
              "          const docLinkHtml = 'Like what you see? Visit the ' +\n",
              "            '<a target=\"_blank\" href=https://colab.research.google.com/notebooks/data_table.ipynb>data table notebook</a>'\n",
              "            + ' to learn more about interactive tables.';\n",
              "          element.innerHTML = '';\n",
              "          dataTable['output_type'] = 'display_data';\n",
              "          await google.colab.output.renderOutput(dataTable, element);\n",
              "          const docLink = document.createElement('div');\n",
              "          docLink.innerHTML = docLinkHtml;\n",
              "          element.appendChild(docLink);\n",
              "        }\n",
              "      </script>\n",
              "    </div>\n",
              "  </div>\n",
              "  "
            ]
          },
          "metadata": {},
          "execution_count": 27
        }
      ]
    },
    {
      "cell_type": "markdown",
      "source": [
        "O próximo ponto de investigação dos dados é referente às colunas do tipo *'Object'*, uma vez que possuem *strings* e essas podem conter divergências, por exemplo a mesma palavra escrita de forma errada."
      ],
      "metadata": {
        "id": "gO52pUR1m4XJ"
      }
    },
    {
      "cell_type": "markdown",
      "source": [
        "Analisando os valores únicos das colunas:\n",
        "\n",
        "- REGIÃO\n",
        "- ESTADO\n",
        "- PRODUTO\n",
        "- UNIDADE DE MEDIDA\n",
        "\n",
        "O método **.unique()** permite extrair valores únicos de cada coluna, assim é possível identificar se há discrepâncias."
      ],
      "metadata": {
        "id": "_JGwCmegnLan"
      }
    },
    {
      "cell_type": "code",
      "source": [
        "dataset_gas_limpo['REGIÃO'].unique()"
      ],
      "metadata": {
        "colab": {
          "base_uri": "https://localhost:8080/"
        },
        "id": "V6yz-b9DGQfI",
        "outputId": "ba539cfc-0f58-4b75-951d-fbfa5d4cf50d"
      },
      "execution_count": null,
      "outputs": [
        {
          "output_type": "execute_result",
          "data": {
            "text/plain": [
              "array(['CENTRO OESTE', 'NORDESTE', 'NORTE', 'SUDESTE', 'SUL'],\n",
              "      dtype=object)"
            ]
          },
          "metadata": {},
          "execution_count": 28
        }
      ]
    },
    {
      "cell_type": "code",
      "source": [
        "dataset_gas_limpo['ESTADO'].unique()"
      ],
      "metadata": {
        "colab": {
          "base_uri": "https://localhost:8080/"
        },
        "id": "j-fTGPTwGWjh",
        "outputId": "3d4db180-1fbf-4461-fa1d-d2a9cf66e155"
      },
      "execution_count": null,
      "outputs": [
        {
          "output_type": "execute_result",
          "data": {
            "text/plain": [
              "array(['DISTRITO FEDERAL', 'GOIAS', 'MATO GROSSO', 'MATO GROSSO DO SUL',\n",
              "       'ALAGOAS', 'BAHIA', 'CEARA', 'MARANHAO', 'PARAIBA', 'PERNAMBUCO',\n",
              "       'PIAUI', 'RIO GRANDE DO NORTE', 'SERGIPE', 'ACRE', 'AMAPA',\n",
              "       'AMAZONAS', 'PARA', 'RONDONIA', 'RORAIMA', 'TOCANTINS',\n",
              "       'ESPIRITO SANTO', 'MINAS GERAIS', 'RIO DE JANEIRO', 'SAO PAULO',\n",
              "       'PARANA', 'RIO GRANDE DO SUL', 'SANTA CATARINA'], dtype=object)"
            ]
          },
          "metadata": {},
          "execution_count": 29
        }
      ]
    },
    {
      "cell_type": "code",
      "source": [
        "dataset_gas_limpo['PRODUTO'].unique()"
      ],
      "metadata": {
        "colab": {
          "base_uri": "https://localhost:8080/"
        },
        "id": "In-Ltq2CGZxv",
        "outputId": "a00b8089-b963-424d-e1e3-bb9d9e2cb2a4"
      },
      "execution_count": null,
      "outputs": [
        {
          "output_type": "execute_result",
          "data": {
            "text/plain": [
              "array(['ETANOL HIDRATADO', 'GASOLINA COMUM', 'GLP', 'GNV', 'ÓLEO DIESEL',\n",
              "       'ÓLEO DIESEL S10', 'OLEO DIESEL', 'OLEO DIESEL S10'], dtype=object)"
            ]
          },
          "metadata": {},
          "execution_count": 30
        }
      ]
    },
    {
      "cell_type": "code",
      "source": [
        "dataset_gas_limpo['UNIDADE DE MEDIDA'].unique()"
      ],
      "metadata": {
        "colab": {
          "base_uri": "https://localhost:8080/"
        },
        "id": "Df6c07uvGhXm",
        "outputId": "9e33847f-a232-4d4b-8e45-f74c1dfd8582"
      },
      "execution_count": null,
      "outputs": [
        {
          "output_type": "execute_result",
          "data": {
            "text/plain": [
              "array(['R$/l', 'R$/13Kg', 'R$/m3'], dtype=object)"
            ]
          },
          "metadata": {},
          "execution_count": 31
        }
      ]
    },
    {
      "cell_type": "markdown",
      "source": [
        "Analisando os valores únicos das colunas, fizemos as seguintes modificações:\n",
        "\n",
        "- REGIÃO\n",
        "  - Não houve.\n",
        "- ESTADO\n",
        "  - Modificação para siglas a fim de simplificação.\n",
        "- PRODUTO\n",
        "  - Padronização de palavras.\n",
        "- UNIDADE DE MEDIDA\n",
        "  - Não houve."
      ],
      "metadata": {
        "id": "Xo1ucMEsnezG"
      }
    },
    {
      "cell_type": "markdown",
      "source": [
        "A primeira modificação foi referente à mudança dos nomes dos estados/unidade federativa para suas respectivas siglas. Isto foi feito utilizando um dicionário e a função **.map()**."
      ],
      "metadata": {
        "id": "VVYndsDPIKQ0"
      }
    },
    {
      "cell_type": "code",
      "source": [
        "estado = {'DISTRITO FEDERAL': 'DF',\n",
        "          'GOIAS': 'GO',\n",
        "          'MATO GROSSO': 'MT',\n",
        "          'MATO GROSSO DO SUL': 'MS',\n",
        "          'ALAGOAS': 'AL',\n",
        "          'BAHIA': 'BA',\n",
        "          'CEARA': 'CE',\n",
        "          'MARANHAO': 'MA',\n",
        "          'PARAIBA': 'PB',\n",
        "          'PERNAMBUCO': 'PE',\n",
        "          'PIAUI': 'PI',\n",
        "          'RIO GRANDE DO NORTE': 'RN',\n",
        "          'SERGIPE': 'SE',\n",
        "          'ACRE': 'AC',\n",
        "          'AMAPA': 'AP',\n",
        "          'AMAZONAS': 'AM',\n",
        "          'PARA': 'PA',\n",
        "          'RONDONIA': 'RO',\n",
        "          'RORAIMA': 'RR',\n",
        "          'TOCANTINS': 'TO',\n",
        "          'ESPIRITO SANTO': 'ES',\n",
        "          'MINAS GERAIS': 'MG',\n",
        "          'RIO DE JANEIRO': 'RJ',\n",
        "          'SAO PAULO': 'SP',\n",
        "          'PARANA': 'PR',\n",
        "          'RIO GRANDE DO SUL': 'RS',\n",
        "          'SANTA CATARINA': 'SC'\n",
        "}\n",
        "dataset_gas_limpo['ESTADO'] = dataset_gas_limpo['ESTADO'].map(estado)"
      ],
      "metadata": {
        "id": "tkdVsMraqomW"
      },
      "execution_count": null,
      "outputs": []
    },
    {
      "cell_type": "markdown",
      "source": [
        "Para os nomes iguais, porém com alguma divergência na escrita, foi utilizado o método **.replace()**, como no caso do 'Óleo Diesel' e 'Oleo Diesel'."
      ],
      "metadata": {
        "id": "TvOBXRpXJJ1L"
      }
    },
    {
      "cell_type": "code",
      "source": [
        "dataset_gas_limpo = dataset_gas_limpo.replace('ÓLEO DIESEL' , 'OLEO DIESEL')\n",
        "dataset_gas_limpo = dataset_gas_limpo.replace('ÓLEO DIESEL S10' , 'OLEO DIESEL S10')\n",
        "dataset_gas_limpo['PRODUTO'].unique()"
      ],
      "metadata": {
        "colab": {
          "base_uri": "https://localhost:8080/"
        },
        "id": "Zi_XnIttqojN",
        "outputId": "36ea98ed-3e26-4f88-a063-237ac2e933e8"
      },
      "execution_count": null,
      "outputs": [
        {
          "output_type": "execute_result",
          "data": {
            "text/plain": [
              "array(['ETANOL HIDRATADO', 'GASOLINA COMUM', 'GLP', 'GNV', 'OLEO DIESEL',\n",
              "       'OLEO DIESEL S10'], dtype=object)"
            ]
          },
          "metadata": {},
          "execution_count": 33
        }
      ]
    },
    {
      "cell_type": "markdown",
      "source": [
        "Após a investigação e limpeza, a versão final do *dataframe* se apresenta da seguinte forma:"
      ],
      "metadata": {
        "id": "x4qUUYLsA-Hs"
      }
    },
    {
      "cell_type": "code",
      "source": [
        "dataset_gas_limpo.head()"
      ],
      "metadata": {
        "colab": {
          "base_uri": "https://localhost:8080/",
          "height": 401
        },
        "id": "msAvbc2IA5Nt",
        "outputId": "d66a87d3-32d1-442a-ab4f-cf6653541541"
      },
      "execution_count": null,
      "outputs": [
        {
          "output_type": "execute_result",
          "data": {
            "text/plain": [
              "  DATA INICIAL  DIA INICIAL  MES INICIAL  ANO INICIAL  SEMANA INICIAL  \\\n",
              "0   2004-05-09            9            5         2004              19   \n",
              "1   2004-05-09            9            5         2004              19   \n",
              "2   2004-05-09            9            5         2004              19   \n",
              "3   2004-05-09            9            5         2004              19   \n",
              "4   2004-05-09            9            5         2004              19   \n",
              "\n",
              "   DATA FINAL  DIA FINAL  MES FINAL  ANO FINAL  SEMANA FINAL  ...  \\\n",
              "0  2004-05-15         15          5       2004            20  ...   \n",
              "1  2004-05-15         15          5       2004            20  ...   \n",
              "2  2004-05-15         15          5       2004            20  ...   \n",
              "3  2004-05-15         15          5       2004            20  ...   \n",
              "4  2004-05-15         15          5       2004            20  ...   \n",
              "\n",
              "  DESVIO PADRÃO REVENDA PREÇO MÍNIMO REVENDA PREÇO MÁXIMO REVENDA  \\\n",
              "0                 0.016                 1.19                1.350   \n",
              "1                 0.114                 0.89                1.449   \n",
              "2                 0.097                 1.18                1.760   \n",
              "3                 0.070                 1.09                1.509   \n",
              "4                 0.078                 1.05                1.400   \n",
              "\n",
              "   MARGEM MÉDIA REVENDA COEF DE VARIAÇÃO REVENDA  PREÇO MÉDIO DISTRIBUIÇÃO  \\\n",
              "0                 0.463                    0.012                     0.825   \n",
              "1                 0.399                    0.098                     0.763   \n",
              "2                 0.419                    0.070                     0.970   \n",
              "3                 0.432                    0.055                     0.830   \n",
              "4                 0.240                    0.066                     0.941   \n",
              "\n",
              "   DESVIO PADRÃO DISTRIBUIÇÃO  PREÇO MÍNIMO DISTRIBUIÇÃO  \\\n",
              "0                       0.110                     0.4201   \n",
              "1                       0.088                     0.5013   \n",
              "2                       0.095                     0.5614   \n",
              "3                       0.119                     0.5991   \n",
              "4                       0.077                     0.7441   \n",
              "\n",
              "   PREÇO MÁXIMO DISTRIBUIÇÃO  COEF DE VARIAÇÃO DISTRIBUIÇÃO  \n",
              "0                    0.96660                          0.133  \n",
              "1                    1.05000                          0.115  \n",
              "2                    1.16100                          0.098  \n",
              "3                    1.22242                          0.143  \n",
              "4                    1.03170                          0.082  \n",
              "\n",
              "[5 rows x 26 columns]"
            ],
            "text/html": [
              "\n",
              "  <div id=\"df-361d7496-dea3-4506-95b3-8c66a064773a\">\n",
              "    <div class=\"colab-df-container\">\n",
              "      <div>\n",
              "<style scoped>\n",
              "    .dataframe tbody tr th:only-of-type {\n",
              "        vertical-align: middle;\n",
              "    }\n",
              "\n",
              "    .dataframe tbody tr th {\n",
              "        vertical-align: top;\n",
              "    }\n",
              "\n",
              "    .dataframe thead th {\n",
              "        text-align: right;\n",
              "    }\n",
              "</style>\n",
              "<table border=\"1\" class=\"dataframe\">\n",
              "  <thead>\n",
              "    <tr style=\"text-align: right;\">\n",
              "      <th></th>\n",
              "      <th>DATA INICIAL</th>\n",
              "      <th>DIA INICIAL</th>\n",
              "      <th>MES INICIAL</th>\n",
              "      <th>ANO INICIAL</th>\n",
              "      <th>SEMANA INICIAL</th>\n",
              "      <th>DATA FINAL</th>\n",
              "      <th>DIA FINAL</th>\n",
              "      <th>MES FINAL</th>\n",
              "      <th>ANO FINAL</th>\n",
              "      <th>SEMANA FINAL</th>\n",
              "      <th>...</th>\n",
              "      <th>DESVIO PADRÃO REVENDA</th>\n",
              "      <th>PREÇO MÍNIMO REVENDA</th>\n",
              "      <th>PREÇO MÁXIMO REVENDA</th>\n",
              "      <th>MARGEM MÉDIA REVENDA</th>\n",
              "      <th>COEF DE VARIAÇÃO REVENDA</th>\n",
              "      <th>PREÇO MÉDIO DISTRIBUIÇÃO</th>\n",
              "      <th>DESVIO PADRÃO DISTRIBUIÇÃO</th>\n",
              "      <th>PREÇO MÍNIMO DISTRIBUIÇÃO</th>\n",
              "      <th>PREÇO MÁXIMO DISTRIBUIÇÃO</th>\n",
              "      <th>COEF DE VARIAÇÃO DISTRIBUIÇÃO</th>\n",
              "    </tr>\n",
              "  </thead>\n",
              "  <tbody>\n",
              "    <tr>\n",
              "      <th>0</th>\n",
              "      <td>2004-05-09</td>\n",
              "      <td>9</td>\n",
              "      <td>5</td>\n",
              "      <td>2004</td>\n",
              "      <td>19</td>\n",
              "      <td>2004-05-15</td>\n",
              "      <td>15</td>\n",
              "      <td>5</td>\n",
              "      <td>2004</td>\n",
              "      <td>20</td>\n",
              "      <td>...</td>\n",
              "      <td>0.016</td>\n",
              "      <td>1.19</td>\n",
              "      <td>1.350</td>\n",
              "      <td>0.463</td>\n",
              "      <td>0.012</td>\n",
              "      <td>0.825</td>\n",
              "      <td>0.110</td>\n",
              "      <td>0.4201</td>\n",
              "      <td>0.96660</td>\n",
              "      <td>0.133</td>\n",
              "    </tr>\n",
              "    <tr>\n",
              "      <th>1</th>\n",
              "      <td>2004-05-09</td>\n",
              "      <td>9</td>\n",
              "      <td>5</td>\n",
              "      <td>2004</td>\n",
              "      <td>19</td>\n",
              "      <td>2004-05-15</td>\n",
              "      <td>15</td>\n",
              "      <td>5</td>\n",
              "      <td>2004</td>\n",
              "      <td>20</td>\n",
              "      <td>...</td>\n",
              "      <td>0.114</td>\n",
              "      <td>0.89</td>\n",
              "      <td>1.449</td>\n",
              "      <td>0.399</td>\n",
              "      <td>0.098</td>\n",
              "      <td>0.763</td>\n",
              "      <td>0.088</td>\n",
              "      <td>0.5013</td>\n",
              "      <td>1.05000</td>\n",
              "      <td>0.115</td>\n",
              "    </tr>\n",
              "    <tr>\n",
              "      <th>2</th>\n",
              "      <td>2004-05-09</td>\n",
              "      <td>9</td>\n",
              "      <td>5</td>\n",
              "      <td>2004</td>\n",
              "      <td>19</td>\n",
              "      <td>2004-05-15</td>\n",
              "      <td>15</td>\n",
              "      <td>5</td>\n",
              "      <td>2004</td>\n",
              "      <td>20</td>\n",
              "      <td>...</td>\n",
              "      <td>0.097</td>\n",
              "      <td>1.18</td>\n",
              "      <td>1.760</td>\n",
              "      <td>0.419</td>\n",
              "      <td>0.070</td>\n",
              "      <td>0.970</td>\n",
              "      <td>0.095</td>\n",
              "      <td>0.5614</td>\n",
              "      <td>1.16100</td>\n",
              "      <td>0.098</td>\n",
              "    </tr>\n",
              "    <tr>\n",
              "      <th>3</th>\n",
              "      <td>2004-05-09</td>\n",
              "      <td>9</td>\n",
              "      <td>5</td>\n",
              "      <td>2004</td>\n",
              "      <td>19</td>\n",
              "      <td>2004-05-15</td>\n",
              "      <td>15</td>\n",
              "      <td>5</td>\n",
              "      <td>2004</td>\n",
              "      <td>20</td>\n",
              "      <td>...</td>\n",
              "      <td>0.070</td>\n",
              "      <td>1.09</td>\n",
              "      <td>1.509</td>\n",
              "      <td>0.432</td>\n",
              "      <td>0.055</td>\n",
              "      <td>0.830</td>\n",
              "      <td>0.119</td>\n",
              "      <td>0.5991</td>\n",
              "      <td>1.22242</td>\n",
              "      <td>0.143</td>\n",
              "    </tr>\n",
              "    <tr>\n",
              "      <th>4</th>\n",
              "      <td>2004-05-09</td>\n",
              "      <td>9</td>\n",
              "      <td>5</td>\n",
              "      <td>2004</td>\n",
              "      <td>19</td>\n",
              "      <td>2004-05-15</td>\n",
              "      <td>15</td>\n",
              "      <td>5</td>\n",
              "      <td>2004</td>\n",
              "      <td>20</td>\n",
              "      <td>...</td>\n",
              "      <td>0.078</td>\n",
              "      <td>1.05</td>\n",
              "      <td>1.400</td>\n",
              "      <td>0.240</td>\n",
              "      <td>0.066</td>\n",
              "      <td>0.941</td>\n",
              "      <td>0.077</td>\n",
              "      <td>0.7441</td>\n",
              "      <td>1.03170</td>\n",
              "      <td>0.082</td>\n",
              "    </tr>\n",
              "  </tbody>\n",
              "</table>\n",
              "<p>5 rows × 26 columns</p>\n",
              "</div>\n",
              "      <button class=\"colab-df-convert\" onclick=\"convertToInteractive('df-361d7496-dea3-4506-95b3-8c66a064773a')\"\n",
              "              title=\"Convert this dataframe to an interactive table.\"\n",
              "              style=\"display:none;\">\n",
              "        \n",
              "  <svg xmlns=\"http://www.w3.org/2000/svg\" height=\"24px\"viewBox=\"0 0 24 24\"\n",
              "       width=\"24px\">\n",
              "    <path d=\"M0 0h24v24H0V0z\" fill=\"none\"/>\n",
              "    <path d=\"M18.56 5.44l.94 2.06.94-2.06 2.06-.94-2.06-.94-.94-2.06-.94 2.06-2.06.94zm-11 1L8.5 8.5l.94-2.06 2.06-.94-2.06-.94L8.5 2.5l-.94 2.06-2.06.94zm10 10l.94 2.06.94-2.06 2.06-.94-2.06-.94-.94-2.06-.94 2.06-2.06.94z\"/><path d=\"M17.41 7.96l-1.37-1.37c-.4-.4-.92-.59-1.43-.59-.52 0-1.04.2-1.43.59L10.3 9.45l-7.72 7.72c-.78.78-.78 2.05 0 2.83L4 21.41c.39.39.9.59 1.41.59.51 0 1.02-.2 1.41-.59l7.78-7.78 2.81-2.81c.8-.78.8-2.07 0-2.86zM5.41 20L4 18.59l7.72-7.72 1.47 1.35L5.41 20z\"/>\n",
              "  </svg>\n",
              "      </button>\n",
              "      \n",
              "  <style>\n",
              "    .colab-df-container {\n",
              "      display:flex;\n",
              "      flex-wrap:wrap;\n",
              "      gap: 12px;\n",
              "    }\n",
              "\n",
              "    .colab-df-convert {\n",
              "      background-color: #E8F0FE;\n",
              "      border: none;\n",
              "      border-radius: 50%;\n",
              "      cursor: pointer;\n",
              "      display: none;\n",
              "      fill: #1967D2;\n",
              "      height: 32px;\n",
              "      padding: 0 0 0 0;\n",
              "      width: 32px;\n",
              "    }\n",
              "\n",
              "    .colab-df-convert:hover {\n",
              "      background-color: #E2EBFA;\n",
              "      box-shadow: 0px 1px 2px rgba(60, 64, 67, 0.3), 0px 1px 3px 1px rgba(60, 64, 67, 0.15);\n",
              "      fill: #174EA6;\n",
              "    }\n",
              "\n",
              "    [theme=dark] .colab-df-convert {\n",
              "      background-color: #3B4455;\n",
              "      fill: #D2E3FC;\n",
              "    }\n",
              "\n",
              "    [theme=dark] .colab-df-convert:hover {\n",
              "      background-color: #434B5C;\n",
              "      box-shadow: 0px 1px 3px 1px rgba(0, 0, 0, 0.15);\n",
              "      filter: drop-shadow(0px 1px 2px rgba(0, 0, 0, 0.3));\n",
              "      fill: #FFFFFF;\n",
              "    }\n",
              "  </style>\n",
              "\n",
              "      <script>\n",
              "        const buttonEl =\n",
              "          document.querySelector('#df-361d7496-dea3-4506-95b3-8c66a064773a button.colab-df-convert');\n",
              "        buttonEl.style.display =\n",
              "          google.colab.kernel.accessAllowed ? 'block' : 'none';\n",
              "\n",
              "        async function convertToInteractive(key) {\n",
              "          const element = document.querySelector('#df-361d7496-dea3-4506-95b3-8c66a064773a');\n",
              "          const dataTable =\n",
              "            await google.colab.kernel.invokeFunction('convertToInteractive',\n",
              "                                                     [key], {});\n",
              "          if (!dataTable) return;\n",
              "\n",
              "          const docLinkHtml = 'Like what you see? Visit the ' +\n",
              "            '<a target=\"_blank\" href=https://colab.research.google.com/notebooks/data_table.ipynb>data table notebook</a>'\n",
              "            + ' to learn more about interactive tables.';\n",
              "          element.innerHTML = '';\n",
              "          dataTable['output_type'] = 'display_data';\n",
              "          await google.colab.output.renderOutput(dataTable, element);\n",
              "          const docLink = document.createElement('div');\n",
              "          docLink.innerHTML = docLinkHtml;\n",
              "          element.appendChild(docLink);\n",
              "        }\n",
              "      </script>\n",
              "    </div>\n",
              "  </div>\n",
              "  "
            ]
          },
          "metadata": {},
          "execution_count": 34
        }
      ]
    },
    {
      "cell_type": "markdown",
      "source": [
        "## 4.ANÁLISE EXPLORATÓRIA"
      ],
      "metadata": {
        "id": "tP6MBb7Xurrk"
      }
    },
    {
      "cell_type": "markdown",
      "source": [
        "Seguiremos nossa análise exploratória seguindo a ordem dos objetivos específicos. Vamos deixar o *dataframe* descrito abaixo de modo a facilitar a análise."
      ],
      "metadata": {
        "id": "gIbVblBR4sP0"
      }
    },
    {
      "cell_type": "code",
      "source": [
        "dataset_gas_limpo.head()"
      ],
      "metadata": {
        "colab": {
          "base_uri": "https://localhost:8080/",
          "height": 401
        },
        "id": "4uDA8nUV78tF",
        "outputId": "1aa53057-ebbe-4fa3-9209-1fa1bc646cdc"
      },
      "execution_count": null,
      "outputs": [
        {
          "output_type": "execute_result",
          "data": {
            "text/plain": [
              "  DATA INICIAL  DIA INICIAL  MES INICIAL  ANO INICIAL  SEMANA INICIAL  \\\n",
              "0   2004-05-09            9            5         2004              19   \n",
              "1   2004-05-09            9            5         2004              19   \n",
              "2   2004-05-09            9            5         2004              19   \n",
              "3   2004-05-09            9            5         2004              19   \n",
              "4   2004-05-09            9            5         2004              19   \n",
              "\n",
              "   DATA FINAL  DIA FINAL  MES FINAL  ANO FINAL  SEMANA FINAL  ...  \\\n",
              "0  2004-05-15         15          5       2004            20  ...   \n",
              "1  2004-05-15         15          5       2004            20  ...   \n",
              "2  2004-05-15         15          5       2004            20  ...   \n",
              "3  2004-05-15         15          5       2004            20  ...   \n",
              "4  2004-05-15         15          5       2004            20  ...   \n",
              "\n",
              "  DESVIO PADRÃO REVENDA PREÇO MÍNIMO REVENDA PREÇO MÁXIMO REVENDA  \\\n",
              "0                 0.016                 1.19                1.350   \n",
              "1                 0.114                 0.89                1.449   \n",
              "2                 0.097                 1.18                1.760   \n",
              "3                 0.070                 1.09                1.509   \n",
              "4                 0.078                 1.05                1.400   \n",
              "\n",
              "   MARGEM MÉDIA REVENDA COEF DE VARIAÇÃO REVENDA  PREÇO MÉDIO DISTRIBUIÇÃO  \\\n",
              "0                 0.463                    0.012                     0.825   \n",
              "1                 0.399                    0.098                     0.763   \n",
              "2                 0.419                    0.070                     0.970   \n",
              "3                 0.432                    0.055                     0.830   \n",
              "4                 0.240                    0.066                     0.941   \n",
              "\n",
              "   DESVIO PADRÃO DISTRIBUIÇÃO  PREÇO MÍNIMO DISTRIBUIÇÃO  \\\n",
              "0                       0.110                     0.4201   \n",
              "1                       0.088                     0.5013   \n",
              "2                       0.095                     0.5614   \n",
              "3                       0.119                     0.5991   \n",
              "4                       0.077                     0.7441   \n",
              "\n",
              "   PREÇO MÁXIMO DISTRIBUIÇÃO  COEF DE VARIAÇÃO DISTRIBUIÇÃO  \n",
              "0                    0.96660                          0.133  \n",
              "1                    1.05000                          0.115  \n",
              "2                    1.16100                          0.098  \n",
              "3                    1.22242                          0.143  \n",
              "4                    1.03170                          0.082  \n",
              "\n",
              "[5 rows x 26 columns]"
            ],
            "text/html": [
              "\n",
              "  <div id=\"df-baf69604-09a9-413c-b939-fa4424384417\">\n",
              "    <div class=\"colab-df-container\">\n",
              "      <div>\n",
              "<style scoped>\n",
              "    .dataframe tbody tr th:only-of-type {\n",
              "        vertical-align: middle;\n",
              "    }\n",
              "\n",
              "    .dataframe tbody tr th {\n",
              "        vertical-align: top;\n",
              "    }\n",
              "\n",
              "    .dataframe thead th {\n",
              "        text-align: right;\n",
              "    }\n",
              "</style>\n",
              "<table border=\"1\" class=\"dataframe\">\n",
              "  <thead>\n",
              "    <tr style=\"text-align: right;\">\n",
              "      <th></th>\n",
              "      <th>DATA INICIAL</th>\n",
              "      <th>DIA INICIAL</th>\n",
              "      <th>MES INICIAL</th>\n",
              "      <th>ANO INICIAL</th>\n",
              "      <th>SEMANA INICIAL</th>\n",
              "      <th>DATA FINAL</th>\n",
              "      <th>DIA FINAL</th>\n",
              "      <th>MES FINAL</th>\n",
              "      <th>ANO FINAL</th>\n",
              "      <th>SEMANA FINAL</th>\n",
              "      <th>...</th>\n",
              "      <th>DESVIO PADRÃO REVENDA</th>\n",
              "      <th>PREÇO MÍNIMO REVENDA</th>\n",
              "      <th>PREÇO MÁXIMO REVENDA</th>\n",
              "      <th>MARGEM MÉDIA REVENDA</th>\n",
              "      <th>COEF DE VARIAÇÃO REVENDA</th>\n",
              "      <th>PREÇO MÉDIO DISTRIBUIÇÃO</th>\n",
              "      <th>DESVIO PADRÃO DISTRIBUIÇÃO</th>\n",
              "      <th>PREÇO MÍNIMO DISTRIBUIÇÃO</th>\n",
              "      <th>PREÇO MÁXIMO DISTRIBUIÇÃO</th>\n",
              "      <th>COEF DE VARIAÇÃO DISTRIBUIÇÃO</th>\n",
              "    </tr>\n",
              "  </thead>\n",
              "  <tbody>\n",
              "    <tr>\n",
              "      <th>0</th>\n",
              "      <td>2004-05-09</td>\n",
              "      <td>9</td>\n",
              "      <td>5</td>\n",
              "      <td>2004</td>\n",
              "      <td>19</td>\n",
              "      <td>2004-05-15</td>\n",
              "      <td>15</td>\n",
              "      <td>5</td>\n",
              "      <td>2004</td>\n",
              "      <td>20</td>\n",
              "      <td>...</td>\n",
              "      <td>0.016</td>\n",
              "      <td>1.19</td>\n",
              "      <td>1.350</td>\n",
              "      <td>0.463</td>\n",
              "      <td>0.012</td>\n",
              "      <td>0.825</td>\n",
              "      <td>0.110</td>\n",
              "      <td>0.4201</td>\n",
              "      <td>0.96660</td>\n",
              "      <td>0.133</td>\n",
              "    </tr>\n",
              "    <tr>\n",
              "      <th>1</th>\n",
              "      <td>2004-05-09</td>\n",
              "      <td>9</td>\n",
              "      <td>5</td>\n",
              "      <td>2004</td>\n",
              "      <td>19</td>\n",
              "      <td>2004-05-15</td>\n",
              "      <td>15</td>\n",
              "      <td>5</td>\n",
              "      <td>2004</td>\n",
              "      <td>20</td>\n",
              "      <td>...</td>\n",
              "      <td>0.114</td>\n",
              "      <td>0.89</td>\n",
              "      <td>1.449</td>\n",
              "      <td>0.399</td>\n",
              "      <td>0.098</td>\n",
              "      <td>0.763</td>\n",
              "      <td>0.088</td>\n",
              "      <td>0.5013</td>\n",
              "      <td>1.05000</td>\n",
              "      <td>0.115</td>\n",
              "    </tr>\n",
              "    <tr>\n",
              "      <th>2</th>\n",
              "      <td>2004-05-09</td>\n",
              "      <td>9</td>\n",
              "      <td>5</td>\n",
              "      <td>2004</td>\n",
              "      <td>19</td>\n",
              "      <td>2004-05-15</td>\n",
              "      <td>15</td>\n",
              "      <td>5</td>\n",
              "      <td>2004</td>\n",
              "      <td>20</td>\n",
              "      <td>...</td>\n",
              "      <td>0.097</td>\n",
              "      <td>1.18</td>\n",
              "      <td>1.760</td>\n",
              "      <td>0.419</td>\n",
              "      <td>0.070</td>\n",
              "      <td>0.970</td>\n",
              "      <td>0.095</td>\n",
              "      <td>0.5614</td>\n",
              "      <td>1.16100</td>\n",
              "      <td>0.098</td>\n",
              "    </tr>\n",
              "    <tr>\n",
              "      <th>3</th>\n",
              "      <td>2004-05-09</td>\n",
              "      <td>9</td>\n",
              "      <td>5</td>\n",
              "      <td>2004</td>\n",
              "      <td>19</td>\n",
              "      <td>2004-05-15</td>\n",
              "      <td>15</td>\n",
              "      <td>5</td>\n",
              "      <td>2004</td>\n",
              "      <td>20</td>\n",
              "      <td>...</td>\n",
              "      <td>0.070</td>\n",
              "      <td>1.09</td>\n",
              "      <td>1.509</td>\n",
              "      <td>0.432</td>\n",
              "      <td>0.055</td>\n",
              "      <td>0.830</td>\n",
              "      <td>0.119</td>\n",
              "      <td>0.5991</td>\n",
              "      <td>1.22242</td>\n",
              "      <td>0.143</td>\n",
              "    </tr>\n",
              "    <tr>\n",
              "      <th>4</th>\n",
              "      <td>2004-05-09</td>\n",
              "      <td>9</td>\n",
              "      <td>5</td>\n",
              "      <td>2004</td>\n",
              "      <td>19</td>\n",
              "      <td>2004-05-15</td>\n",
              "      <td>15</td>\n",
              "      <td>5</td>\n",
              "      <td>2004</td>\n",
              "      <td>20</td>\n",
              "      <td>...</td>\n",
              "      <td>0.078</td>\n",
              "      <td>1.05</td>\n",
              "      <td>1.400</td>\n",
              "      <td>0.240</td>\n",
              "      <td>0.066</td>\n",
              "      <td>0.941</td>\n",
              "      <td>0.077</td>\n",
              "      <td>0.7441</td>\n",
              "      <td>1.03170</td>\n",
              "      <td>0.082</td>\n",
              "    </tr>\n",
              "  </tbody>\n",
              "</table>\n",
              "<p>5 rows × 26 columns</p>\n",
              "</div>\n",
              "      <button class=\"colab-df-convert\" onclick=\"convertToInteractive('df-baf69604-09a9-413c-b939-fa4424384417')\"\n",
              "              title=\"Convert this dataframe to an interactive table.\"\n",
              "              style=\"display:none;\">\n",
              "        \n",
              "  <svg xmlns=\"http://www.w3.org/2000/svg\" height=\"24px\"viewBox=\"0 0 24 24\"\n",
              "       width=\"24px\">\n",
              "    <path d=\"M0 0h24v24H0V0z\" fill=\"none\"/>\n",
              "    <path d=\"M18.56 5.44l.94 2.06.94-2.06 2.06-.94-2.06-.94-.94-2.06-.94 2.06-2.06.94zm-11 1L8.5 8.5l.94-2.06 2.06-.94-2.06-.94L8.5 2.5l-.94 2.06-2.06.94zm10 10l.94 2.06.94-2.06 2.06-.94-2.06-.94-.94-2.06-.94 2.06-2.06.94z\"/><path d=\"M17.41 7.96l-1.37-1.37c-.4-.4-.92-.59-1.43-.59-.52 0-1.04.2-1.43.59L10.3 9.45l-7.72 7.72c-.78.78-.78 2.05 0 2.83L4 21.41c.39.39.9.59 1.41.59.51 0 1.02-.2 1.41-.59l7.78-7.78 2.81-2.81c.8-.78.8-2.07 0-2.86zM5.41 20L4 18.59l7.72-7.72 1.47 1.35L5.41 20z\"/>\n",
              "  </svg>\n",
              "      </button>\n",
              "      \n",
              "  <style>\n",
              "    .colab-df-container {\n",
              "      display:flex;\n",
              "      flex-wrap:wrap;\n",
              "      gap: 12px;\n",
              "    }\n",
              "\n",
              "    .colab-df-convert {\n",
              "      background-color: #E8F0FE;\n",
              "      border: none;\n",
              "      border-radius: 50%;\n",
              "      cursor: pointer;\n",
              "      display: none;\n",
              "      fill: #1967D2;\n",
              "      height: 32px;\n",
              "      padding: 0 0 0 0;\n",
              "      width: 32px;\n",
              "    }\n",
              "\n",
              "    .colab-df-convert:hover {\n",
              "      background-color: #E2EBFA;\n",
              "      box-shadow: 0px 1px 2px rgba(60, 64, 67, 0.3), 0px 1px 3px 1px rgba(60, 64, 67, 0.15);\n",
              "      fill: #174EA6;\n",
              "    }\n",
              "\n",
              "    [theme=dark] .colab-df-convert {\n",
              "      background-color: #3B4455;\n",
              "      fill: #D2E3FC;\n",
              "    }\n",
              "\n",
              "    [theme=dark] .colab-df-convert:hover {\n",
              "      background-color: #434B5C;\n",
              "      box-shadow: 0px 1px 3px 1px rgba(0, 0, 0, 0.15);\n",
              "      filter: drop-shadow(0px 1px 2px rgba(0, 0, 0, 0.3));\n",
              "      fill: #FFFFFF;\n",
              "    }\n",
              "  </style>\n",
              "\n",
              "      <script>\n",
              "        const buttonEl =\n",
              "          document.querySelector('#df-baf69604-09a9-413c-b939-fa4424384417 button.colab-df-convert');\n",
              "        buttonEl.style.display =\n",
              "          google.colab.kernel.accessAllowed ? 'block' : 'none';\n",
              "\n",
              "        async function convertToInteractive(key) {\n",
              "          const element = document.querySelector('#df-baf69604-09a9-413c-b939-fa4424384417');\n",
              "          const dataTable =\n",
              "            await google.colab.kernel.invokeFunction('convertToInteractive',\n",
              "                                                     [key], {});\n",
              "          if (!dataTable) return;\n",
              "\n",
              "          const docLinkHtml = 'Like what you see? Visit the ' +\n",
              "            '<a target=\"_blank\" href=https://colab.research.google.com/notebooks/data_table.ipynb>data table notebook</a>'\n",
              "            + ' to learn more about interactive tables.';\n",
              "          element.innerHTML = '';\n",
              "          dataTable['output_type'] = 'display_data';\n",
              "          await google.colab.output.renderOutput(dataTable, element);\n",
              "          const docLink = document.createElement('div');\n",
              "          docLink.innerHTML = docLinkHtml;\n",
              "          element.appendChild(docLink);\n",
              "        }\n",
              "      </script>\n",
              "    </div>\n",
              "  </div>\n",
              "  "
            ]
          },
          "metadata": {},
          "execution_count": 70
        }
      ]
    },
    {
      "cell_type": "code",
      "source": [
        "dataset_gas_limpo.describe()"
      ],
      "metadata": {
        "colab": {
          "base_uri": "https://localhost:8080/",
          "height": 399
        },
        "id": "0NPnCsWP7_po",
        "outputId": "6e8f2864-cd6e-46c9-cf0a-ac859018492b"
      },
      "execution_count": null,
      "outputs": [
        {
          "output_type": "execute_result",
          "data": {
            "text/plain": [
              "         DIA INICIAL    MES INICIAL    ANO INICIAL  SEMANA INICIAL  \\\n",
              "count  111875.000000  111875.000000  111875.000000   111875.000000   \n",
              "mean       15.664447       6.501238    2012.328080       26.491593   \n",
              "std         8.813983       3.430368       4.717475       14.987477   \n",
              "min         1.000000       1.000000    2004.000000        1.000000   \n",
              "25%         8.000000       4.000000    2008.000000       14.000000   \n",
              "50%        16.000000       6.000000    2013.000000       26.000000   \n",
              "75%        23.000000       9.000000    2016.000000       39.000000   \n",
              "max        31.000000      12.000000    2020.000000       53.000000   \n",
              "\n",
              "           DIA FINAL      MES FINAL      ANO FINAL   SEMANA FINAL  \\\n",
              "count  111875.000000  111875.000000  111875.000000  111875.000000   \n",
              "mean       15.697430       6.512277    2012.343491      26.505609   \n",
              "std         8.788003       3.432300       4.718118      14.981394   \n",
              "min         1.000000       1.000000    2004.000000       1.000000   \n",
              "25%         8.000000       4.000000    2008.000000      14.000000   \n",
              "50%        16.000000       7.000000    2013.000000      26.000000   \n",
              "75%        23.000000       9.000000    2016.000000      39.000000   \n",
              "max        31.000000      12.000000    2020.000000      53.000000   \n",
              "\n",
              "       NÚMERO DE POSTOS PESQUISADOS  PREÇO MÉDIO REVENDA  \\\n",
              "count                 111875.000000        111875.000000   \n",
              "mean                     234.757631            11.243118   \n",
              "std                      399.038353            18.656152   \n",
              "min                        1.000000             0.766000   \n",
              "25%                       45.000000             2.120000   \n",
              "50%                      105.000000             2.835000   \n",
              "75%                      243.000000             3.879000   \n",
              "max                     4167.000000            99.357000   \n",
              "\n",
              "       DESVIO PADRÃO REVENDA  PREÇO MÍNIMO REVENDA  PREÇO MÁXIMO REVENDA  \\\n",
              "count          111875.000000         111875.000000         111875.000000   \n",
              "mean                0.680548              9.744256             13.022466   \n",
              "std                 1.400431             15.907129             22.005101   \n",
              "min                 0.000000              0.590000              0.999000   \n",
              "25%                 0.076000              1.950000              2.399000   \n",
              "50%                 0.120000              2.619000              3.150000   \n",
              "75%                 0.201000              3.630000              4.399000   \n",
              "max                10.748000             90.000000            120.000000   \n",
              "\n",
              "       MARGEM MÉDIA REVENDA  COEF DE VARIAÇÃO REVENDA  \\\n",
              "count         111875.000000             111875.000000   \n",
              "mean               2.324677                  0.046055   \n",
              "std                4.591806                  0.024355   \n",
              "min                0.001000                  0.000000   \n",
              "25%                0.289000                  0.030000   \n",
              "50%                0.391000                  0.042000   \n",
              "75%                0.577000                  0.059000   \n",
              "max               36.847000                  0.262000   \n",
              "\n",
              "       PREÇO MÉDIO DISTRIBUIÇÃO  DESVIO PADRÃO DISTRIBUIÇÃO  \\\n",
              "count             111875.000000               111875.000000   \n",
              "mean                   8.918441                    0.580741   \n",
              "std                   14.359036                    1.304314   \n",
              "min                    0.506000                    0.000000   \n",
              "25%                    1.843000                    0.048000   \n",
              "50%                    2.434000                    0.080000   \n",
              "75%                    3.439000                    0.156000   \n",
              "max                   83.137000                   18.385000   \n",
              "\n",
              "       PREÇO MÍNIMO DISTRIBUIÇÃO  PREÇO MÁXIMO DISTRIBUIÇÃO  \\\n",
              "count              111875.000000              111875.000000   \n",
              "mean                    7.745588                  10.201414   \n",
              "std                    12.379148                  16.758547   \n",
              "min                     0.325700                   0.599200   \n",
              "25%                     1.711600                   1.987400   \n",
              "50%                     2.292200                   2.607000   \n",
              "75%                     3.278950                   3.648800   \n",
              "max                    83.000000                  94.500000   \n",
              "\n",
              "       COEF DE VARIAÇÃO DISTRIBUIÇÃO  \n",
              "count                  111875.000000  \n",
              "mean                        0.046307  \n",
              "std                         0.041555  \n",
              "min                         0.000000  \n",
              "25%                         0.021000  \n",
              "50%                         0.031000  \n",
              "75%                         0.060000  \n",
              "max                         0.780000  "
            ],
            "text/html": [
              "\n",
              "  <div id=\"df-1bbb40a7-5647-46ee-b4db-b599eae3093b\">\n",
              "    <div class=\"colab-df-container\">\n",
              "      <div>\n",
              "<style scoped>\n",
              "    .dataframe tbody tr th:only-of-type {\n",
              "        vertical-align: middle;\n",
              "    }\n",
              "\n",
              "    .dataframe tbody tr th {\n",
              "        vertical-align: top;\n",
              "    }\n",
              "\n",
              "    .dataframe thead th {\n",
              "        text-align: right;\n",
              "    }\n",
              "</style>\n",
              "<table border=\"1\" class=\"dataframe\">\n",
              "  <thead>\n",
              "    <tr style=\"text-align: right;\">\n",
              "      <th></th>\n",
              "      <th>DIA INICIAL</th>\n",
              "      <th>MES INICIAL</th>\n",
              "      <th>ANO INICIAL</th>\n",
              "      <th>SEMANA INICIAL</th>\n",
              "      <th>DIA FINAL</th>\n",
              "      <th>MES FINAL</th>\n",
              "      <th>ANO FINAL</th>\n",
              "      <th>SEMANA FINAL</th>\n",
              "      <th>NÚMERO DE POSTOS PESQUISADOS</th>\n",
              "      <th>PREÇO MÉDIO REVENDA</th>\n",
              "      <th>DESVIO PADRÃO REVENDA</th>\n",
              "      <th>PREÇO MÍNIMO REVENDA</th>\n",
              "      <th>PREÇO MÁXIMO REVENDA</th>\n",
              "      <th>MARGEM MÉDIA REVENDA</th>\n",
              "      <th>COEF DE VARIAÇÃO REVENDA</th>\n",
              "      <th>PREÇO MÉDIO DISTRIBUIÇÃO</th>\n",
              "      <th>DESVIO PADRÃO DISTRIBUIÇÃO</th>\n",
              "      <th>PREÇO MÍNIMO DISTRIBUIÇÃO</th>\n",
              "      <th>PREÇO MÁXIMO DISTRIBUIÇÃO</th>\n",
              "      <th>COEF DE VARIAÇÃO DISTRIBUIÇÃO</th>\n",
              "    </tr>\n",
              "  </thead>\n",
              "  <tbody>\n",
              "    <tr>\n",
              "      <th>count</th>\n",
              "      <td>111875.000000</td>\n",
              "      <td>111875.000000</td>\n",
              "      <td>111875.000000</td>\n",
              "      <td>111875.000000</td>\n",
              "      <td>111875.000000</td>\n",
              "      <td>111875.000000</td>\n",
              "      <td>111875.000000</td>\n",
              "      <td>111875.000000</td>\n",
              "      <td>111875.000000</td>\n",
              "      <td>111875.000000</td>\n",
              "      <td>111875.000000</td>\n",
              "      <td>111875.000000</td>\n",
              "      <td>111875.000000</td>\n",
              "      <td>111875.000000</td>\n",
              "      <td>111875.000000</td>\n",
              "      <td>111875.000000</td>\n",
              "      <td>111875.000000</td>\n",
              "      <td>111875.000000</td>\n",
              "      <td>111875.000000</td>\n",
              "      <td>111875.000000</td>\n",
              "    </tr>\n",
              "    <tr>\n",
              "      <th>mean</th>\n",
              "      <td>15.664447</td>\n",
              "      <td>6.501238</td>\n",
              "      <td>2012.328080</td>\n",
              "      <td>26.491593</td>\n",
              "      <td>15.697430</td>\n",
              "      <td>6.512277</td>\n",
              "      <td>2012.343491</td>\n",
              "      <td>26.505609</td>\n",
              "      <td>234.757631</td>\n",
              "      <td>11.243118</td>\n",
              "      <td>0.680548</td>\n",
              "      <td>9.744256</td>\n",
              "      <td>13.022466</td>\n",
              "      <td>2.324677</td>\n",
              "      <td>0.046055</td>\n",
              "      <td>8.918441</td>\n",
              "      <td>0.580741</td>\n",
              "      <td>7.745588</td>\n",
              "      <td>10.201414</td>\n",
              "      <td>0.046307</td>\n",
              "    </tr>\n",
              "    <tr>\n",
              "      <th>std</th>\n",
              "      <td>8.813983</td>\n",
              "      <td>3.430368</td>\n",
              "      <td>4.717475</td>\n",
              "      <td>14.987477</td>\n",
              "      <td>8.788003</td>\n",
              "      <td>3.432300</td>\n",
              "      <td>4.718118</td>\n",
              "      <td>14.981394</td>\n",
              "      <td>399.038353</td>\n",
              "      <td>18.656152</td>\n",
              "      <td>1.400431</td>\n",
              "      <td>15.907129</td>\n",
              "      <td>22.005101</td>\n",
              "      <td>4.591806</td>\n",
              "      <td>0.024355</td>\n",
              "      <td>14.359036</td>\n",
              "      <td>1.304314</td>\n",
              "      <td>12.379148</td>\n",
              "      <td>16.758547</td>\n",
              "      <td>0.041555</td>\n",
              "    </tr>\n",
              "    <tr>\n",
              "      <th>min</th>\n",
              "      <td>1.000000</td>\n",
              "      <td>1.000000</td>\n",
              "      <td>2004.000000</td>\n",
              "      <td>1.000000</td>\n",
              "      <td>1.000000</td>\n",
              "      <td>1.000000</td>\n",
              "      <td>2004.000000</td>\n",
              "      <td>1.000000</td>\n",
              "      <td>1.000000</td>\n",
              "      <td>0.766000</td>\n",
              "      <td>0.000000</td>\n",
              "      <td>0.590000</td>\n",
              "      <td>0.999000</td>\n",
              "      <td>0.001000</td>\n",
              "      <td>0.000000</td>\n",
              "      <td>0.506000</td>\n",
              "      <td>0.000000</td>\n",
              "      <td>0.325700</td>\n",
              "      <td>0.599200</td>\n",
              "      <td>0.000000</td>\n",
              "    </tr>\n",
              "    <tr>\n",
              "      <th>25%</th>\n",
              "      <td>8.000000</td>\n",
              "      <td>4.000000</td>\n",
              "      <td>2008.000000</td>\n",
              "      <td>14.000000</td>\n",
              "      <td>8.000000</td>\n",
              "      <td>4.000000</td>\n",
              "      <td>2008.000000</td>\n",
              "      <td>14.000000</td>\n",
              "      <td>45.000000</td>\n",
              "      <td>2.120000</td>\n",
              "      <td>0.076000</td>\n",
              "      <td>1.950000</td>\n",
              "      <td>2.399000</td>\n",
              "      <td>0.289000</td>\n",
              "      <td>0.030000</td>\n",
              "      <td>1.843000</td>\n",
              "      <td>0.048000</td>\n",
              "      <td>1.711600</td>\n",
              "      <td>1.987400</td>\n",
              "      <td>0.021000</td>\n",
              "    </tr>\n",
              "    <tr>\n",
              "      <th>50%</th>\n",
              "      <td>16.000000</td>\n",
              "      <td>6.000000</td>\n",
              "      <td>2013.000000</td>\n",
              "      <td>26.000000</td>\n",
              "      <td>16.000000</td>\n",
              "      <td>7.000000</td>\n",
              "      <td>2013.000000</td>\n",
              "      <td>26.000000</td>\n",
              "      <td>105.000000</td>\n",
              "      <td>2.835000</td>\n",
              "      <td>0.120000</td>\n",
              "      <td>2.619000</td>\n",
              "      <td>3.150000</td>\n",
              "      <td>0.391000</td>\n",
              "      <td>0.042000</td>\n",
              "      <td>2.434000</td>\n",
              "      <td>0.080000</td>\n",
              "      <td>2.292200</td>\n",
              "      <td>2.607000</td>\n",
              "      <td>0.031000</td>\n",
              "    </tr>\n",
              "    <tr>\n",
              "      <th>75%</th>\n",
              "      <td>23.000000</td>\n",
              "      <td>9.000000</td>\n",
              "      <td>2016.000000</td>\n",
              "      <td>39.000000</td>\n",
              "      <td>23.000000</td>\n",
              "      <td>9.000000</td>\n",
              "      <td>2016.000000</td>\n",
              "      <td>39.000000</td>\n",
              "      <td>243.000000</td>\n",
              "      <td>3.879000</td>\n",
              "      <td>0.201000</td>\n",
              "      <td>3.630000</td>\n",
              "      <td>4.399000</td>\n",
              "      <td>0.577000</td>\n",
              "      <td>0.059000</td>\n",
              "      <td>3.439000</td>\n",
              "      <td>0.156000</td>\n",
              "      <td>3.278950</td>\n",
              "      <td>3.648800</td>\n",
              "      <td>0.060000</td>\n",
              "    </tr>\n",
              "    <tr>\n",
              "      <th>max</th>\n",
              "      <td>31.000000</td>\n",
              "      <td>12.000000</td>\n",
              "      <td>2020.000000</td>\n",
              "      <td>53.000000</td>\n",
              "      <td>31.000000</td>\n",
              "      <td>12.000000</td>\n",
              "      <td>2020.000000</td>\n",
              "      <td>53.000000</td>\n",
              "      <td>4167.000000</td>\n",
              "      <td>99.357000</td>\n",
              "      <td>10.748000</td>\n",
              "      <td>90.000000</td>\n",
              "      <td>120.000000</td>\n",
              "      <td>36.847000</td>\n",
              "      <td>0.262000</td>\n",
              "      <td>83.137000</td>\n",
              "      <td>18.385000</td>\n",
              "      <td>83.000000</td>\n",
              "      <td>94.500000</td>\n",
              "      <td>0.780000</td>\n",
              "    </tr>\n",
              "  </tbody>\n",
              "</table>\n",
              "</div>\n",
              "      <button class=\"colab-df-convert\" onclick=\"convertToInteractive('df-1bbb40a7-5647-46ee-b4db-b599eae3093b')\"\n",
              "              title=\"Convert this dataframe to an interactive table.\"\n",
              "              style=\"display:none;\">\n",
              "        \n",
              "  <svg xmlns=\"http://www.w3.org/2000/svg\" height=\"24px\"viewBox=\"0 0 24 24\"\n",
              "       width=\"24px\">\n",
              "    <path d=\"M0 0h24v24H0V0z\" fill=\"none\"/>\n",
              "    <path d=\"M18.56 5.44l.94 2.06.94-2.06 2.06-.94-2.06-.94-.94-2.06-.94 2.06-2.06.94zm-11 1L8.5 8.5l.94-2.06 2.06-.94-2.06-.94L8.5 2.5l-.94 2.06-2.06.94zm10 10l.94 2.06.94-2.06 2.06-.94-2.06-.94-.94-2.06-.94 2.06-2.06.94z\"/><path d=\"M17.41 7.96l-1.37-1.37c-.4-.4-.92-.59-1.43-.59-.52 0-1.04.2-1.43.59L10.3 9.45l-7.72 7.72c-.78.78-.78 2.05 0 2.83L4 21.41c.39.39.9.59 1.41.59.51 0 1.02-.2 1.41-.59l7.78-7.78 2.81-2.81c.8-.78.8-2.07 0-2.86zM5.41 20L4 18.59l7.72-7.72 1.47 1.35L5.41 20z\"/>\n",
              "  </svg>\n",
              "      </button>\n",
              "      \n",
              "  <style>\n",
              "    .colab-df-container {\n",
              "      display:flex;\n",
              "      flex-wrap:wrap;\n",
              "      gap: 12px;\n",
              "    }\n",
              "\n",
              "    .colab-df-convert {\n",
              "      background-color: #E8F0FE;\n",
              "      border: none;\n",
              "      border-radius: 50%;\n",
              "      cursor: pointer;\n",
              "      display: none;\n",
              "      fill: #1967D2;\n",
              "      height: 32px;\n",
              "      padding: 0 0 0 0;\n",
              "      width: 32px;\n",
              "    }\n",
              "\n",
              "    .colab-df-convert:hover {\n",
              "      background-color: #E2EBFA;\n",
              "      box-shadow: 0px 1px 2px rgba(60, 64, 67, 0.3), 0px 1px 3px 1px rgba(60, 64, 67, 0.15);\n",
              "      fill: #174EA6;\n",
              "    }\n",
              "\n",
              "    [theme=dark] .colab-df-convert {\n",
              "      background-color: #3B4455;\n",
              "      fill: #D2E3FC;\n",
              "    }\n",
              "\n",
              "    [theme=dark] .colab-df-convert:hover {\n",
              "      background-color: #434B5C;\n",
              "      box-shadow: 0px 1px 3px 1px rgba(0, 0, 0, 0.15);\n",
              "      filter: drop-shadow(0px 1px 2px rgba(0, 0, 0, 0.3));\n",
              "      fill: #FFFFFF;\n",
              "    }\n",
              "  </style>\n",
              "\n",
              "      <script>\n",
              "        const buttonEl =\n",
              "          document.querySelector('#df-1bbb40a7-5647-46ee-b4db-b599eae3093b button.colab-df-convert');\n",
              "        buttonEl.style.display =\n",
              "          google.colab.kernel.accessAllowed ? 'block' : 'none';\n",
              "\n",
              "        async function convertToInteractive(key) {\n",
              "          const element = document.querySelector('#df-1bbb40a7-5647-46ee-b4db-b599eae3093b');\n",
              "          const dataTable =\n",
              "            await google.colab.kernel.invokeFunction('convertToInteractive',\n",
              "                                                     [key], {});\n",
              "          if (!dataTable) return;\n",
              "\n",
              "          const docLinkHtml = 'Like what you see? Visit the ' +\n",
              "            '<a target=\"_blank\" href=https://colab.research.google.com/notebooks/data_table.ipynb>data table notebook</a>'\n",
              "            + ' to learn more about interactive tables.';\n",
              "          element.innerHTML = '';\n",
              "          dataTable['output_type'] = 'display_data';\n",
              "          await google.colab.output.renderOutput(dataTable, element);\n",
              "          const docLink = document.createElement('div');\n",
              "          docLink.innerHTML = docLinkHtml;\n",
              "          element.appendChild(docLink);\n",
              "        }\n",
              "      </script>\n",
              "    </div>\n",
              "  </div>\n",
              "  "
            ]
          },
          "metadata": {},
          "execution_count": 71
        }
      ]
    },
    {
      "cell_type": "markdown",
      "source": [
        "### 4.1.Como é a evolução de preços desses produtos em escala nacional?"
      ],
      "metadata": {
        "id": "aSk92ee_7a1v"
      }
    },
    {
      "cell_type": "markdown",
      "source": [
        "Para isto, vamos realizar um agrupamento de dados para coletar os preços de revenda de cada produto levantado."
      ],
      "metadata": {
        "id": "z831AM9u7thx"
      }
    },
    {
      "cell_type": "code",
      "source": [
        "dataset_precos_analise=dataset_gas_limpo[['ANO INICIAL', 'PRODUTO','PREÇO MÉDIO REVENDA']].groupby(['ANO INICIAL','PRODUTO'],as_index=False).mean()"
      ],
      "metadata": {
        "id": "DMdZT_BPqof4"
      },
      "execution_count": null,
      "outputs": []
    },
    {
      "cell_type": "code",
      "source": [
        "dataset_precos_analise.head(6)"
      ],
      "metadata": {
        "colab": {
          "base_uri": "https://localhost:8080/",
          "height": 237
        },
        "id": "5VDQM-X8jdtm",
        "outputId": "43e964f3-0266-4f71-de38-acc378454931"
      },
      "execution_count": null,
      "outputs": [
        {
          "output_type": "execute_result",
          "data": {
            "text/plain": [
              "   ANO INICIAL           PRODUTO  PREÇO MÉDIO REVENDA\n",
              "0         2004  ETANOL HIDRATADO             1.528289\n",
              "1         2004    GASOLINA COMUM             2.238857\n",
              "2         2004               GLP            32.262695\n",
              "3         2004               GNV             1.136614\n",
              "4         2004       OLEO DIESEL             1.562836\n",
              "5         2005  ETANOL HIDRATADO             1.699716"
            ],
            "text/html": [
              "\n",
              "  <div id=\"df-ff350f3d-f1b8-4c8c-b81c-b58ec3bdd3ac\">\n",
              "    <div class=\"colab-df-container\">\n",
              "      <div>\n",
              "<style scoped>\n",
              "    .dataframe tbody tr th:only-of-type {\n",
              "        vertical-align: middle;\n",
              "    }\n",
              "\n",
              "    .dataframe tbody tr th {\n",
              "        vertical-align: top;\n",
              "    }\n",
              "\n",
              "    .dataframe thead th {\n",
              "        text-align: right;\n",
              "    }\n",
              "</style>\n",
              "<table border=\"1\" class=\"dataframe\">\n",
              "  <thead>\n",
              "    <tr style=\"text-align: right;\">\n",
              "      <th></th>\n",
              "      <th>ANO INICIAL</th>\n",
              "      <th>PRODUTO</th>\n",
              "      <th>PREÇO MÉDIO REVENDA</th>\n",
              "    </tr>\n",
              "  </thead>\n",
              "  <tbody>\n",
              "    <tr>\n",
              "      <th>0</th>\n",
              "      <td>2004</td>\n",
              "      <td>ETANOL HIDRATADO</td>\n",
              "      <td>1.528289</td>\n",
              "    </tr>\n",
              "    <tr>\n",
              "      <th>1</th>\n",
              "      <td>2004</td>\n",
              "      <td>GASOLINA COMUM</td>\n",
              "      <td>2.238857</td>\n",
              "    </tr>\n",
              "    <tr>\n",
              "      <th>2</th>\n",
              "      <td>2004</td>\n",
              "      <td>GLP</td>\n",
              "      <td>32.262695</td>\n",
              "    </tr>\n",
              "    <tr>\n",
              "      <th>3</th>\n",
              "      <td>2004</td>\n",
              "      <td>GNV</td>\n",
              "      <td>1.136614</td>\n",
              "    </tr>\n",
              "    <tr>\n",
              "      <th>4</th>\n",
              "      <td>2004</td>\n",
              "      <td>OLEO DIESEL</td>\n",
              "      <td>1.562836</td>\n",
              "    </tr>\n",
              "    <tr>\n",
              "      <th>5</th>\n",
              "      <td>2005</td>\n",
              "      <td>ETANOL HIDRATADO</td>\n",
              "      <td>1.699716</td>\n",
              "    </tr>\n",
              "  </tbody>\n",
              "</table>\n",
              "</div>\n",
              "      <button class=\"colab-df-convert\" onclick=\"convertToInteractive('df-ff350f3d-f1b8-4c8c-b81c-b58ec3bdd3ac')\"\n",
              "              title=\"Convert this dataframe to an interactive table.\"\n",
              "              style=\"display:none;\">\n",
              "        \n",
              "  <svg xmlns=\"http://www.w3.org/2000/svg\" height=\"24px\"viewBox=\"0 0 24 24\"\n",
              "       width=\"24px\">\n",
              "    <path d=\"M0 0h24v24H0V0z\" fill=\"none\"/>\n",
              "    <path d=\"M18.56 5.44l.94 2.06.94-2.06 2.06-.94-2.06-.94-.94-2.06-.94 2.06-2.06.94zm-11 1L8.5 8.5l.94-2.06 2.06-.94-2.06-.94L8.5 2.5l-.94 2.06-2.06.94zm10 10l.94 2.06.94-2.06 2.06-.94-2.06-.94-.94-2.06-.94 2.06-2.06.94z\"/><path d=\"M17.41 7.96l-1.37-1.37c-.4-.4-.92-.59-1.43-.59-.52 0-1.04.2-1.43.59L10.3 9.45l-7.72 7.72c-.78.78-.78 2.05 0 2.83L4 21.41c.39.39.9.59 1.41.59.51 0 1.02-.2 1.41-.59l7.78-7.78 2.81-2.81c.8-.78.8-2.07 0-2.86zM5.41 20L4 18.59l7.72-7.72 1.47 1.35L5.41 20z\"/>\n",
              "  </svg>\n",
              "      </button>\n",
              "      \n",
              "  <style>\n",
              "    .colab-df-container {\n",
              "      display:flex;\n",
              "      flex-wrap:wrap;\n",
              "      gap: 12px;\n",
              "    }\n",
              "\n",
              "    .colab-df-convert {\n",
              "      background-color: #E8F0FE;\n",
              "      border: none;\n",
              "      border-radius: 50%;\n",
              "      cursor: pointer;\n",
              "      display: none;\n",
              "      fill: #1967D2;\n",
              "      height: 32px;\n",
              "      padding: 0 0 0 0;\n",
              "      width: 32px;\n",
              "    }\n",
              "\n",
              "    .colab-df-convert:hover {\n",
              "      background-color: #E2EBFA;\n",
              "      box-shadow: 0px 1px 2px rgba(60, 64, 67, 0.3), 0px 1px 3px 1px rgba(60, 64, 67, 0.15);\n",
              "      fill: #174EA6;\n",
              "    }\n",
              "\n",
              "    [theme=dark] .colab-df-convert {\n",
              "      background-color: #3B4455;\n",
              "      fill: #D2E3FC;\n",
              "    }\n",
              "\n",
              "    [theme=dark] .colab-df-convert:hover {\n",
              "      background-color: #434B5C;\n",
              "      box-shadow: 0px 1px 3px 1px rgba(0, 0, 0, 0.15);\n",
              "      filter: drop-shadow(0px 1px 2px rgba(0, 0, 0, 0.3));\n",
              "      fill: #FFFFFF;\n",
              "    }\n",
              "  </style>\n",
              "\n",
              "      <script>\n",
              "        const buttonEl =\n",
              "          document.querySelector('#df-ff350f3d-f1b8-4c8c-b81c-b58ec3bdd3ac button.colab-df-convert');\n",
              "        buttonEl.style.display =\n",
              "          google.colab.kernel.accessAllowed ? 'block' : 'none';\n",
              "\n",
              "        async function convertToInteractive(key) {\n",
              "          const element = document.querySelector('#df-ff350f3d-f1b8-4c8c-b81c-b58ec3bdd3ac');\n",
              "          const dataTable =\n",
              "            await google.colab.kernel.invokeFunction('convertToInteractive',\n",
              "                                                     [key], {});\n",
              "          if (!dataTable) return;\n",
              "\n",
              "          const docLinkHtml = 'Like what you see? Visit the ' +\n",
              "            '<a target=\"_blank\" href=https://colab.research.google.com/notebooks/data_table.ipynb>data table notebook</a>'\n",
              "            + ' to learn more about interactive tables.';\n",
              "          element.innerHTML = '';\n",
              "          dataTable['output_type'] = 'display_data';\n",
              "          await google.colab.output.renderOutput(dataTable, element);\n",
              "          const docLink = document.createElement('div');\n",
              "          docLink.innerHTML = docLinkHtml;\n",
              "          element.appendChild(docLink);\n",
              "        }\n",
              "      </script>\n",
              "    </div>\n",
              "  </div>\n",
              "  "
            ]
          },
          "metadata": {},
          "execution_count": 74
        }
      ]
    },
    {
      "cell_type": "markdown",
      "source": [
        "Com este dataframe, vamos plotar seus valores para analisar sua curva."
      ],
      "metadata": {
        "id": "bpXX5_BP9lf3"
      }
    },
    {
      "cell_type": "code",
      "source": [
        "import matplotlib.pyplot as plt\n",
        "\n",
        "x1=dataset_precos_analise.query(\"PRODUTO == 'ETANOL HIDRATADO'\")['ANO INICIAL']\n",
        "x2=dataset_precos_analise.query(\"PRODUTO == 'GASOLINA COMUM'\")['ANO INICIAL']\n",
        "x3=dataset_precos_analise.query(\"PRODUTO == 'GLP'\")['ANO INICIAL']\n",
        "x4=dataset_precos_analise.query(\"PRODUTO == 'GNV'\")['ANO INICIAL']\n",
        "x5=dataset_precos_analise.query(\"PRODUTO == 'OLEO DIESEL'\")['ANO INICIAL']\n",
        "x6=dataset_precos_analise.query(\"PRODUTO == 'OLEO DIESEL S10'\")['ANO INICIAL']\n",
        "\n",
        "y1=dataset_precos_analise.query(\"PRODUTO == 'ETANOL HIDRATADO'\")['PREÇO MÉDIO REVENDA']\n",
        "y2=dataset_precos_analise.query(\"PRODUTO == 'GASOLINA COMUM'\")['PREÇO MÉDIO REVENDA']\n",
        "y3=dataset_precos_analise.query(\"PRODUTO == 'GLP'\")['PREÇO MÉDIO REVENDA']\n",
        "y4=dataset_precos_analise.query(\"PRODUTO == 'GNV'\")['PREÇO MÉDIO REVENDA']\n",
        "y5=dataset_precos_analise.query(\"PRODUTO == 'OLEO DIESEL'\")['PREÇO MÉDIO REVENDA']\n",
        "y6=dataset_precos_analise.query(\"PRODUTO == 'OLEO DIESEL S10'\")['PREÇO MÉDIO REVENDA']\n",
        "\n",
        "plt.plot(x1,y1)\n",
        "plt.plot(x2,y2)\n",
        "plt.plot(x3,y3)\n",
        "plt.plot(x4,y4)\n",
        "plt.plot(x5,y5)\n",
        "plt.plot(x6,y6)\n",
        "plt.legend(['ETANOL HIDRATADO', 'GASOLINA COMUM', 'GLP', 'GNV', 'OLEO DIESEL', 'OLEO DIESEL S10']);\n",
        "plt.xlabel('Ano')\n",
        "plt.ylabel('Preço Médio Revenda')\n",
        "\n",
        "plt.title('Variação de preço de acordo com os anos')\n",
        "plt.show()"
      ],
      "metadata": {
        "id": "Dm0dB5CVqoc5",
        "colab": {
          "base_uri": "https://localhost:8080/",
          "height": 295
        },
        "outputId": "1165c991-9c1b-441c-f274-e7af8af8ae8d"
      },
      "execution_count": null,
      "outputs": [
        {
          "output_type": "display_data",
          "data": {
            "text/plain": [
              "<Figure size 432x288 with 1 Axes>"
            ],
            "image/png": "[encoded data removed]"
          },
          "metadata": {
            "needs_background": "light"
          }
        }
      ]
    },
    {
      "cell_type": "markdown",
      "source": [
        "Pelo gráfico é possível analisar que os valores de GLP (por possuirem unidades de grandeza diferentes dos demais), optamos por subdividir suas curvas."
      ],
      "metadata": {
        "id": "NnZ5j3ZB-D8T"
      }
    },
    {
      "cell_type": "code",
      "source": [
        "import matplotlib.pyplot as plt\n",
        "\n",
        "x1=dataset_precos_analise.query(\"PRODUTO == 'ETANOL HIDRATADO'\")['ANO INICIAL']\n",
        "x2=dataset_precos_analise.query(\"PRODUTO == 'GASOLINA COMUM'\")['ANO INICIAL']\n",
        "x4=dataset_precos_analise.query(\"PRODUTO == 'GNV'\")['ANO INICIAL']\n",
        "x5=dataset_precos_analise.query(\"PRODUTO == 'OLEO DIESEL'\")['ANO INICIAL']\n",
        "x6=dataset_precos_analise.query(\"PRODUTO == 'OLEO DIESEL S10'\")['ANO INICIAL']\n",
        "\n",
        "y1=dataset_precos_analise.query(\"PRODUTO == 'ETANOL HIDRATADO'\")['PREÇO MÉDIO REVENDA']\n",
        "y2=dataset_precos_analise.query(\"PRODUTO == 'GASOLINA COMUM'\")['PREÇO MÉDIO REVENDA']\n",
        "y4=dataset_precos_analise.query(\"PRODUTO == 'GNV'\")['PREÇO MÉDIO REVENDA']\n",
        "y5=dataset_precos_analise.query(\"PRODUTO == 'OLEO DIESEL'\")['PREÇO MÉDIO REVENDA']\n",
        "y6=dataset_precos_analise.query(\"PRODUTO == 'OLEO DIESEL S10'\")['PREÇO MÉDIO REVENDA']\n",
        "\n",
        "plt.figure(figsize=(10, 6))\n",
        "plt.plot(x1,y1)\n",
        "plt.plot(x2,y2)\n",
        "plt.plot(x4,y4)\n",
        "plt.plot(x5,y5)\n",
        "plt.plot(x6,y6)\n",
        "\n",
        "plt.legend(['ETANOL HIDRATADO', 'GASOLINA COMUM', 'GNV', 'OLEO DIESEL', 'OLEO DIESEL S10']);\n",
        "plt.xlabel('Ano')\n",
        "plt.ylabel('Preço Médio Revenda')\n",
        "plt.title('Variação de preço de acordo com os anos')\n",
        "\n",
        "plt.show()\n",
        "\n",
        "x3=dataset_precos_analise.query(\"PRODUTO == 'GLP'\")['ANO INICIAL']\n",
        "y3=dataset_precos_analise.query(\"PRODUTO == 'GLP'\")['PREÇO MÉDIO REVENDA']\n",
        "\n",
        "plt.figure(figsize=(10, 6))\n",
        "plt.plot(x3,y3)\n",
        "plt.xlabel('Ano')\n",
        "plt.ylabel('Preço Médio Revenda')\n",
        "plt.title('Variação de preço do GLP de acordo com os anos')\n",
        "plt.show()\n"
      ],
      "metadata": {
        "colab": {
          "base_uri": "https://localhost:8080/",
          "height": 791
        },
        "id": "qUz5jUa3xhDA",
        "outputId": "b3b35a29-66ed-408f-9dbd-d4b93ed32f17"
      },
      "execution_count": null,
      "outputs": [
        {
          "output_type": "display_data",
          "data": {
            "text/plain": [
              "<Figure size 720x432 with 1 Axes>"
            ],
            "image/png": "[encoded data removed]"
          },
          "metadata": {
            "needs_background": "light"
          }
        },
        {
          "output_type": "display_data",
          "data": {
            "text/plain": [
              "<Figure size 720x432 with 1 Axes>"
            ],
            "image/png": "[encoded data removed]"
          },
          "metadata": {
            "needs_background": "light"
          }
        }
      ]
    },
    {
      "cell_type": "markdown",
      "source": [
        "Conclui-se que temos um aumento na média brasileira de \"praticamente\" proporcional entre os diferentes produtos. O que pode sugerir um aumento ocasionado por:\n",
        " - inflação\n",
        " - crescimento econômico\n",
        " - Olhando para o gráfico de GLP, em 2012 houve um aumento descontrolado no preço do gás de cozinha, devido a paridade política, mantendo o preço \"dolarizado\". Por ser por isso que neste período houve um aumento acentuado."
      ],
      "metadata": {
        "id": "uzg1_NxDDhPy"
      }
    },
    {
      "cell_type": "markdown",
      "source": [
        "A partir deste momento vamos analisar em foco 2 produtos:\n",
        " - Gasolina: por ser um dos combustíveis mais usados pela população em geral\n",
        " - Oleo Diesel S10: Por ser um dos principais combustíveis de carretas transportadoras de insumos."
      ],
      "metadata": {
        "id": "j0d2xBKXF7Qb"
      }
    },
    {
      "cell_type": "code",
      "source": [
        "dataset_precos_analise = dataset_gas_limpo.query(\"PRODUTO == 'GASOLINA COMUM' | PRODUTO == 'OLEO DIESEL S10'\")[['ANO INICIAL', 'PRODUTO', 'PREÇO MÉDIO REVENDA']].groupby(['ANO INICIAL','PRODUTO'],as_index=False).mean()\n",
        "dataset_precos_analise.tail()"
      ],
      "metadata": {
        "colab": {
          "base_uri": "https://localhost:8080/",
          "height": 206
        },
        "id": "lCbXaqKVGka6",
        "outputId": "657a7fb1-f1b1-4132-8c05-5e629db36215"
      },
      "execution_count": null,
      "outputs": [
        {
          "output_type": "execute_result",
          "data": {
            "text/plain": [
              "    ANO INICIAL          PRODUTO  PREÇO MÉDIO REVENDA\n",
              "21         2018  OLEO DIESEL S10             3.687866\n",
              "22         2019   GASOLINA COMUM             4.412135\n",
              "23         2019  OLEO DIESEL S10             3.791501\n",
              "24         2020   GASOLINA COMUM             4.244198\n",
              "25         2020  OLEO DIESEL S10             3.543781"
            ],
            "text/html": [
              "\n",
              "  <div id=\"df-4ddea267-b255-4e9a-b4a5-920a03f373fc\">\n",
              "    <div class=\"colab-df-container\">\n",
              "      <div>\n",
              "<style scoped>\n",
              "    .dataframe tbody tr th:only-of-type {\n",
              "        vertical-align: middle;\n",
              "    }\n",
              "\n",
              "    .dataframe tbody tr th {\n",
              "        vertical-align: top;\n",
              "    }\n",
              "\n",
              "    .dataframe thead th {\n",
              "        text-align: right;\n",
              "    }\n",
              "</style>\n",
              "<table border=\"1\" class=\"dataframe\">\n",
              "  <thead>\n",
              "    <tr style=\"text-align: right;\">\n",
              "      <th></th>\n",
              "      <th>ANO INICIAL</th>\n",
              "      <th>PRODUTO</th>\n",
              "      <th>PREÇO MÉDIO REVENDA</th>\n",
              "    </tr>\n",
              "  </thead>\n",
              "  <tbody>\n",
              "    <tr>\n",
              "      <th>21</th>\n",
              "      <td>2018</td>\n",
              "      <td>OLEO DIESEL S10</td>\n",
              "      <td>3.687866</td>\n",
              "    </tr>\n",
              "    <tr>\n",
              "      <th>22</th>\n",
              "      <td>2019</td>\n",
              "      <td>GASOLINA COMUM</td>\n",
              "      <td>4.412135</td>\n",
              "    </tr>\n",
              "    <tr>\n",
              "      <th>23</th>\n",
              "      <td>2019</td>\n",
              "      <td>OLEO DIESEL S10</td>\n",
              "      <td>3.791501</td>\n",
              "    </tr>\n",
              "    <tr>\n",
              "      <th>24</th>\n",
              "      <td>2020</td>\n",
              "      <td>GASOLINA COMUM</td>\n",
              "      <td>4.244198</td>\n",
              "    </tr>\n",
              "    <tr>\n",
              "      <th>25</th>\n",
              "      <td>2020</td>\n",
              "      <td>OLEO DIESEL S10</td>\n",
              "      <td>3.543781</td>\n",
              "    </tr>\n",
              "  </tbody>\n",
              "</table>\n",
              "</div>\n",
              "      <button class=\"colab-df-convert\" onclick=\"convertToInteractive('df-4ddea267-b255-4e9a-b4a5-920a03f373fc')\"\n",
              "              title=\"Convert this dataframe to an interactive table.\"\n",
              "              style=\"display:none;\">\n",
              "        \n",
              "  <svg xmlns=\"http://www.w3.org/2000/svg\" height=\"24px\"viewBox=\"0 0 24 24\"\n",
              "       width=\"24px\">\n",
              "    <path d=\"M0 0h24v24H0V0z\" fill=\"none\"/>\n",
              "    <path d=\"M18.56 5.44l.94 2.06.94-2.06 2.06-.94-2.06-.94-.94-2.06-.94 2.06-2.06.94zm-11 1L8.5 8.5l.94-2.06 2.06-.94-2.06-.94L8.5 2.5l-.94 2.06-2.06.94zm10 10l.94 2.06.94-2.06 2.06-.94-2.06-.94-.94-2.06-.94 2.06-2.06.94z\"/><path d=\"M17.41 7.96l-1.37-1.37c-.4-.4-.92-.59-1.43-.59-.52 0-1.04.2-1.43.59L10.3 9.45l-7.72 7.72c-.78.78-.78 2.05 0 2.83L4 21.41c.39.39.9.59 1.41.59.51 0 1.02-.2 1.41-.59l7.78-7.78 2.81-2.81c.8-.78.8-2.07 0-2.86zM5.41 20L4 18.59l7.72-7.72 1.47 1.35L5.41 20z\"/>\n",
              "  </svg>\n",
              "      </button>\n",
              "      \n",
              "  <style>\n",
              "    .colab-df-container {\n",
              "      display:flex;\n",
              "      flex-wrap:wrap;\n",
              "      gap: 12px;\n",
              "    }\n",
              "\n",
              "    .colab-df-convert {\n",
              "      background-color: #E8F0FE;\n",
              "      border: none;\n",
              "      border-radius: 50%;\n",
              "      cursor: pointer;\n",
              "      display: none;\n",
              "      fill: #1967D2;\n",
              "      height: 32px;\n",
              "      padding: 0 0 0 0;\n",
              "      width: 32px;\n",
              "    }\n",
              "\n",
              "    .colab-df-convert:hover {\n",
              "      background-color: #E2EBFA;\n",
              "      box-shadow: 0px 1px 2px rgba(60, 64, 67, 0.3), 0px 1px 3px 1px rgba(60, 64, 67, 0.15);\n",
              "      fill: #174EA6;\n",
              "    }\n",
              "\n",
              "    [theme=dark] .colab-df-convert {\n",
              "      background-color: #3B4455;\n",
              "      fill: #D2E3FC;\n",
              "    }\n",
              "\n",
              "    [theme=dark] .colab-df-convert:hover {\n",
              "      background-color: #434B5C;\n",
              "      box-shadow: 0px 1px 3px 1px rgba(0, 0, 0, 0.15);\n",
              "      filter: drop-shadow(0px 1px 2px rgba(0, 0, 0, 0.3));\n",
              "      fill: #FFFFFF;\n",
              "    }\n",
              "  </style>\n",
              "\n",
              "      <script>\n",
              "        const buttonEl =\n",
              "          document.querySelector('#df-4ddea267-b255-4e9a-b4a5-920a03f373fc button.colab-df-convert');\n",
              "        buttonEl.style.display =\n",
              "          google.colab.kernel.accessAllowed ? 'block' : 'none';\n",
              "\n",
              "        async function convertToInteractive(key) {\n",
              "          const element = document.querySelector('#df-4ddea267-b255-4e9a-b4a5-920a03f373fc');\n",
              "          const dataTable =\n",
              "            await google.colab.kernel.invokeFunction('convertToInteractive',\n",
              "                                                     [key], {});\n",
              "          if (!dataTable) return;\n",
              "\n",
              "          const docLinkHtml = 'Like what you see? Visit the ' +\n",
              "            '<a target=\"_blank\" href=https://colab.research.google.com/notebooks/data_table.ipynb>data table notebook</a>'\n",
              "            + ' to learn more about interactive tables.';\n",
              "          element.innerHTML = '';\n",
              "          dataTable['output_type'] = 'display_data';\n",
              "          await google.colab.output.renderOutput(dataTable, element);\n",
              "          const docLink = document.createElement('div');\n",
              "          docLink.innerHTML = docLinkHtml;\n",
              "          element.appendChild(docLink);\n",
              "        }\n",
              "      </script>\n",
              "    </div>\n",
              "  </div>\n",
              "  "
            ]
          },
          "metadata": {},
          "execution_count": 98
        }
      ]
    },
    {
      "cell_type": "code",
      "source": [
        "x1=dataset_precos_analise.query(\"PRODUTO == 'GASOLINA COMUM'\")['ANO INICIAL']\n",
        "x2=dataset_precos_analise.query(\"PRODUTO == 'OLEO DIESEL S10'\")['ANO INICIAL']\n",
        "\n",
        "y1=dataset_precos_analise.query(\"PRODUTO == 'GASOLINA COMUM'\")['PREÇO MÉDIO REVENDA']\n",
        "y2=dataset_precos_analise.query(\"PRODUTO == 'OLEO DIESEL S10'\")['PREÇO MÉDIO REVENDA']\n",
        "\n",
        "plt.figure(figsize=(10, 6))\n",
        "plt.plot(x1,y1)\n",
        "plt.plot(x2,y2)\n",
        "\n",
        "plt.legend(['GASOLINA COMUM', 'OLEO DIESEL S10']);\n",
        "plt.xlabel('Ano')\n",
        "plt.ylabel('Preço Médio Revenda')\n",
        "plt.title('Variação de preço no brasil de acordo com os anos')\n",
        "\n",
        "plt.show()"
      ],
      "metadata": {
        "colab": {
          "base_uri": "https://localhost:8080/",
          "height": 404
        },
        "id": "a3koAG16H7zc",
        "outputId": "11ef5e13-ed87-4e21-d9ee-3dc05df0ac5e"
      },
      "execution_count": null,
      "outputs": [
        {
          "output_type": "display_data",
          "data": {
            "text/plain": [
              "<Figure size 720x432 with 1 Axes>"
            ],
            "image/png": "[encoded data removed]"
          },
          "metadata": {
            "needs_background": "light"
          }
        }
      ]
    },
    {
      "cell_type": "markdown",
      "source": [
        "Conclusões relacionadas ao aumento do preço dos combustíveis do gráfico anterior:\n",
        " - Os preços do óleo diesel só começaram a ser medidos a partir de 2012;\n",
        " - Ocorrência da greve dos caminhoneiros em 2018 provocando um aumento, e este evento acabou tendo consequências até seu pico em 2019.\n",
        " - Chegada da pandemia em 2020, provocando redução de uso de transportes em geral."
      ],
      "metadata": {
        "id": "Xuz_Vdc4ItLS"
      }
    },
    {
      "cell_type": "markdown",
      "source": [
        "### 4.2.Como é a evolução de preços desses produtos em escala regional?"
      ],
      "metadata": {
        "id": "nydEDyqpFcFQ"
      }
    },
    {
      "cell_type": "markdown",
      "source": [
        "Vamos olhar as variações ocorridas no Sudeste:"
      ],
      "metadata": {
        "id": "N-peMGC7L0bO"
      }
    },
    {
      "cell_type": "code",
      "source": [
        "dataset_precos_analise = dataset_gas_limpo.query(\"(PRODUTO == 'GASOLINA COMUM' | PRODUTO == 'OLEO DIESEL S10') & REGIÃO == 'CENTRO OESTE'\")[['ANO INICIAL', 'PRODUTO', 'PREÇO MÉDIO REVENDA']].groupby(['ANO INICIAL','PRODUTO'],as_index=False).mean()\n",
        "dataset_precos_analise.tail()"
      ],
      "metadata": {
        "colab": {
          "base_uri": "https://localhost:8080/",
          "height": 206
        },
        "id": "wsnr9ns8KdvF",
        "outputId": "9354854c-9bd0-470c-ec68-d9bbe9bf6329"
      },
      "execution_count": null,
      "outputs": [
        {
          "output_type": "execute_result",
          "data": {
            "text/plain": [
              "    ANO INICIAL          PRODUTO  PREÇO MÉDIO REVENDA\n",
              "20         2018  OLEO DIESEL S10             3.789850\n",
              "21         2019   GASOLINA COMUM             4.363827\n",
              "22         2019  OLEO DIESEL S10             3.844274\n",
              "23         2020   GASOLINA COMUM             4.221015\n",
              "24         2020  OLEO DIESEL S10             3.586879"
            ],
            "text/html": [
              "\n",
              "  <div id=\"df-385d62c1-8015-45f3-a1f7-4421a620f803\">\n",
              "    <div class=\"colab-df-container\">\n",
              "      <div>\n",
              "<style scoped>\n",
              "    .dataframe tbody tr th:only-of-type {\n",
              "        vertical-align: middle;\n",
              "    }\n",
              "\n",
              "    .dataframe tbody tr th {\n",
              "        vertical-align: top;\n",
              "    }\n",
              "\n",
              "    .dataframe thead th {\n",
              "        text-align: right;\n",
              "    }\n",
              "</style>\n",
              "<table border=\"1\" class=\"dataframe\">\n",
              "  <thead>\n",
              "    <tr style=\"text-align: right;\">\n",
              "      <th></th>\n",
              "      <th>ANO INICIAL</th>\n",
              "      <th>PRODUTO</th>\n",
              "      <th>PREÇO MÉDIO REVENDA</th>\n",
              "    </tr>\n",
              "  </thead>\n",
              "  <tbody>\n",
              "    <tr>\n",
              "      <th>20</th>\n",
              "      <td>2018</td>\n",
              "      <td>OLEO DIESEL S10</td>\n",
              "      <td>3.789850</td>\n",
              "    </tr>\n",
              "    <tr>\n",
              "      <th>21</th>\n",
              "      <td>2019</td>\n",
              "      <td>GASOLINA COMUM</td>\n",
              "      <td>4.363827</td>\n",
              "    </tr>\n",
              "    <tr>\n",
              "      <th>22</th>\n",
              "      <td>2019</td>\n",
              "      <td>OLEO DIESEL S10</td>\n",
              "      <td>3.844274</td>\n",
              "    </tr>\n",
              "    <tr>\n",
              "      <th>23</th>\n",
              "      <td>2020</td>\n",
              "      <td>GASOLINA COMUM</td>\n",
              "      <td>4.221015</td>\n",
              "    </tr>\n",
              "    <tr>\n",
              "      <th>24</th>\n",
              "      <td>2020</td>\n",
              "      <td>OLEO DIESEL S10</td>\n",
              "      <td>3.586879</td>\n",
              "    </tr>\n",
              "  </tbody>\n",
              "</table>\n",
              "</div>\n",
              "      <button class=\"colab-df-convert\" onclick=\"convertToInteractive('df-385d62c1-8015-45f3-a1f7-4421a620f803')\"\n",
              "              title=\"Convert this dataframe to an interactive table.\"\n",
              "              style=\"display:none;\">\n",
              "        \n",
              "  <svg xmlns=\"http://www.w3.org/2000/svg\" height=\"24px\"viewBox=\"0 0 24 24\"\n",
              "       width=\"24px\">\n",
              "    <path d=\"M0 0h24v24H0V0z\" fill=\"none\"/>\n",
              "    <path d=\"M18.56 5.44l.94 2.06.94-2.06 2.06-.94-2.06-.94-.94-2.06-.94 2.06-2.06.94zm-11 1L8.5 8.5l.94-2.06 2.06-.94-2.06-.94L8.5 2.5l-.94 2.06-2.06.94zm10 10l.94 2.06.94-2.06 2.06-.94-2.06-.94-.94-2.06-.94 2.06-2.06.94z\"/><path d=\"M17.41 7.96l-1.37-1.37c-.4-.4-.92-.59-1.43-.59-.52 0-1.04.2-1.43.59L10.3 9.45l-7.72 7.72c-.78.78-.78 2.05 0 2.83L4 21.41c.39.39.9.59 1.41.59.51 0 1.02-.2 1.41-.59l7.78-7.78 2.81-2.81c.8-.78.8-2.07 0-2.86zM5.41 20L4 18.59l7.72-7.72 1.47 1.35L5.41 20z\"/>\n",
              "  </svg>\n",
              "      </button>\n",
              "      \n",
              "  <style>\n",
              "    .colab-df-container {\n",
              "      display:flex;\n",
              "      flex-wrap:wrap;\n",
              "      gap: 12px;\n",
              "    }\n",
              "\n",
              "    .colab-df-convert {\n",
              "      background-color: #E8F0FE;\n",
              "      border: none;\n",
              "      border-radius: 50%;\n",
              "      cursor: pointer;\n",
              "      display: none;\n",
              "      fill: #1967D2;\n",
              "      height: 32px;\n",
              "      padding: 0 0 0 0;\n",
              "      width: 32px;\n",
              "    }\n",
              "\n",
              "    .colab-df-convert:hover {\n",
              "      background-color: #E2EBFA;\n",
              "      box-shadow: 0px 1px 2px rgba(60, 64, 67, 0.3), 0px 1px 3px 1px rgba(60, 64, 67, 0.15);\n",
              "      fill: #174EA6;\n",
              "    }\n",
              "\n",
              "    [theme=dark] .colab-df-convert {\n",
              "      background-color: #3B4455;\n",
              "      fill: #D2E3FC;\n",
              "    }\n",
              "\n",
              "    [theme=dark] .colab-df-convert:hover {\n",
              "      background-color: #434B5C;\n",
              "      box-shadow: 0px 1px 3px 1px rgba(0, 0, 0, 0.15);\n",
              "      filter: drop-shadow(0px 1px 2px rgba(0, 0, 0, 0.3));\n",
              "      fill: #FFFFFF;\n",
              "    }\n",
              "  </style>\n",
              "\n",
              "      <script>\n",
              "        const buttonEl =\n",
              "          document.querySelector('#df-385d62c1-8015-45f3-a1f7-4421a620f803 button.colab-df-convert');\n",
              "        buttonEl.style.display =\n",
              "          google.colab.kernel.accessAllowed ? 'block' : 'none';\n",
              "\n",
              "        async function convertToInteractive(key) {\n",
              "          const element = document.querySelector('#df-385d62c1-8015-45f3-a1f7-4421a620f803');\n",
              "          const dataTable =\n",
              "            await google.colab.kernel.invokeFunction('convertToInteractive',\n",
              "                                                     [key], {});\n",
              "          if (!dataTable) return;\n",
              "\n",
              "          const docLinkHtml = 'Like what you see? Visit the ' +\n",
              "            '<a target=\"_blank\" href=https://colab.research.google.com/notebooks/data_table.ipynb>data table notebook</a>'\n",
              "            + ' to learn more about interactive tables.';\n",
              "          element.innerHTML = '';\n",
              "          dataTable['output_type'] = 'display_data';\n",
              "          await google.colab.output.renderOutput(dataTable, element);\n",
              "          const docLink = document.createElement('div');\n",
              "          docLink.innerHTML = docLinkHtml;\n",
              "          element.appendChild(docLink);\n",
              "        }\n",
              "      </script>\n",
              "    </div>\n",
              "  </div>\n",
              "  "
            ]
          },
          "metadata": {},
          "execution_count": 114
        }
      ]
    },
    {
      "cell_type": "code",
      "source": [
        "x1=dataset_precos_analise.query(\"PRODUTO == 'GASOLINA COMUM'\")['ANO INICIAL']\n",
        "x2=dataset_precos_analise.query(\"PRODUTO == 'OLEO DIESEL S10'\")['ANO INICIAL']\n",
        "\n",
        "y1=dataset_precos_analise.query(\"PRODUTO == 'GASOLINA COMUM'\")['PREÇO MÉDIO REVENDA']\n",
        "y2=dataset_precos_analise.query(\"PRODUTO == 'OLEO DIESEL S10'\")['PREÇO MÉDIO REVENDA']\n",
        "\n",
        "plt.figure(figsize=(10, 6))\n",
        "plt.plot(x1,y1)\n",
        "plt.plot(x2,y2)\n",
        "\n",
        "plt.legend(['GASOLINA COMUM', 'OLEO DIESEL S10']);\n",
        "plt.xlabel('Ano')\n",
        "plt.ylabel('Preço Médio Revenda')\n",
        "plt.title('Variação de preço no Sudeste de acordo com os anos')\n",
        "\n",
        "plt.show()"
      ],
      "metadata": {
        "colab": {
          "base_uri": "https://localhost:8080/",
          "height": 404
        },
        "id": "1hzEzZ0hLvoY",
        "outputId": "caec916b-4127-416d-de25-d2a16f1fed1d"
      },
      "execution_count": null,
      "outputs": [
        {
          "output_type": "display_data",
          "data": {
            "text/plain": [
              "<Figure size 720x432 with 1 Axes>"
            ],
            "image/png": "[encoded data removed]"
          },
          "metadata": {
            "needs_background": "light"
          }
        }
      ]
    },
    {
      "cell_type": "markdown",
      "source": [
        "Conclusões relacionadas ao aumento do preço dos combustíveis do gráfico anterior:\n",
        " - Vendo a curva (por seguir média nacional);\n",
        " - Ocorrência da greve dos caminhoneiros em 2018 provocando um aumento, e este evento acabou tendo consequências até seu pico em 2019.\n",
        " - Chegada da pandemia em 2020, provocando redução de uso de transportes em geral."
      ],
      "metadata": {
        "id": "Rg1LBTgtM8-n"
      }
    },
    {
      "cell_type": "code",
      "source": [
        "dataset_precos_analise_gasolina = dataset_gas_limpo.query(\"PRODUTO == 'GASOLINA COMUM'\")[['ANO INICIAL', 'REGIÃO', 'PREÇO MÉDIO REVENDA']].groupby(['ANO INICIAL','REGIÃO'],as_index=False).mean()\n",
        "dataset_precos_analise_diesel = dataset_gas_limpo.query(\"PRODUTO == 'OLEO DIESEL S10'\")[['ANO INICIAL', 'REGIÃO', 'PREÇO MÉDIO REVENDA']].groupby(['ANO INICIAL','REGIÃO'],as_index=False).mean()\n",
        "dataset_precos_analise_gasolina.tail()"
      ],
      "metadata": {
        "colab": {
          "base_uri": "https://localhost:8080/",
          "height": 206
        },
        "id": "zEaSR566NQC8",
        "outputId": "bbe78f92-f019-4f01-a373-8a55ad0310e1"
      },
      "execution_count": null,
      "outputs": [
        {
          "output_type": "execute_result",
          "data": {
            "text/plain": [
              "    ANO INICIAL        REGIÃO  PREÇO MÉDIO REVENDA\n",
              "80         2020  CENTRO OESTE             4.221015\n",
              "81         2020      NORDESTE             4.265799\n",
              "82         2020         NORTE             4.231162\n",
              "83         2020       SUDESTE             4.337841\n",
              "84         2020           SUL             4.117343"
            ],
            "text/html": [
              "\n",
              "  <div id=\"df-26a5e424-b1ad-43fd-aa89-7b699ba7170d\">\n",
              "    <div class=\"colab-df-container\">\n",
              "      <div>\n",
              "<style scoped>\n",
              "    .dataframe tbody tr th:only-of-type {\n",
              "        vertical-align: middle;\n",
              "    }\n",
              "\n",
              "    .dataframe tbody tr th {\n",
              "        vertical-align: top;\n",
              "    }\n",
              "\n",
              "    .dataframe thead th {\n",
              "        text-align: right;\n",
              "    }\n",
              "</style>\n",
              "<table border=\"1\" class=\"dataframe\">\n",
              "  <thead>\n",
              "    <tr style=\"text-align: right;\">\n",
              "      <th></th>\n",
              "      <th>ANO INICIAL</th>\n",
              "      <th>REGIÃO</th>\n",
              "      <th>PREÇO MÉDIO REVENDA</th>\n",
              "    </tr>\n",
              "  </thead>\n",
              "  <tbody>\n",
              "    <tr>\n",
              "      <th>80</th>\n",
              "      <td>2020</td>\n",
              "      <td>CENTRO OESTE</td>\n",
              "      <td>4.221015</td>\n",
              "    </tr>\n",
              "    <tr>\n",
              "      <th>81</th>\n",
              "      <td>2020</td>\n",
              "      <td>NORDESTE</td>\n",
              "      <td>4.265799</td>\n",
              "    </tr>\n",
              "    <tr>\n",
              "      <th>82</th>\n",
              "      <td>2020</td>\n",
              "      <td>NORTE</td>\n",
              "      <td>4.231162</td>\n",
              "    </tr>\n",
              "    <tr>\n",
              "      <th>83</th>\n",
              "      <td>2020</td>\n",
              "      <td>SUDESTE</td>\n",
              "      <td>4.337841</td>\n",
              "    </tr>\n",
              "    <tr>\n",
              "      <th>84</th>\n",
              "      <td>2020</td>\n",
              "      <td>SUL</td>\n",
              "      <td>4.117343</td>\n",
              "    </tr>\n",
              "  </tbody>\n",
              "</table>\n",
              "</div>\n",
              "      <button class=\"colab-df-convert\" onclick=\"convertToInteractive('df-26a5e424-b1ad-43fd-aa89-7b699ba7170d')\"\n",
              "              title=\"Convert this dataframe to an interactive table.\"\n",
              "              style=\"display:none;\">\n",
              "        \n",
              "  <svg xmlns=\"http://www.w3.org/2000/svg\" height=\"24px\"viewBox=\"0 0 24 24\"\n",
              "       width=\"24px\">\n",
              "    <path d=\"M0 0h24v24H0V0z\" fill=\"none\"/>\n",
              "    <path d=\"M18.56 5.44l.94 2.06.94-2.06 2.06-.94-2.06-.94-.94-2.06-.94 2.06-2.06.94zm-11 1L8.5 8.5l.94-2.06 2.06-.94-2.06-.94L8.5 2.5l-.94 2.06-2.06.94zm10 10l.94 2.06.94-2.06 2.06-.94-2.06-.94-.94-2.06-.94 2.06-2.06.94z\"/><path d=\"M17.41 7.96l-1.37-1.37c-.4-.4-.92-.59-1.43-.59-.52 0-1.04.2-1.43.59L10.3 9.45l-7.72 7.72c-.78.78-.78 2.05 0 2.83L4 21.41c.39.39.9.59 1.41.59.51 0 1.02-.2 1.41-.59l7.78-7.78 2.81-2.81c.8-.78.8-2.07 0-2.86zM5.41 20L4 18.59l7.72-7.72 1.47 1.35L5.41 20z\"/>\n",
              "  </svg>\n",
              "      </button>\n",
              "      \n",
              "  <style>\n",
              "    .colab-df-container {\n",
              "      display:flex;\n",
              "      flex-wrap:wrap;\n",
              "      gap: 12px;\n",
              "    }\n",
              "\n",
              "    .colab-df-convert {\n",
              "      background-color: #E8F0FE;\n",
              "      border: none;\n",
              "      border-radius: 50%;\n",
              "      cursor: pointer;\n",
              "      display: none;\n",
              "      fill: #1967D2;\n",
              "      height: 32px;\n",
              "      padding: 0 0 0 0;\n",
              "      width: 32px;\n",
              "    }\n",
              "\n",
              "    .colab-df-convert:hover {\n",
              "      background-color: #E2EBFA;\n",
              "      box-shadow: 0px 1px 2px rgba(60, 64, 67, 0.3), 0px 1px 3px 1px rgba(60, 64, 67, 0.15);\n",
              "      fill: #174EA6;\n",
              "    }\n",
              "\n",
              "    [theme=dark] .colab-df-convert {\n",
              "      background-color: #3B4455;\n",
              "      fill: #D2E3FC;\n",
              "    }\n",
              "\n",
              "    [theme=dark] .colab-df-convert:hover {\n",
              "      background-color: #434B5C;\n",
              "      box-shadow: 0px 1px 3px 1px rgba(0, 0, 0, 0.15);\n",
              "      filter: drop-shadow(0px 1px 2px rgba(0, 0, 0, 0.3));\n",
              "      fill: #FFFFFF;\n",
              "    }\n",
              "  </style>\n",
              "\n",
              "      <script>\n",
              "        const buttonEl =\n",
              "          document.querySelector('#df-26a5e424-b1ad-43fd-aa89-7b699ba7170d button.colab-df-convert');\n",
              "        buttonEl.style.display =\n",
              "          google.colab.kernel.accessAllowed ? 'block' : 'none';\n",
              "\n",
              "        async function convertToInteractive(key) {\n",
              "          const element = document.querySelector('#df-26a5e424-b1ad-43fd-aa89-7b699ba7170d');\n",
              "          const dataTable =\n",
              "            await google.colab.kernel.invokeFunction('convertToInteractive',\n",
              "                                                     [key], {});\n",
              "          if (!dataTable) return;\n",
              "\n",
              "          const docLinkHtml = 'Like what you see? Visit the ' +\n",
              "            '<a target=\"_blank\" href=https://colab.research.google.com/notebooks/data_table.ipynb>data table notebook</a>'\n",
              "            + ' to learn more about interactive tables.';\n",
              "          element.innerHTML = '';\n",
              "          dataTable['output_type'] = 'display_data';\n",
              "          await google.colab.output.renderOutput(dataTable, element);\n",
              "          const docLink = document.createElement('div');\n",
              "          docLink.innerHTML = docLinkHtml;\n",
              "          element.appendChild(docLink);\n",
              "        }\n",
              "      </script>\n",
              "    </div>\n",
              "  </div>\n",
              "  "
            ]
          },
          "metadata": {},
          "execution_count": 124
        }
      ]
    },
    {
      "cell_type": "code",
      "source": [
        "x1=dataset_precos_analise_gasolina.query(\"REGIÃO == 'NORTE'\")['ANO INICIAL']\n",
        "x2=dataset_precos_analise_gasolina.query(\"REGIÃO == 'NORDESTE'\")['ANO INICIAL']\n",
        "x3=dataset_precos_analise_gasolina.query(\"REGIÃO == 'CENTRO OESTE'\")['ANO INICIAL']\n",
        "x4=dataset_precos_analise_gasolina.query(\"REGIÃO == 'SUDESTE'\")['ANO INICIAL']\n",
        "x5=dataset_precos_analise_gasolina.query(\"REGIÃO == 'SUL'\")['ANO INICIAL']\n",
        "\n",
        "y1=dataset_precos_analise_gasolina.query(\"REGIÃO == 'NORTE'\")['PREÇO MÉDIO REVENDA']\n",
        "y2=dataset_precos_analise_gasolina.query(\"REGIÃO == 'NORDESTE'\")['PREÇO MÉDIO REVENDA']\n",
        "y3=dataset_precos_analise_gasolina.query(\"REGIÃO == 'CENTRO OESTE'\")['PREÇO MÉDIO REVENDA']\n",
        "y4=dataset_precos_analise_gasolina.query(\"REGIÃO == 'SUDESTE'\")['PREÇO MÉDIO REVENDA']\n",
        "y5=dataset_precos_analise_gasolina.query(\"REGIÃO == 'SUL'\")['PREÇO MÉDIO REVENDA']\n",
        "\n",
        "plt.figure(figsize=(10, 6))\n",
        "plt.plot(x1,y1)\n",
        "plt.plot(x2,y2)\n",
        "plt.plot(x3,y3)\n",
        "plt.plot(x4,y4)\n",
        "plt.plot(x5,y5)\n",
        "\n",
        "plt.legend(['NORTE', 'NORDESTE', 'CENTRO OESTE', 'SUDESTE', 'SUL']);\n",
        "plt.xlabel('Ano')\n",
        "plt.ylabel('Preço Médio Revenda')\n",
        "plt.title('Variação de preço regional da Gasolina Comum de acordo com os anos')\n",
        "\n",
        "plt.show()\n",
        "\n",
        "x1=dataset_precos_analise_diesel.query(\"REGIÃO == 'NORTE'\")['ANO INICIAL']\n",
        "x2=dataset_precos_analise_diesel.query(\"REGIÃO == 'NORDESTE'\")['ANO INICIAL']\n",
        "x3=dataset_precos_analise_diesel.query(\"REGIÃO == 'CENTRO OESTE'\")['ANO INICIAL']\n",
        "x4=dataset_precos_analise_diesel.query(\"REGIÃO == 'SUDESTE'\")['ANO INICIAL']\n",
        "x5=dataset_precos_analise_diesel.query(\"REGIÃO == 'SUL'\")['ANO INICIAL']\n",
        "\n",
        "y1=dataset_precos_analise_diesel.query(\"REGIÃO == 'NORTE'\")['PREÇO MÉDIO REVENDA']\n",
        "y2=dataset_precos_analise_diesel.query(\"REGIÃO == 'NORDESTE'\")['PREÇO MÉDIO REVENDA']\n",
        "y3=dataset_precos_analise_diesel.query(\"REGIÃO == 'CENTRO OESTE'\")['PREÇO MÉDIO REVENDA']\n",
        "y4=dataset_precos_analise_diesel.query(\"REGIÃO == 'SUDESTE'\")['PREÇO MÉDIO REVENDA']\n",
        "y5=dataset_precos_analise_diesel.query(\"REGIÃO == 'SUL'\")['PREÇO MÉDIO REVENDA']\n",
        "\n",
        "plt.figure(figsize=(10, 6))\n",
        "plt.plot(x1,y1)\n",
        "plt.plot(x2,y2)\n",
        "plt.plot(x3,y3)\n",
        "plt.plot(x4,y4)\n",
        "plt.plot(x5,y5)\n",
        "\n",
        "plt.legend(['NORTE', 'NORDESTE', 'CENTRO OESTE', 'SUDESTE', 'SUL']);\n",
        "plt.xlabel('Ano')\n",
        "plt.ylabel('Preço Médio Revenda')\n",
        "plt.title('Variação de preço regional da Oleo Diesel de acordo com os anos')\n",
        "\n",
        "plt.show()"
      ],
      "metadata": {
        "colab": {
          "base_uri": "https://localhost:8080/",
          "height": 791
        },
        "id": "hz6qr-CcN9g8",
        "outputId": "262060be-3720-4096-b4ff-3f068530bafc"
      },
      "execution_count": null,
      "outputs": [
        {
          "output_type": "display_data",
          "data": {
            "text/plain": [
              "<Figure size 720x432 with 1 Axes>"
            ],
            "image/png": "[encoded data removed]"
          },
          "metadata": {
            "needs_background": "light"
          }
        },
        {
          "output_type": "display_data",
          "data": {
            "text/plain": [
              "<Figure size 720x432 with 1 Axes>"
            ],
            "image/png": "[encoded data removed]"
          },
          "metadata": {
            "needs_background": "light"
          }
        }
      ]
    },
    {
      "cell_type": "markdown",
      "source": [
        "Conclusões relacionadas ao aumento do preço dos combustíveis dos gráficos anteriores:\n",
        " - Custo do diesel na região Norte faz sentido ser mais caro, devido ao polo de mineradoras (alta demanda), onde há um maquinário pesado, além da região norte possuir muito pontos de dificil acesso;\n",
        " - A respeito do custo da Gasolina Comum, de 2008 até 2017, a região Norte liderou o preço mais caro até que nos últimos anos, o sudeste passou a liderar.\n",
        " - Um dos motivos, de SE ter alta, pode ser em relação a popularização dos aplicativos de delivery (tanto o principal quanto seus concorrentes), provocando uma alta na demanda."
      ],
      "metadata": {
        "id": "x1XG12gKQWpl"
      }
    },
    {
      "cell_type": "markdown",
      "source": [
        "### 4.3.Como é a evolução de preços desses produtos em escala estadual (SE)?"
      ],
      "metadata": {
        "id": "CrZSLVYxSV9Z"
      }
    },
    {
      "cell_type": "code",
      "source": [
        "dataset_precos_analise_gasolina = dataset_gas_limpo.query(\"PRODUTO == 'GASOLINA COMUM' & REGIÃO == 'SUDESTE'\")[['ANO INICIAL', 'PRODUTO', 'ESTADO', 'PREÇO MÉDIO REVENDA']].groupby(['ANO INICIAL','ESTADO'],as_index=False).mean()\n",
        "dataset_precos_analise_diesel = dataset_gas_limpo.query(\"PRODUTO == 'OLEO DIESEL S10' & REGIÃO == 'SUDESTE'\")[['ANO INICIAL', 'PRODUTO', 'ESTADO', 'PREÇO MÉDIO REVENDA']].groupby(['ANO INICIAL','ESTADO'],as_index=False).mean()"
      ],
      "metadata": {
        "id": "ZR1CZg_YSmQP"
      },
      "execution_count": null,
      "outputs": []
    },
    {
      "cell_type": "code",
      "source": [
        "x1=dataset_precos_analise_gasolina.query(\"ESTADO == 'ES'\")['ANO INICIAL']\n",
        "x2=dataset_precos_analise_gasolina.query(\"ESTADO == 'MG'\")['ANO INICIAL']\n",
        "x3=dataset_precos_analise_gasolina.query(\"ESTADO == 'RJ'\")['ANO INICIAL']\n",
        "x4=dataset_precos_analise_gasolina.query(\"ESTADO == 'SP'\")['ANO INICIAL']\n",
        "\n",
        "y1=dataset_precos_analise_gasolina.query(\"ESTADO == 'ES'\")['PREÇO MÉDIO REVENDA']\n",
        "y2=dataset_precos_analise_gasolina.query(\"ESTADO == 'MG'\")['PREÇO MÉDIO REVENDA']\n",
        "y3=dataset_precos_analise_gasolina.query(\"ESTADO == 'RJ'\")['PREÇO MÉDIO REVENDA']\n",
        "y4=dataset_precos_analise_gasolina.query(\"ESTADO == 'SP'\")['PREÇO MÉDIO REVENDA']\n",
        "\n",
        "plt.figure(figsize=(10, 6))\n",
        "plt.plot(x1,y1)\n",
        "plt.plot(x2,y2)\n",
        "plt.plot(x3,y3)\n",
        "plt.plot(x4,y4)\n",
        "\n",
        "plt.legend(['ES', 'MG', 'RJ', 'SP']);\n",
        "plt.xlabel('Ano')\n",
        "plt.ylabel('Preço Médio Revenda')\n",
        "plt.title('Variação de preço estadual da Gasolina Comum de acordo com os anos')\n",
        "\n",
        "plt.show()\n",
        "\n",
        "x1=dataset_precos_analise_diesel.query(\"ESTADO == 'ES'\")['ANO INICIAL']\n",
        "x2=dataset_precos_analise_diesel.query(\"ESTADO == 'MG'\")['ANO INICIAL']\n",
        "x3=dataset_precos_analise_diesel.query(\"ESTADO == 'RJ'\")['ANO INICIAL']\n",
        "x4=dataset_precos_analise_diesel.query(\"ESTADO == 'SP'\")['ANO INICIAL']\n",
        "\n",
        "y1=dataset_precos_analise_diesel.query(\"ESTADO == 'ES'\")['PREÇO MÉDIO REVENDA']\n",
        "y2=dataset_precos_analise_diesel.query(\"ESTADO == 'MG'\")['PREÇO MÉDIO REVENDA']\n",
        "y3=dataset_precos_analise_diesel.query(\"ESTADO == 'RJ'\")['PREÇO MÉDIO REVENDA']\n",
        "y4=dataset_precos_analise_diesel.query(\"ESTADO == 'SP'\")['PREÇO MÉDIO REVENDA']\n",
        "\n",
        "plt.figure(figsize=(10, 6))\n",
        "plt.plot(x1,y1)\n",
        "plt.plot(x2,y2)\n",
        "plt.plot(x3,y3)\n",
        "plt.plot(x4,y4)\n",
        "\n",
        "plt.legend(['ES', 'MG', 'RJ', 'SP']);\n",
        "plt.xlabel('Ano')\n",
        "plt.ylabel('Preço Médio Revenda')\n",
        "plt.title('Variação de preço estadual da Oleo Diesel de acordo com os anos')\n",
        "\n",
        "plt.show()"
      ],
      "metadata": {
        "colab": {
          "base_uri": "https://localhost:8080/",
          "height": 791
        },
        "id": "5iTOdWCLTiLx",
        "outputId": "83066da9-a7be-40e0-dafb-2f3af7bc3f4d"
      },
      "execution_count": null,
      "outputs": [
        {
          "output_type": "display_data",
          "data": {
            "text/plain": [
              "<Figure size 720x432 with 1 Axes>"
            ],
            "image/png": "[encoded data removed]"
          },
          "metadata": {
            "needs_background": "light"
          }
        },
        {
          "output_type": "display_data",
          "data": {
            "text/plain": [
              "<Figure size 720x432 with 1 Axes>"
            ],
            "image/png": "[encoded data removed]"
          },
          "metadata": {
            "needs_background": "light"
          }
        }
      ]
    },
    {
      "cell_type": "markdown",
      "source": [
        "Conclusões relacionadas ao aumento do preço dos combustíveis dos gráficos anteriores:\n",
        " - Valor do combustível no RJ é o maior perante os demais. Engraçado que RJ possui mais refinarias, no entanto acredito que boa parte do petróleo que chega do exterior deva vir do porto de Santos, pode ser por isso.\n",
        " - O que corrobora com o preço de SP ser o mais baixo;\n",
        " - O valor de Diesel de RJ se compara com MG. MG possui muitas siderurgicas e mineradoras, o que corrobora com o aumento de seu custo (dada a demanda). Com relação ao RJ pode ser em relação tambem com siderurgicas, mas mais do que isso, seja em relação a Empresas Transportadoras.\n",
        " - Falar a respeito da dolarização do combustível a partir do governo Temer (2015/2016).\n"
      ],
      "metadata": {
        "id": "I-g-Otw1VDt3"
      }
    },
    {
      "cell_type": "markdown",
      "source": [
        "### 4.4.A partir dessas análises, o que muda? Qual região/estado tem maior variação de preços médios? Preço médio min e max?"
      ],
      "metadata": {
        "id": "MkQqKXyaWbjB"
      }
    },
    {
      "cell_type": "markdown",
      "source": [
        "Para este estudo vamos analisar apenas para Gasolina comum.\n",
        "\n",
        "Primeiramente, vamos coletar os preços máximos e mnímios de revenda para cada região e centralizar em um único dataframe: "
      ],
      "metadata": {
        "id": "rkwn3ckagS2b"
      }
    },
    {
      "cell_type": "code",
      "source": [
        "dataset_gasolina_max = dataset_gas_limpo.query(\"PRODUTO == 'GASOLINA COMUM'\")[['ANO INICIAL', 'REGIÃO', 'PREÇO MÉDIO REVENDA']].groupby(['ANO INICIAL','REGIÃO'],as_index=False).max()\n",
        "dataset_gasolina_min = dataset_gas_limpo.query(\"PRODUTO == 'GASOLINA COMUM'\")[['ANO INICIAL', 'REGIÃO', 'PREÇO MÉDIO REVENDA']].groupby(['ANO INICIAL','REGIÃO'],as_index=False).min()\n",
        "dataset_gasolina = dataset_gasolina_max\n",
        "dataset_gasolina = dataset_gasolina.rename(columns={'PREÇO MÉDIO REVENDA': 'PREÇO MÁXIMO DE REVENDA'})\n",
        "dataset_gasolina.head()"
      ],
      "metadata": {
        "colab": {
          "base_uri": "https://localhost:8080/",
          "height": 206
        },
        "id": "i5SVBWolY83F",
        "outputId": "8d0f7e9c-2c8d-4f7e-b057-fdcc1a01cff0"
      },
      "execution_count": null,
      "outputs": [
        {
          "output_type": "execute_result",
          "data": {
            "text/plain": [
              "   ANO INICIAL        REGIÃO  PREÇO MÁXIMO DE REVENDA\n",
              "0         2004  CENTRO OESTE                    2.707\n",
              "1         2004      NORDESTE                    2.457\n",
              "2         2004         NORTE                    2.639\n",
              "3         2004       SUDESTE                    2.316\n",
              "4         2004           SUL                    2.486"
            ],
            "text/html": [
              "\n",
              "  <div id=\"df-2379dcc8-f206-42da-b315-04a36c5557bf\">\n",
              "    <div class=\"colab-df-container\">\n",
              "      <div>\n",
              "<style scoped>\n",
              "    .dataframe tbody tr th:only-of-type {\n",
              "        vertical-align: middle;\n",
              "    }\n",
              "\n",
              "    .dataframe tbody tr th {\n",
              "        vertical-align: top;\n",
              "    }\n",
              "\n",
              "    .dataframe thead th {\n",
              "        text-align: right;\n",
              "    }\n",
              "</style>\n",
              "<table border=\"1\" class=\"dataframe\">\n",
              "  <thead>\n",
              "    <tr style=\"text-align: right;\">\n",
              "      <th></th>\n",
              "      <th>ANO INICIAL</th>\n",
              "      <th>REGIÃO</th>\n",
              "      <th>PREÇO MÁXIMO DE REVENDA</th>\n",
              "    </tr>\n",
              "  </thead>\n",
              "  <tbody>\n",
              "    <tr>\n",
              "      <th>0</th>\n",
              "      <td>2004</td>\n",
              "      <td>CENTRO OESTE</td>\n",
              "      <td>2.707</td>\n",
              "    </tr>\n",
              "    <tr>\n",
              "      <th>1</th>\n",
              "      <td>2004</td>\n",
              "      <td>NORDESTE</td>\n",
              "      <td>2.457</td>\n",
              "    </tr>\n",
              "    <tr>\n",
              "      <th>2</th>\n",
              "      <td>2004</td>\n",
              "      <td>NORTE</td>\n",
              "      <td>2.639</td>\n",
              "    </tr>\n",
              "    <tr>\n",
              "      <th>3</th>\n",
              "      <td>2004</td>\n",
              "      <td>SUDESTE</td>\n",
              "      <td>2.316</td>\n",
              "    </tr>\n",
              "    <tr>\n",
              "      <th>4</th>\n",
              "      <td>2004</td>\n",
              "      <td>SUL</td>\n",
              "      <td>2.486</td>\n",
              "    </tr>\n",
              "  </tbody>\n",
              "</table>\n",
              "</div>\n",
              "      <button class=\"colab-df-convert\" onclick=\"convertToInteractive('df-2379dcc8-f206-42da-b315-04a36c5557bf')\"\n",
              "              title=\"Convert this dataframe to an interactive table.\"\n",
              "              style=\"display:none;\">\n",
              "        \n",
              "  <svg xmlns=\"http://www.w3.org/2000/svg\" height=\"24px\"viewBox=\"0 0 24 24\"\n",
              "       width=\"24px\">\n",
              "    <path d=\"M0 0h24v24H0V0z\" fill=\"none\"/>\n",
              "    <path d=\"M18.56 5.44l.94 2.06.94-2.06 2.06-.94-2.06-.94-.94-2.06-.94 2.06-2.06.94zm-11 1L8.5 8.5l.94-2.06 2.06-.94-2.06-.94L8.5 2.5l-.94 2.06-2.06.94zm10 10l.94 2.06.94-2.06 2.06-.94-2.06-.94-.94-2.06-.94 2.06-2.06.94z\"/><path d=\"M17.41 7.96l-1.37-1.37c-.4-.4-.92-.59-1.43-.59-.52 0-1.04.2-1.43.59L10.3 9.45l-7.72 7.72c-.78.78-.78 2.05 0 2.83L4 21.41c.39.39.9.59 1.41.59.51 0 1.02-.2 1.41-.59l7.78-7.78 2.81-2.81c.8-.78.8-2.07 0-2.86zM5.41 20L4 18.59l7.72-7.72 1.47 1.35L5.41 20z\"/>\n",
              "  </svg>\n",
              "      </button>\n",
              "      \n",
              "  <style>\n",
              "    .colab-df-container {\n",
              "      display:flex;\n",
              "      flex-wrap:wrap;\n",
              "      gap: 12px;\n",
              "    }\n",
              "\n",
              "    .colab-df-convert {\n",
              "      background-color: #E8F0FE;\n",
              "      border: none;\n",
              "      border-radius: 50%;\n",
              "      cursor: pointer;\n",
              "      display: none;\n",
              "      fill: #1967D2;\n",
              "      height: 32px;\n",
              "      padding: 0 0 0 0;\n",
              "      width: 32px;\n",
              "    }\n",
              "\n",
              "    .colab-df-convert:hover {\n",
              "      background-color: #E2EBFA;\n",
              "      box-shadow: 0px 1px 2px rgba(60, 64, 67, 0.3), 0px 1px 3px 1px rgba(60, 64, 67, 0.15);\n",
              "      fill: #174EA6;\n",
              "    }\n",
              "\n",
              "    [theme=dark] .colab-df-convert {\n",
              "      background-color: #3B4455;\n",
              "      fill: #D2E3FC;\n",
              "    }\n",
              "\n",
              "    [theme=dark] .colab-df-convert:hover {\n",
              "      background-color: #434B5C;\n",
              "      box-shadow: 0px 1px 3px 1px rgba(0, 0, 0, 0.15);\n",
              "      filter: drop-shadow(0px 1px 2px rgba(0, 0, 0, 0.3));\n",
              "      fill: #FFFFFF;\n",
              "    }\n",
              "  </style>\n",
              "\n",
              "      <script>\n",
              "        const buttonEl =\n",
              "          document.querySelector('#df-2379dcc8-f206-42da-b315-04a36c5557bf button.colab-df-convert');\n",
              "        buttonEl.style.display =\n",
              "          google.colab.kernel.accessAllowed ? 'block' : 'none';\n",
              "\n",
              "        async function convertToInteractive(key) {\n",
              "          const element = document.querySelector('#df-2379dcc8-f206-42da-b315-04a36c5557bf');\n",
              "          const dataTable =\n",
              "            await google.colab.kernel.invokeFunction('convertToInteractive',\n",
              "                                                     [key], {});\n",
              "          if (!dataTable) return;\n",
              "\n",
              "          const docLinkHtml = 'Like what you see? Visit the ' +\n",
              "            '<a target=\"_blank\" href=https://colab.research.google.com/notebooks/data_table.ipynb>data table notebook</a>'\n",
              "            + ' to learn more about interactive tables.';\n",
              "          element.innerHTML = '';\n",
              "          dataTable['output_type'] = 'display_data';\n",
              "          await google.colab.output.renderOutput(dataTable, element);\n",
              "          const docLink = document.createElement('div');\n",
              "          docLink.innerHTML = docLinkHtml;\n",
              "          element.appendChild(docLink);\n",
              "        }\n",
              "      </script>\n",
              "    </div>\n",
              "  </div>\n",
              "  "
            ]
          },
          "metadata": {},
          "execution_count": 175
        }
      ]
    },
    {
      "cell_type": "code",
      "source": [
        "dataset_gasolina['PREÇO MÍNIMO DE REVENDA'] = dataset_gasolina_min['PREÇO MÉDIO REVENDA']\n",
        "dataset_gasolina.head()"
      ],
      "metadata": {
        "colab": {
          "base_uri": "https://localhost:8080/",
          "height": 206
        },
        "id": "3iDt0UDiY80q",
        "outputId": "649095d4-a0df-4698-cd89-88ce954d517a"
      },
      "execution_count": null,
      "outputs": [
        {
          "output_type": "execute_result",
          "data": {
            "text/plain": [
              "   ANO INICIAL        REGIÃO  PREÇO MÁXIMO DE REVENDA  PREÇO MÍNIMO DE REVENDA\n",
              "0         2004  CENTRO OESTE                    2.707                    1.936\n",
              "1         2004      NORDESTE                    2.457                    1.949\n",
              "2         2004         NORTE                    2.639                    1.995\n",
              "3         2004       SUDESTE                    2.316                    1.888\n",
              "4         2004           SUL                    2.486                    1.961"
            ],
            "text/html": [
              "\n",
              "  <div id=\"df-c1002ad9-d263-440d-adbb-eabf228c5dad\">\n",
              "    <div class=\"colab-df-container\">\n",
              "      <div>\n",
              "<style scoped>\n",
              "    .dataframe tbody tr th:only-of-type {\n",
              "        vertical-align: middle;\n",
              "    }\n",
              "\n",
              "    .dataframe tbody tr th {\n",
              "        vertical-align: top;\n",
              "    }\n",
              "\n",
              "    .dataframe thead th {\n",
              "        text-align: right;\n",
              "    }\n",
              "</style>\n",
              "<table border=\"1\" class=\"dataframe\">\n",
              "  <thead>\n",
              "    <tr style=\"text-align: right;\">\n",
              "      <th></th>\n",
              "      <th>ANO INICIAL</th>\n",
              "      <th>REGIÃO</th>\n",
              "      <th>PREÇO MÁXIMO DE REVENDA</th>\n",
              "      <th>PREÇO MÍNIMO DE REVENDA</th>\n",
              "    </tr>\n",
              "  </thead>\n",
              "  <tbody>\n",
              "    <tr>\n",
              "      <th>0</th>\n",
              "      <td>2004</td>\n",
              "      <td>CENTRO OESTE</td>\n",
              "      <td>2.707</td>\n",
              "      <td>1.936</td>\n",
              "    </tr>\n",
              "    <tr>\n",
              "      <th>1</th>\n",
              "      <td>2004</td>\n",
              "      <td>NORDESTE</td>\n",
              "      <td>2.457</td>\n",
              "      <td>1.949</td>\n",
              "    </tr>\n",
              "    <tr>\n",
              "      <th>2</th>\n",
              "      <td>2004</td>\n",
              "      <td>NORTE</td>\n",
              "      <td>2.639</td>\n",
              "      <td>1.995</td>\n",
              "    </tr>\n",
              "    <tr>\n",
              "      <th>3</th>\n",
              "      <td>2004</td>\n",
              "      <td>SUDESTE</td>\n",
              "      <td>2.316</td>\n",
              "      <td>1.888</td>\n",
              "    </tr>\n",
              "    <tr>\n",
              "      <th>4</th>\n",
              "      <td>2004</td>\n",
              "      <td>SUL</td>\n",
              "      <td>2.486</td>\n",
              "      <td>1.961</td>\n",
              "    </tr>\n",
              "  </tbody>\n",
              "</table>\n",
              "</div>\n",
              "      <button class=\"colab-df-convert\" onclick=\"convertToInteractive('df-c1002ad9-d263-440d-adbb-eabf228c5dad')\"\n",
              "              title=\"Convert this dataframe to an interactive table.\"\n",
              "              style=\"display:none;\">\n",
              "        \n",
              "  <svg xmlns=\"http://www.w3.org/2000/svg\" height=\"24px\"viewBox=\"0 0 24 24\"\n",
              "       width=\"24px\">\n",
              "    <path d=\"M0 0h24v24H0V0z\" fill=\"none\"/>\n",
              "    <path d=\"M18.56 5.44l.94 2.06.94-2.06 2.06-.94-2.06-.94-.94-2.06-.94 2.06-2.06.94zm-11 1L8.5 8.5l.94-2.06 2.06-.94-2.06-.94L8.5 2.5l-.94 2.06-2.06.94zm10 10l.94 2.06.94-2.06 2.06-.94-2.06-.94-.94-2.06-.94 2.06-2.06.94z\"/><path d=\"M17.41 7.96l-1.37-1.37c-.4-.4-.92-.59-1.43-.59-.52 0-1.04.2-1.43.59L10.3 9.45l-7.72 7.72c-.78.78-.78 2.05 0 2.83L4 21.41c.39.39.9.59 1.41.59.51 0 1.02-.2 1.41-.59l7.78-7.78 2.81-2.81c.8-.78.8-2.07 0-2.86zM5.41 20L4 18.59l7.72-7.72 1.47 1.35L5.41 20z\"/>\n",
              "  </svg>\n",
              "      </button>\n",
              "      \n",
              "  <style>\n",
              "    .colab-df-container {\n",
              "      display:flex;\n",
              "      flex-wrap:wrap;\n",
              "      gap: 12px;\n",
              "    }\n",
              "\n",
              "    .colab-df-convert {\n",
              "      background-color: #E8F0FE;\n",
              "      border: none;\n",
              "      border-radius: 50%;\n",
              "      cursor: pointer;\n",
              "      display: none;\n",
              "      fill: #1967D2;\n",
              "      height: 32px;\n",
              "      padding: 0 0 0 0;\n",
              "      width: 32px;\n",
              "    }\n",
              "\n",
              "    .colab-df-convert:hover {\n",
              "      background-color: #E2EBFA;\n",
              "      box-shadow: 0px 1px 2px rgba(60, 64, 67, 0.3), 0px 1px 3px 1px rgba(60, 64, 67, 0.15);\n",
              "      fill: #174EA6;\n",
              "    }\n",
              "\n",
              "    [theme=dark] .colab-df-convert {\n",
              "      background-color: #3B4455;\n",
              "      fill: #D2E3FC;\n",
              "    }\n",
              "\n",
              "    [theme=dark] .colab-df-convert:hover {\n",
              "      background-color: #434B5C;\n",
              "      box-shadow: 0px 1px 3px 1px rgba(0, 0, 0, 0.15);\n",
              "      filter: drop-shadow(0px 1px 2px rgba(0, 0, 0, 0.3));\n",
              "      fill: #FFFFFF;\n",
              "    }\n",
              "  </style>\n",
              "\n",
              "      <script>\n",
              "        const buttonEl =\n",
              "          document.querySelector('#df-c1002ad9-d263-440d-adbb-eabf228c5dad button.colab-df-convert');\n",
              "        buttonEl.style.display =\n",
              "          google.colab.kernel.accessAllowed ? 'block' : 'none';\n",
              "\n",
              "        async function convertToInteractive(key) {\n",
              "          const element = document.querySelector('#df-c1002ad9-d263-440d-adbb-eabf228c5dad');\n",
              "          const dataTable =\n",
              "            await google.colab.kernel.invokeFunction('convertToInteractive',\n",
              "                                                     [key], {});\n",
              "          if (!dataTable) return;\n",
              "\n",
              "          const docLinkHtml = 'Like what you see? Visit the ' +\n",
              "            '<a target=\"_blank\" href=https://colab.research.google.com/notebooks/data_table.ipynb>data table notebook</a>'\n",
              "            + ' to learn more about interactive tables.';\n",
              "          element.innerHTML = '';\n",
              "          dataTable['output_type'] = 'display_data';\n",
              "          await google.colab.output.renderOutput(dataTable, element);\n",
              "          const docLink = document.createElement('div');\n",
              "          docLink.innerHTML = docLinkHtml;\n",
              "          element.appendChild(docLink);\n",
              "        }\n",
              "      </script>\n",
              "    </div>\n",
              "  </div>\n",
              "  "
            ]
          },
          "metadata": {},
          "execution_count": 176
        }
      ]
    },
    {
      "cell_type": "markdown",
      "source": [
        "Agora vamos adicionar uma coluna com a diferença de preços."
      ],
      "metadata": {
        "id": "kluJAftggxYb"
      }
    },
    {
      "cell_type": "code",
      "source": [
        "dataset_gasolina['DIFERENÇA PREÇOS'] = dataset_gasolina['PREÇO MÁXIMO DE REVENDA'] - dataset_gasolina['PREÇO MÍNIMO DE REVENDA']\n",
        "dataset_gasolina.head()"
      ],
      "metadata": {
        "colab": {
          "base_uri": "https://localhost:8080/",
          "height": 206
        },
        "id": "z7iuFbAjdR7V",
        "outputId": "4232a75a-e3f2-4813-c4e8-dd93f3be4719"
      },
      "execution_count": null,
      "outputs": [
        {
          "output_type": "execute_result",
          "data": {
            "text/plain": [
              "   ANO INICIAL        REGIÃO  PREÇO MÁXIMO DE REVENDA  \\\n",
              "0         2004  CENTRO OESTE                    2.707   \n",
              "1         2004      NORDESTE                    2.457   \n",
              "2         2004         NORTE                    2.639   \n",
              "3         2004       SUDESTE                    2.316   \n",
              "4         2004           SUL                    2.486   \n",
              "\n",
              "   PREÇO MÍNIMO DE REVENDA  DIFERENÇA PREÇOS  \n",
              "0                    1.936             0.771  \n",
              "1                    1.949             0.508  \n",
              "2                    1.995             0.644  \n",
              "3                    1.888             0.428  \n",
              "4                    1.961             0.525  "
            ],
            "text/html": [
              "\n",
              "  <div id=\"df-d5eb4c14-8e99-45e6-a2cf-ab4f0e8696b2\">\n",
              "    <div class=\"colab-df-container\">\n",
              "      <div>\n",
              "<style scoped>\n",
              "    .dataframe tbody tr th:only-of-type {\n",
              "        vertical-align: middle;\n",
              "    }\n",
              "\n",
              "    .dataframe tbody tr th {\n",
              "        vertical-align: top;\n",
              "    }\n",
              "\n",
              "    .dataframe thead th {\n",
              "        text-align: right;\n",
              "    }\n",
              "</style>\n",
              "<table border=\"1\" class=\"dataframe\">\n",
              "  <thead>\n",
              "    <tr style=\"text-align: right;\">\n",
              "      <th></th>\n",
              "      <th>ANO INICIAL</th>\n",
              "      <th>REGIÃO</th>\n",
              "      <th>PREÇO MÁXIMO DE REVENDA</th>\n",
              "      <th>PREÇO MÍNIMO DE REVENDA</th>\n",
              "      <th>DIFERENÇA PREÇOS</th>\n",
              "    </tr>\n",
              "  </thead>\n",
              "  <tbody>\n",
              "    <tr>\n",
              "      <th>0</th>\n",
              "      <td>2004</td>\n",
              "      <td>CENTRO OESTE</td>\n",
              "      <td>2.707</td>\n",
              "      <td>1.936</td>\n",
              "      <td>0.771</td>\n",
              "    </tr>\n",
              "    <tr>\n",
              "      <th>1</th>\n",
              "      <td>2004</td>\n",
              "      <td>NORDESTE</td>\n",
              "      <td>2.457</td>\n",
              "      <td>1.949</td>\n",
              "      <td>0.508</td>\n",
              "    </tr>\n",
              "    <tr>\n",
              "      <th>2</th>\n",
              "      <td>2004</td>\n",
              "      <td>NORTE</td>\n",
              "      <td>2.639</td>\n",
              "      <td>1.995</td>\n",
              "      <td>0.644</td>\n",
              "    </tr>\n",
              "    <tr>\n",
              "      <th>3</th>\n",
              "      <td>2004</td>\n",
              "      <td>SUDESTE</td>\n",
              "      <td>2.316</td>\n",
              "      <td>1.888</td>\n",
              "      <td>0.428</td>\n",
              "    </tr>\n",
              "    <tr>\n",
              "      <th>4</th>\n",
              "      <td>2004</td>\n",
              "      <td>SUL</td>\n",
              "      <td>2.486</td>\n",
              "      <td>1.961</td>\n",
              "      <td>0.525</td>\n",
              "    </tr>\n",
              "  </tbody>\n",
              "</table>\n",
              "</div>\n",
              "      <button class=\"colab-df-convert\" onclick=\"convertToInteractive('df-d5eb4c14-8e99-45e6-a2cf-ab4f0e8696b2')\"\n",
              "              title=\"Convert this dataframe to an interactive table.\"\n",
              "              style=\"display:none;\">\n",
              "        \n",
              "  <svg xmlns=\"http://www.w3.org/2000/svg\" height=\"24px\"viewBox=\"0 0 24 24\"\n",
              "       width=\"24px\">\n",
              "    <path d=\"M0 0h24v24H0V0z\" fill=\"none\"/>\n",
              "    <path d=\"M18.56 5.44l.94 2.06.94-2.06 2.06-.94-2.06-.94-.94-2.06-.94 2.06-2.06.94zm-11 1L8.5 8.5l.94-2.06 2.06-.94-2.06-.94L8.5 2.5l-.94 2.06-2.06.94zm10 10l.94 2.06.94-2.06 2.06-.94-2.06-.94-.94-2.06-.94 2.06-2.06.94z\"/><path d=\"M17.41 7.96l-1.37-1.37c-.4-.4-.92-.59-1.43-.59-.52 0-1.04.2-1.43.59L10.3 9.45l-7.72 7.72c-.78.78-.78 2.05 0 2.83L4 21.41c.39.39.9.59 1.41.59.51 0 1.02-.2 1.41-.59l7.78-7.78 2.81-2.81c.8-.78.8-2.07 0-2.86zM5.41 20L4 18.59l7.72-7.72 1.47 1.35L5.41 20z\"/>\n",
              "  </svg>\n",
              "      </button>\n",
              "      \n",
              "  <style>\n",
              "    .colab-df-container {\n",
              "      display:flex;\n",
              "      flex-wrap:wrap;\n",
              "      gap: 12px;\n",
              "    }\n",
              "\n",
              "    .colab-df-convert {\n",
              "      background-color: #E8F0FE;\n",
              "      border: none;\n",
              "      border-radius: 50%;\n",
              "      cursor: pointer;\n",
              "      display: none;\n",
              "      fill: #1967D2;\n",
              "      height: 32px;\n",
              "      padding: 0 0 0 0;\n",
              "      width: 32px;\n",
              "    }\n",
              "\n",
              "    .colab-df-convert:hover {\n",
              "      background-color: #E2EBFA;\n",
              "      box-shadow: 0px 1px 2px rgba(60, 64, 67, 0.3), 0px 1px 3px 1px rgba(60, 64, 67, 0.15);\n",
              "      fill: #174EA6;\n",
              "    }\n",
              "\n",
              "    [theme=dark] .colab-df-convert {\n",
              "      background-color: #3B4455;\n",
              "      fill: #D2E3FC;\n",
              "    }\n",
              "\n",
              "    [theme=dark] .colab-df-convert:hover {\n",
              "      background-color: #434B5C;\n",
              "      box-shadow: 0px 1px 3px 1px rgba(0, 0, 0, 0.15);\n",
              "      filter: drop-shadow(0px 1px 2px rgba(0, 0, 0, 0.3));\n",
              "      fill: #FFFFFF;\n",
              "    }\n",
              "  </style>\n",
              "\n",
              "      <script>\n",
              "        const buttonEl =\n",
              "          document.querySelector('#df-d5eb4c14-8e99-45e6-a2cf-ab4f0e8696b2 button.colab-df-convert');\n",
              "        buttonEl.style.display =\n",
              "          google.colab.kernel.accessAllowed ? 'block' : 'none';\n",
              "\n",
              "        async function convertToInteractive(key) {\n",
              "          const element = document.querySelector('#df-d5eb4c14-8e99-45e6-a2cf-ab4f0e8696b2');\n",
              "          const dataTable =\n",
              "            await google.colab.kernel.invokeFunction('convertToInteractive',\n",
              "                                                     [key], {});\n",
              "          if (!dataTable) return;\n",
              "\n",
              "          const docLinkHtml = 'Like what you see? Visit the ' +\n",
              "            '<a target=\"_blank\" href=https://colab.research.google.com/notebooks/data_table.ipynb>data table notebook</a>'\n",
              "            + ' to learn more about interactive tables.';\n",
              "          element.innerHTML = '';\n",
              "          dataTable['output_type'] = 'display_data';\n",
              "          await google.colab.output.renderOutput(dataTable, element);\n",
              "          const docLink = document.createElement('div');\n",
              "          docLink.innerHTML = docLinkHtml;\n",
              "          element.appendChild(docLink);\n",
              "        }\n",
              "      </script>\n",
              "    </div>\n",
              "  </div>\n",
              "  "
            ]
          },
          "metadata": {},
          "execution_count": 177
        }
      ]
    },
    {
      "cell_type": "markdown",
      "source": [
        "Plotar a diferença de preço entre as médias mínimas e máximas"
      ],
      "metadata": {
        "id": "8v5vF7FyfEFC"
      }
    },
    {
      "cell_type": "code",
      "source": [
        "x1=dataset_gasolina.query(\"REGIÃO == 'NORTE'\")['ANO INICIAL']\n",
        "x2=dataset_gasolina.query(\"REGIÃO == 'NORDESTE'\")['ANO INICIAL']\n",
        "x3=dataset_gasolina.query(\"REGIÃO == 'CENTRO OESTE'\")['ANO INICIAL']\n",
        "x4=dataset_gasolina.query(\"REGIÃO == 'SUDESTE'\")['ANO INICIAL']\n",
        "x5=dataset_gasolina.query(\"REGIÃO == 'SUL'\")['ANO INICIAL']\n",
        "\n",
        "y1=dataset_gasolina.query(\"REGIÃO == 'NORTE'\")['DIFERENÇA PREÇOS']\n",
        "y2=dataset_gasolina.query(\"REGIÃO == 'NORDESTE'\")['DIFERENÇA PREÇOS']\n",
        "y3=dataset_gasolina.query(\"REGIÃO == 'CENTRO OESTE'\")['DIFERENÇA PREÇOS']\n",
        "y4=dataset_gasolina.query(\"REGIÃO == 'SUDESTE'\")['DIFERENÇA PREÇOS']\n",
        "y5=dataset_gasolina.query(\"REGIÃO == 'SUL'\")['DIFERENÇA PREÇOS']\n",
        "\n",
        "plt.figure(figsize=(10, 6))\n",
        "plt.plot(x1,y1)\n",
        "plt.plot(x2,y2)\n",
        "plt.plot(x3,y3)\n",
        "plt.plot(x4,y4)\n",
        "plt.plot(x5,y5)\n",
        "\n",
        "plt.legend(['NORTE', 'NORDESTE', 'CENTRO OESTE', 'SUDESTE', 'SUL']);\n",
        "plt.xlabel('Ano')\n",
        "plt.ylabel('Diferença de Preço Médio de Revenda')\n",
        "plt.title('Variação de preço regional da Gasolina Comum de acordo com os anos')\n",
        "\n",
        "plt.show()"
      ],
      "metadata": {
        "colab": {
          "base_uri": "https://localhost:8080/",
          "height": 404
        },
        "id": "GeXhok0Oe-yY",
        "outputId": "fa79aeea-0ac3-4f8b-ae94-e03199bfe781"
      },
      "execution_count": null,
      "outputs": [
        {
          "output_type": "display_data",
          "data": {
            "text/plain": [
              "<Figure size 720x432 with 1 Axes>"
            ],
            "image/png": "[encoded data removed]"
          },
          "metadata": {
            "needs_background": "light"
          }
        }
      ]
    },
    {
      "cell_type": "markdown",
      "source": [
        "Dado o gráfico é possivel ver que:\n",
        " - A região Norte teve maior variação de preço de gasolina perante os demais\n",
        " - Por conta da inflação a variação tambem teve uma tendencia de alta"
      ],
      "metadata": {
        "id": "YQIAEZ_sg6md"
      }
    },
    {
      "cell_type": "markdown",
      "source": [
        "## 5.0 CONCLUSÕES"
      ],
      "metadata": {
        "id": "CUNhTv8GkU20"
      }
    },
    {
      "cell_type": "markdown",
      "source": [
        "ps.: Vou deixar aqui embaixo um texto exemplo de conclusão que fiz um tempo atrás a respeito de análise de dataset:\n",
        "\n",
        "O presente trabalho mostrou algumas análises interessantes a respeito do dataset retirado do site do SUS. Foi mostrado que o Brasil vem passando por períodos endêmicos durante sua história o que culminou em variação de sua população e quantidade de óbitos.\n",
        "\n",
        "O banco de dados retirado, vem analisar as consequências da passagem da Covid-19 durante o período de 2020/2021, a qual ainda não foi firmada como finalizada.\n",
        "\n",
        "As análises por região nos mostra um padrão a respeito da queda de internações registradas no inicio de 2020 e consequente aumento de óbitos, representando assim a chegada da primeira onda da pandemia. Logo após, a primeira e segunda onda de mortes foram analisadas mais de perto através de recorte no gráfico, o que chegou-se na conclusão que a curva de internações da segunda onda não caiu tal qual a primeira, pois foram construídos hospitais de campanha em todo país.\n",
        "\n",
        "Em terceiro, foi investigada a sazonalidade dos óbitos no país, durante período não-anômalos. Chegou-se a conclusão que de Dezembro a Fevereiro, o índice de mortes e internações declina em relação a média no restante do ano.\n",
        "\n",
        "Por fim, foi analisada a relação de internações e óbitos de Pernambuco em relação aos demais estados do Nordeste.\n",
        "\n",
        "Olhando pelo lado técnico, o presente trabalho utilizou retirada de dados a partir de dois arquivos CSV. Os DataFrame criados foram previamente filtrados de modo que apenas as informações relevantes estivessem presentes, além de que os dados não colhidos (representado por um hífen) foram substituídos pela função NaN (Not-a-number) de modo que a biblioteca Pandas pudesse lê-lo sem problemas.\n",
        "\n",
        "Para plotagem de gráficos, a biblioteca Matplotlib foi utilizada de modo a alterar as vizualizações deixando-as claras e objetivas para o leitor."
      ],
      "metadata": {
        "id": "fApvd_Rgkn_4"
      }
    },
    {
      "cell_type": "markdown",
      "source": [
        "## 6.0 REFERÊNCIAS\n",
        "\n",
        " - [Kaggle](https://www.kaggle.com/datasets/matheusfreitag/gas-prices-in-brazil)\n",
        " - [Governo](https://www.gov.br/anp/pt-br/assuntos/precos-e-defesa-da-concorrencia/precos/precos-revenda-e-de-distribuicao-combustiveis)"
      ],
      "metadata": {
        "id": "uj9jAjtik25A"
      }
    },
    {
      "cell_type": "markdown",
      "source": [
        "---"
      ],
      "metadata": {
        "id": "J1MGMAFr8NLl"
      }
    },
    {
      "cell_type": "markdown",
      "source": [
        "SAIBA MAIS"
      ],
      "metadata": {
        "id": "bFfetdxx9k3x"
      }
    },
    {
      "cell_type": "code",
      "source": [
        "# OBSERVAÇÃO\n",
        "# Antes de removermos as linhas NaN, nós tentamos inicialmente substituir seus valores por None. \n",
        "# Curiosamente quando realizamos um replace para None, estes valores acabam recebendo o valor da linha superior. \n",
        "# Vamos fazer um exemplo pequeno e prático abaixo\n",
        "\n",
        "# '-999999.0'\n",
        "# dataset_gas.iloc[120764]\n",
        "\n",
        "# '-'\n",
        "# dataset_gas.iloc[1903]\n",
        "\n",
        "# '-999999.0'\n",
        "# dataset_gas.iloc[120768, 15]"
      ],
      "metadata": {
        "id": "dM14C192L93C"
      },
      "execution_count": null,
      "outputs": []
    },
    {
      "cell_type": "code",
      "source": [
        "data = [['-', 2, 3], [4, '-', 6], [7, 8, '-']]\n",
        "\n",
        "df = pd.DataFrame(data, columns=[\"A\", \"B\", \"C\"])\n",
        "df"
      ],
      "metadata": {
        "colab": {
          "base_uri": "https://localhost:8080/",
          "height": 143
        },
        "id": "BwwHLYST8jKw",
        "outputId": "10043dcd-24df-4af1-91b9-5a3c565a1a51"
      },
      "execution_count": null,
      "outputs": [
        {
          "output_type": "execute_result",
          "data": {
            "text/plain": [
              "   A  B  C\n",
              "0  -  2  3\n",
              "1  4  -  6\n",
              "2  7  8  -"
            ],
            "text/html": [
              "\n",
              "  <div id=\"df-95af3a6f-8fac-451d-b1c7-7f0836c31759\">\n",
              "    <div class=\"colab-df-container\">\n",
              "      <div>\n",
              "<style scoped>\n",
              "    .dataframe tbody tr th:only-of-type {\n",
              "        vertical-align: middle;\n",
              "    }\n",
              "\n",
              "    .dataframe tbody tr th {\n",
              "        vertical-align: top;\n",
              "    }\n",
              "\n",
              "    .dataframe thead th {\n",
              "        text-align: right;\n",
              "    }\n",
              "</style>\n",
              "<table border=\"1\" class=\"dataframe\">\n",
              "  <thead>\n",
              "    <tr style=\"text-align: right;\">\n",
              "      <th></th>\n",
              "      <th>A</th>\n",
              "      <th>B</th>\n",
              "      <th>C</th>\n",
              "    </tr>\n",
              "  </thead>\n",
              "  <tbody>\n",
              "    <tr>\n",
              "      <th>0</th>\n",
              "      <td>-</td>\n",
              "      <td>2</td>\n",
              "      <td>3</td>\n",
              "    </tr>\n",
              "    <tr>\n",
              "      <th>1</th>\n",
              "      <td>4</td>\n",
              "      <td>-</td>\n",
              "      <td>6</td>\n",
              "    </tr>\n",
              "    <tr>\n",
              "      <th>2</th>\n",
              "      <td>7</td>\n",
              "      <td>8</td>\n",
              "      <td>-</td>\n",
              "    </tr>\n",
              "  </tbody>\n",
              "</table>\n",
              "</div>\n",
              "      <button class=\"colab-df-convert\" onclick=\"convertToInteractive('df-95af3a6f-8fac-451d-b1c7-7f0836c31759')\"\n",
              "              title=\"Convert this dataframe to an interactive table.\"\n",
              "              style=\"display:none;\">\n",
              "        \n",
              "  <svg xmlns=\"http://www.w3.org/2000/svg\" height=\"24px\"viewBox=\"0 0 24 24\"\n",
              "       width=\"24px\">\n",
              "    <path d=\"M0 0h24v24H0V0z\" fill=\"none\"/>\n",
              "    <path d=\"M18.56 5.44l.94 2.06.94-2.06 2.06-.94-2.06-.94-.94-2.06-.94 2.06-2.06.94zm-11 1L8.5 8.5l.94-2.06 2.06-.94-2.06-.94L8.5 2.5l-.94 2.06-2.06.94zm10 10l.94 2.06.94-2.06 2.06-.94-2.06-.94-.94-2.06-.94 2.06-2.06.94z\"/><path d=\"M17.41 7.96l-1.37-1.37c-.4-.4-.92-.59-1.43-.59-.52 0-1.04.2-1.43.59L10.3 9.45l-7.72 7.72c-.78.78-.78 2.05 0 2.83L4 21.41c.39.39.9.59 1.41.59.51 0 1.02-.2 1.41-.59l7.78-7.78 2.81-2.81c.8-.78.8-2.07 0-2.86zM5.41 20L4 18.59l7.72-7.72 1.47 1.35L5.41 20z\"/>\n",
              "  </svg>\n",
              "      </button>\n",
              "      \n",
              "  <style>\n",
              "    .colab-df-container {\n",
              "      display:flex;\n",
              "      flex-wrap:wrap;\n",
              "      gap: 12px;\n",
              "    }\n",
              "\n",
              "    .colab-df-convert {\n",
              "      background-color: #E8F0FE;\n",
              "      border: none;\n",
              "      border-radius: 50%;\n",
              "      cursor: pointer;\n",
              "      display: none;\n",
              "      fill: #1967D2;\n",
              "      height: 32px;\n",
              "      padding: 0 0 0 0;\n",
              "      width: 32px;\n",
              "    }\n",
              "\n",
              "    .colab-df-convert:hover {\n",
              "      background-color: #E2EBFA;\n",
              "      box-shadow: 0px 1px 2px rgba(60, 64, 67, 0.3), 0px 1px 3px 1px rgba(60, 64, 67, 0.15);\n",
              "      fill: #174EA6;\n",
              "    }\n",
              "\n",
              "    [theme=dark] .colab-df-convert {\n",
              "      background-color: #3B4455;\n",
              "      fill: #D2E3FC;\n",
              "    }\n",
              "\n",
              "    [theme=dark] .colab-df-convert:hover {\n",
              "      background-color: #434B5C;\n",
              "      box-shadow: 0px 1px 3px 1px rgba(0, 0, 0, 0.15);\n",
              "      filter: drop-shadow(0px 1px 2px rgba(0, 0, 0, 0.3));\n",
              "      fill: #FFFFFF;\n",
              "    }\n",
              "  </style>\n",
              "\n",
              "      <script>\n",
              "        const buttonEl =\n",
              "          document.querySelector('#df-95af3a6f-8fac-451d-b1c7-7f0836c31759 button.colab-df-convert');\n",
              "        buttonEl.style.display =\n",
              "          google.colab.kernel.accessAllowed ? 'block' : 'none';\n",
              "\n",
              "        async function convertToInteractive(key) {\n",
              "          const element = document.querySelector('#df-95af3a6f-8fac-451d-b1c7-7f0836c31759');\n",
              "          const dataTable =\n",
              "            await google.colab.kernel.invokeFunction('convertToInteractive',\n",
              "                                                     [key], {});\n",
              "          if (!dataTable) return;\n",
              "\n",
              "          const docLinkHtml = 'Like what you see? Visit the ' +\n",
              "            '<a target=\"_blank\" href=https://colab.research.google.com/notebooks/data_table.ipynb>data table notebook</a>'\n",
              "            + ' to learn more about interactive tables.';\n",
              "          element.innerHTML = '';\n",
              "          dataTable['output_type'] = 'display_data';\n",
              "          await google.colab.output.renderOutput(dataTable, element);\n",
              "          const docLink = document.createElement('div');\n",
              "          docLink.innerHTML = docLinkHtml;\n",
              "          element.appendChild(docLink);\n",
              "        }\n",
              "      </script>\n",
              "    </div>\n",
              "  </div>\n",
              "  "
            ]
          },
          "metadata": {},
          "execution_count": 37
        }
      ]
    },
    {
      "cell_type": "code",
      "source": [
        "df = df.replace('-', None)\n",
        "df"
      ],
      "metadata": {
        "colab": {
          "base_uri": "https://localhost:8080/",
          "height": 143
        },
        "id": "nnpSf4T981Ho",
        "outputId": "eafa77a0-7208-4e1b-dba3-1a6ec6ab5405"
      },
      "execution_count": null,
      "outputs": [
        {
          "output_type": "execute_result",
          "data": {
            "text/plain": [
              "   A  B  C\n",
              "0  -  2  3\n",
              "1  4  2  6\n",
              "2  7  8  6"
            ],
            "text/html": [
              "\n",
              "  <div id=\"df-30fcbadf-98b6-4ee3-a860-3371dce1e3d7\">\n",
              "    <div class=\"colab-df-container\">\n",
              "      <div>\n",
              "<style scoped>\n",
              "    .dataframe tbody tr th:only-of-type {\n",
              "        vertical-align: middle;\n",
              "    }\n",
              "\n",
              "    .dataframe tbody tr th {\n",
              "        vertical-align: top;\n",
              "    }\n",
              "\n",
              "    .dataframe thead th {\n",
              "        text-align: right;\n",
              "    }\n",
              "</style>\n",
              "<table border=\"1\" class=\"dataframe\">\n",
              "  <thead>\n",
              "    <tr style=\"text-align: right;\">\n",
              "      <th></th>\n",
              "      <th>A</th>\n",
              "      <th>B</th>\n",
              "      <th>C</th>\n",
              "    </tr>\n",
              "  </thead>\n",
              "  <tbody>\n",
              "    <tr>\n",
              "      <th>0</th>\n",
              "      <td>-</td>\n",
              "      <td>2</td>\n",
              "      <td>3</td>\n",
              "    </tr>\n",
              "    <tr>\n",
              "      <th>1</th>\n",
              "      <td>4</td>\n",
              "      <td>2</td>\n",
              "      <td>6</td>\n",
              "    </tr>\n",
              "    <tr>\n",
              "      <th>2</th>\n",
              "      <td>7</td>\n",
              "      <td>8</td>\n",
              "      <td>6</td>\n",
              "    </tr>\n",
              "  </tbody>\n",
              "</table>\n",
              "</div>\n",
              "      <button class=\"colab-df-convert\" onclick=\"convertToInteractive('df-30fcbadf-98b6-4ee3-a860-3371dce1e3d7')\"\n",
              "              title=\"Convert this dataframe to an interactive table.\"\n",
              "              style=\"display:none;\">\n",
              "        \n",
              "  <svg xmlns=\"http://www.w3.org/2000/svg\" height=\"24px\"viewBox=\"0 0 24 24\"\n",
              "       width=\"24px\">\n",
              "    <path d=\"M0 0h24v24H0V0z\" fill=\"none\"/>\n",
              "    <path d=\"M18.56 5.44l.94 2.06.94-2.06 2.06-.94-2.06-.94-.94-2.06-.94 2.06-2.06.94zm-11 1L8.5 8.5l.94-2.06 2.06-.94-2.06-.94L8.5 2.5l-.94 2.06-2.06.94zm10 10l.94 2.06.94-2.06 2.06-.94-2.06-.94-.94-2.06-.94 2.06-2.06.94z\"/><path d=\"M17.41 7.96l-1.37-1.37c-.4-.4-.92-.59-1.43-.59-.52 0-1.04.2-1.43.59L10.3 9.45l-7.72 7.72c-.78.78-.78 2.05 0 2.83L4 21.41c.39.39.9.59 1.41.59.51 0 1.02-.2 1.41-.59l7.78-7.78 2.81-2.81c.8-.78.8-2.07 0-2.86zM5.41 20L4 18.59l7.72-7.72 1.47 1.35L5.41 20z\"/>\n",
              "  </svg>\n",
              "      </button>\n",
              "      \n",
              "  <style>\n",
              "    .colab-df-container {\n",
              "      display:flex;\n",
              "      flex-wrap:wrap;\n",
              "      gap: 12px;\n",
              "    }\n",
              "\n",
              "    .colab-df-convert {\n",
              "      background-color: #E8F0FE;\n",
              "      border: none;\n",
              "      border-radius: 50%;\n",
              "      cursor: pointer;\n",
              "      display: none;\n",
              "      fill: #1967D2;\n",
              "      height: 32px;\n",
              "      padding: 0 0 0 0;\n",
              "      width: 32px;\n",
              "    }\n",
              "\n",
              "    .colab-df-convert:hover {\n",
              "      background-color: #E2EBFA;\n",
              "      box-shadow: 0px 1px 2px rgba(60, 64, 67, 0.3), 0px 1px 3px 1px rgba(60, 64, 67, 0.15);\n",
              "      fill: #174EA6;\n",
              "    }\n",
              "\n",
              "    [theme=dark] .colab-df-convert {\n",
              "      background-color: #3B4455;\n",
              "      fill: #D2E3FC;\n",
              "    }\n",
              "\n",
              "    [theme=dark] .colab-df-convert:hover {\n",
              "      background-color: #434B5C;\n",
              "      box-shadow: 0px 1px 3px 1px rgba(0, 0, 0, 0.15);\n",
              "      filter: drop-shadow(0px 1px 2px rgba(0, 0, 0, 0.3));\n",
              "      fill: #FFFFFF;\n",
              "    }\n",
              "  </style>\n",
              "\n",
              "      <script>\n",
              "        const buttonEl =\n",
              "          document.querySelector('#df-30fcbadf-98b6-4ee3-a860-3371dce1e3d7 button.colab-df-convert');\n",
              "        buttonEl.style.display =\n",
              "          google.colab.kernel.accessAllowed ? 'block' : 'none';\n",
              "\n",
              "        async function convertToInteractive(key) {\n",
              "          const element = document.querySelector('#df-30fcbadf-98b6-4ee3-a860-3371dce1e3d7');\n",
              "          const dataTable =\n",
              "            await google.colab.kernel.invokeFunction('convertToInteractive',\n",
              "                                                     [key], {});\n",
              "          if (!dataTable) return;\n",
              "\n",
              "          const docLinkHtml = 'Like what you see? Visit the ' +\n",
              "            '<a target=\"_blank\" href=https://colab.research.google.com/notebooks/data_table.ipynb>data table notebook</a>'\n",
              "            + ' to learn more about interactive tables.';\n",
              "          element.innerHTML = '';\n",
              "          dataTable['output_type'] = 'display_data';\n",
              "          await google.colab.output.renderOutput(dataTable, element);\n",
              "          const docLink = document.createElement('div');\n",
              "          docLink.innerHTML = docLinkHtml;\n",
              "          element.appendChild(docLink);\n",
              "        }\n",
              "      </script>\n",
              "    </div>\n",
              "  </div>\n",
              "  "
            ]
          },
          "metadata": {},
          "execution_count": 38
        }
      ]
    },
    {
      "cell_type": "markdown",
      "source": [
        "---"
      ],
      "metadata": {
        "id": "7wOUnFEJ8OkD"
      }
    }
  ]
}